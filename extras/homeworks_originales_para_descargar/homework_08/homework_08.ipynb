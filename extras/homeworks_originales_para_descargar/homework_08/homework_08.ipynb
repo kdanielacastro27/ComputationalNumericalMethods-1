{
 "cells": [
  {
   "cell_type": "markdown",
   "id": "exceptional-sunglasses",
   "metadata": {},
   "source": [
    "# Homework\n"
   ]
  },
  {
   "cell_type": "markdown",
   "id": "contemporary-recording",
   "metadata": {},
   "source": [
    "#### a) Implement Euler procedure numerically to find y(x) from:\n",
    "$$ \\frac{dy}{dx} = yx^2 -1.2y $$\n",
    "\n",
    "* the initial condition is: y(0)=1 over the interval [0,2] \n",
    "* the range of x is actually the interval [0,2]\n",
    "* plot the y(x) for h=0.5\n",
    "* on the same plot compare it with the analytical solution of this differential equation, which is: $$y(x) = e^{x^3/3 -1.2x} $$\n",
    "\n",
    "HINTS:\n",
    "- think of the problem in terms of vectors $x$ and $y$.\n",
    "- in the loop refer to the indices of $x_i$, $y_i$ and the function $f(x_i,y_i)$\n",
    "- you can use np.arange to define your vector $x$ based on h and range\n",
    "- you can use np.zeros to initialize $y$, remember to set y[0]=1\n",
    "\n",
    "https://numpy.org/doc/stable/reference/generated/numpy.arange.html\n",
    "\n",
    "y=np.zeros(len(x))   \n",
    "y[0]=1\n",
    "\n",
    "ASK YOURSELF:\n",
    "\n",
    "* what if the range changes to [-2,2] and so the initial condition: \n",
    "x(0)=-2, y(0)=0.76\n",
    "* is your code still working?\n",
    "* can you easily change h?\n",
    "\n",
    "\n",
    "\n",
    "#### b) write a function euler_int() that accepts four arguments and returns two\n",
    "\n",
    "x,y=euler_int(func,intrange,h,yinit)\n",
    "\n",
    "intrange[0,2]\n",
    "where func() is:\n",
    "\n",
    "def func(xi,yi):\n",
    "    return\n",
    "\n",
    "\n",
    "and test your code by running the cell below. Compare with the plot below"
   ]
  },
  {
   "cell_type": "code",
   "execution_count": 1,
   "id": "handed-uganda",
   "metadata": {},
   "outputs": [
    {
     "ename": "NameError",
     "evalue": "name 'euler_int' is not defined",
     "output_type": "error",
     "traceback": [
      "\u001b[0;31m---------------------------------------------------------------------------\u001b[0m",
      "\u001b[0;31mNameError\u001b[0m                                 Traceback (most recent call last)",
      "\u001b[0;32m<ipython-input-1-fcabc3783964>\u001b[0m in \u001b[0;36m<module>\u001b[0;34m\u001b[0m\n\u001b[1;32m      5\u001b[0m \u001b[0mh\u001b[0m\u001b[0;34m=\u001b[0m\u001b[0;36m0.5\u001b[0m\u001b[0;34m\u001b[0m\u001b[0;34m\u001b[0m\u001b[0m\n\u001b[1;32m      6\u001b[0m \u001b[0myinit\u001b[0m\u001b[0;34m=\u001b[0m\u001b[0;36m0.76\u001b[0m\u001b[0;34m\u001b[0m\u001b[0;34m\u001b[0m\u001b[0m\n\u001b[0;32m----> 7\u001b[0;31m \u001b[0mx1\u001b[0m\u001b[0;34m,\u001b[0m\u001b[0my1\u001b[0m\u001b[0;34m=\u001b[0m\u001b[0meuler_int\u001b[0m\u001b[0;34m(\u001b[0m\u001b[0mfunc\u001b[0m\u001b[0;34m,\u001b[0m\u001b[0mintrange\u001b[0m\u001b[0;34m,\u001b[0m\u001b[0mh\u001b[0m\u001b[0;34m,\u001b[0m\u001b[0myinit\u001b[0m\u001b[0;34m)\u001b[0m\u001b[0;34m\u001b[0m\u001b[0;34m\u001b[0m\u001b[0m\n\u001b[0m\u001b[1;32m      8\u001b[0m \u001b[0max\u001b[0m\u001b[0;34m.\u001b[0m\u001b[0mplot\u001b[0m\u001b[0;34m(\u001b[0m\u001b[0mx1\u001b[0m\u001b[0;34m,\u001b[0m\u001b[0my1\u001b[0m\u001b[0;34m,\u001b[0m\u001b[0;34m'-r'\u001b[0m\u001b[0;34m,\u001b[0m\u001b[0mlabel\u001b[0m\u001b[0;34m=\u001b[0m\u001b[0;34m'h=0.5'\u001b[0m\u001b[0;34m)\u001b[0m\u001b[0;34m\u001b[0m\u001b[0;34m\u001b[0m\u001b[0m\n\u001b[1;32m      9\u001b[0m \u001b[0;34m\u001b[0m\u001b[0m\n",
      "\u001b[0;31mNameError\u001b[0m: name 'euler_int' is not defined"
     ]
    },
    {
     "data": {
      "image/png": "[encoded data removed]",
      "text/plain": [
       "<Figure size 432x288 with 1 Axes>"
      ]
     },
     "metadata": {
      "needs_background": "light"
     },
     "output_type": "display_data"
    }
   ],
   "source": [
    "import matplotlib.pyplot as plt\n",
    "fig,ax=plt.subplots(1,1)\n",
    "\n",
    "intrange=[-2.0,2.0]\n",
    "h=0.5\n",
    "yinit=0.76\n",
    "x1,y1=euler_int(func,intrange,h,yinit)\n",
    "ax.plot(x1,y1,'-r',label='h=0.5')\n",
    "\n",
    "intrange=[-2.0,2.0]\n",
    "h=0.25\n",
    "yinit=0.76\n",
    "x2,y2=euler_int(func,intrange,h,yinit)\n",
    "ax.plot(x2,y2,'-b',label='h=0.25')\n",
    "\n",
    "intrange=[-2.0,2.0]\n",
    "h=0.05\n",
    "yinit=0.76\n",
    "x3,y3=euler_int(func,intrange,h,yinit)\n",
    "ax.plot(x3,y3,'-g',label='h=0.05')\n",
    "\n",
    "xexact=np.linspace(intrange[0],intrange[-1],101)\n",
    "yexact=np.exp((xexact**3)/3-1.2*xexact)\n",
    "ax.plot(xexact,yexact,'-k',label='exact')\n",
    "\n",
    "ax.set_xlabel('x')\n",
    "ax.set_ylabel('ode')\n",
    "ax.legend()\n",
    "#plt.show()"
   ]
  },
  {
   "cell_type": "markdown",
   "id": "d08109a9",
   "metadata": {},
   "source": [
    "# Solve the same differential equation\n",
    "\n",
    "$$ \\frac{dy}{dx} = yx^2 -1.2y $$\n",
    "\n",
    "with identical initial conditions, but using\n",
    "\n",
    "* `scipy.integrate.odeint()`\n",
    "* `scipy.integrate.solve_ivp()`\n",
    "\n",
    "compare the results"
   ]
  }
 ],
 "metadata": {
  "kernelspec": {
   "display_name": "Python 3",
   "language": "python",
   "name": "python3"
  },
  "language_info": {
   "codemirror_mode": {
    "name": "ipython",
    "version": 3
   },
   "file_extension": ".py",
   "mimetype": "text/x-python",
   "name": "python",
   "nbconvert_exporter": "python",
   "pygments_lexer": "ipython3",
   "version": "3.7.2"
  }
 },
 "nbformat": 4,
 "nbformat_minor": 5
}

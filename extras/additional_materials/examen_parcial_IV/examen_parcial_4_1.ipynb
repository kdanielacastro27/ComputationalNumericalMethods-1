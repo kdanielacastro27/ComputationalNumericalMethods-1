{
 "cells": [
  {
   "cell_type": "markdown",
   "id": "impossible-command",
   "metadata": {},
   "source": [
    "# Examen parcial 4  $\\color{red}{\\text{(10p max)}}$ (Equaciones diferenciales)\n",
    "* Antes de enviar el archivo, $\\textbf{reiniciar y ejecutar el kernel}$ y ver que el archivo se compila sin errores\n",
    "* enviar el archivo jupyter sin anexos antes de las 10.20am del 28.09.2022 a mi dirección de correo electrónico: michal.hemmerling@udea.edu.co "
   ]
  },
  {
   "cell_type": "markdown",
   "id": "focused-michigan",
   "metadata": {},
   "source": [
    "## Ejercicio 1. $\\color{red}{\\text{(3p)}}$ Equaciones diferenciales - problema de valor de limite (boundary value problem).\n",
    "\n",
    "Transporte de calor en un objeto puede ser escrito usando segunda orden equacion diferencial:\n",
    "$$\\frac{d^2T}{dx^2}=0.01T-0.2$$\n",
    "a) Usando `scipy.integrate.solve_bvp` resolver este equacion diferencial cumpliendo siguientes condiciones de limite:\n",
    "\n",
    "T(x=0)=40  \n",
    "T(x=10)=200\n",
    "\n",
    "b) Hace grafico de T(x) vs x (con etiquietas y legend) "
   ]
  },
  {
   "cell_type": "markdown",
   "id": "sized-liberty",
   "metadata": {},
   "source": [
    "## Ejercicio 2.  $\\color{red}{\\text{(4p)}}$ Ecuaciones diferenciales - problema de valor inicial (initial value problem).\n",
    "\n",
    "La ley de Newton del enfriamiento tiene forma de ecuación diferencial\n",
    "\n",
    "$$\\frac{dy}{dt}=k(y-T_{amb}) $$\n",
    "\n",
    "\n",
    "donde:\n",
    "* y es la temperatura actual de un objeto\n",
    "* t es tiempo\n",
    "* k es un valor constante de enfriamiento\n",
    "* $T_{amb}$ es la temperatura del ambiente\n",
    "\n",
    "Digamos que una taza de café tiene una temperatura inicial de 90 centígrados y la temperatura ambiente es de 25 centígrados.\n",
    "\n",
    "a) usando `scipy.integrate.solve_ivp` resolver ecuación diferencial:\n",
    "\n",
    "* para el rango t: t=[0:60], [minutos] (use 100 puntos)\n",
    "* asumir k=-0.06\n",
    "\n",
    "b) Hace grafico de $y(t)$ vs $t$ (con leyenda)\n",
    "* si le gusta tomar café cuando está a más de 70 grados, ¿cuál es el tiempo máximo que puede esperar antes de beber el café (puede obtener índices usando `np.argwhere` para obtener un rango de temperatura más preciso)"
   ]
  },
  {
   "cell_type": "markdown",
   "id": "growing-acceptance",
   "metadata": {},
   "source": [
    "## Ejercicio 3.  $\\color{red}{\\text{(3p)}}$ Equaciones diferenciales - problema de valor de limite (boundary value problem).\n",
    "\n",
    "Los organizadores de un espectáculo de fuegos artificiales quieren que los fuegos exploten a 40 metros sobre el suelo 5 segundos después del lanzamiento. Encuentra la velocidad inicial del cohete. \n",
    "\n",
    "a) usar ecuacion diferencial segunda orden:\n",
    "\n",
    "$$\\frac{d^2y}{dt^2}= −g $$\n",
    "\n",
    "donde $y$ es altitud de cohete y,   \n",
    "\n",
    "b) hacer plot $y(t)$ vs $t$\n"
   ]
  },
  {
   "cell_type": "markdown",
   "id": "insured-suspect",
   "metadata": {},
   "source": [
    "## Ejercicio 4 Ecuaciones diferenciales acopladas - problema de valor inicial `scipy.integrate.solve_ivp` $\\color{red}{\\text{(10p)}}$ o `otros metodos`  $\\color{red}{\\text{(7p)}}$\n",
    "\n",
    "Las ecuaciones de Lotka-Volterra, también conocidas como ecuaciones depredador-presa, son un par de ecuaciones de primer orden, no lineales, ecuaciones diferenciales utilizadas con frecuencia para describir la dinámica de los sistemas biológicos en los que interactúan dos especies, uno como depredador y el otro como presa. Las poblaciones cambian a través del tiempo de acuerdo con el par de ecuaciones. "
   ]
  },
  {
   "cell_type": "markdown",
   "id": "interesting-luxury",
   "metadata": {},
   "source": [
    "$$\\frac{dx}{dt}=x(\\color{red}{\\alpha}-\\color{red}{\\beta} y)$$\n",
    "$$\\frac{dy}{dt}=-y(\\color{red}{\\gamma}-\\color{red}{\\delta} x)$$"
   ]
  },
  {
   "cell_type": "markdown",
   "id": "compliant-potato",
   "metadata": {},
   "source": [
    "Esa ecuación describiría la evolución de la población de conejos y zorros (condiciones perfectas)\n",
    "\n",
    "* x - numbero de conejos  \n",
    "* y - numbero de zorros\n",
    "\n",
    "* $\\color{red}{\\alpha, \\beta, \\gamma, \\delta }$ son parámetros que describen la interacción de las dos especies\n",
    "\n",
    "* $\\frac{dx}{dt}, \\frac{dy}{dt}$ representan las tasas de crecimiento de las dos poblaciones a lo largo del tiempo\n",
    "\n",
    "* $t$ es tiempo"
   ]
  },
  {
   "cell_type": "markdown",
   "id": "auburn-charlotte",
   "metadata": {},
   "source": [
    "<img src=\"rabbits_foxes.png\" width=\"300\" />"
   ]
  },
  {
   "cell_type": "markdown",
   "id": "wrapped-edmonton",
   "metadata": {},
   "source": [
    "a) solucionar los ecuaciones diferenciales usando `scipy.integrate.solve_ivp` o `scipy.integrate.odeint`\n",
    "asumir: \n",
    "* $\\alpha, \\beta, \\gamma, \\delta = 1$\n",
    "* $x_{ini}=4$\n",
    "* $y_{ini}=2$\n",
    "* $t=0:30$ (unidades arbitrarias, asumir meses)\n",
    "\n",
    "b) hacer plot $x$ vs. $t$ , $y$ vs. $t$   \n",
    "c) hacer plot $x vs y$  \n",
    "d) comentar sobre los dos plots  "
   ]
  },
  {
   "cell_type": "code",
   "execution_count": null,
   "id": "related-relevance",
   "metadata": {},
   "outputs": [],
   "source": []
  },
  {
   "cell_type": "code",
   "execution_count": null,
   "id": "composed-participant",
   "metadata": {},
   "outputs": [],
   "source": []
  }
 ],
 "metadata": {
  "kernelspec": {
   "display_name": "Python 3",
   "language": "python",
   "name": "python3"
  },
  "language_info": {
   "codemirror_mode": {
    "name": "ipython",
    "version": 3
   },
   "file_extension": ".py",
   "mimetype": "text/x-python",
   "name": "python",
   "nbconvert_exporter": "python",
   "pygments_lexer": "ipython3",
   "version": "3.7.2"
  }
 },
 "nbformat": 4,
 "nbformat_minor": 5
}

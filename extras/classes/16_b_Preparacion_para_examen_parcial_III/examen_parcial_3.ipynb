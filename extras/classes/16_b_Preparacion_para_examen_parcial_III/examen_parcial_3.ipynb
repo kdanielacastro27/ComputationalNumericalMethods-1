{
 "cells": [
  {
   "cell_type": "markdown",
   "id": "published-basketball",
   "metadata": {},
   "source": [
    "# Como evitar errores en sus codigos (ejemplos de pasos):\n",
    "\n",
    "* comparar la `equacion` que estoy implementando con la `implementacion` paso a paso, elemento con elemento (buscar errores de confundir * con +... explica se en la cabeza que esta pasando)\n",
    "* `print()` elementos de bucle(loop) para ver a que se esta iterando en la bucle\n",
    "* hacer `plots`, por ejemplo despues de hacer interpolacion hacer plot de valores interpolados para ver si corresponden a valores originales\n",
    "* despues de hacer una operacion en matrix complicada `visualizala` i mira si los elementos coresponden a que uno quiere hacer ()"
   ]
  },
  {
   "cell_type": "markdown",
   "id": "academic-correction",
   "metadata": {},
   "source": [
    "# Operaciones de Python para aplicar\n",
    "\n",
    "* `np.linalg.solve`\n",
    "* `A_inv=np.linalg.inv(A)`\n",
    "* `evalues,evectors=np.linalg.eig(A)`\n",
    "* `detA=np.linalg.det(A)`"
   ]
  },
  {
   "cell_type": "markdown",
   "id": "close-underwear",
   "metadata": {},
   "source": [
    "# Tipos de problemas para resolver"
   ]
  },
  {
   "cell_type": "markdown",
   "id": "complex-masters",
   "metadata": {},
   "source": [
    "* solve system of linear equations using: `np.linalg.solve`\n",
    "* solve system of linear equations using: `A_inv=np.linalg.inv(A)`\n",
    "* show that: $A=PLU$\n",
    "* show that: $A=IA=AI$\n",
    "* show that: $𝐴=𝑃𝐷𝑃^{−1}$\n",
    "* find $A^{N}$: using eigenvalues and eigenvectors \n",
    "* find $N^{A}$: N va a ser elevado a cada elemento de matrix A"
   ]
  }
 ],
 "metadata": {
  "kernelspec": {
   "display_name": "Python 3",
   "language": "python",
   "name": "python3"
  },
  "language_info": {
   "codemirror_mode": {
    "name": "ipython",
    "version": 3
   },
   "file_extension": ".py",
   "mimetype": "text/x-python",
   "name": "python",
   "nbconvert_exporter": "python",
   "pygments_lexer": "ipython3",
   "version": "3.7.2"
  }
 },
 "nbformat": 4,
 "nbformat_minor": 5
}

{
 "cells": [
  {
   "cell_type": "markdown",
   "id": "arctic-germany",
   "metadata": {},
   "source": [
    "## Last homework\n",
    "Solve the same equations using `scipy.integrate.odeint` and `scipy.integrate.solve_ivp`\n",
    "\n",
    "$$\n",
    "\\begin{align*} \n",
    "\\frac{dx}{dt}&=\\sigma (y-x) \\\\\n",
    "\\frac{dy}{dt}&=x(\\rho-z) -y \\\\\n",
    "\\frac{dz}{dt}&=xy-\\beta z \n",
    "\\end{align*} \n",
    "$$\n",
    "\n",
    "for the parameters:\n",
    "\n",
    "* $\\sigma =10$\n",
    "* $\\rho=28$\n",
    "* $\\beta=8/3$\n",
    "\n",
    "lets set intial conditions:\n",
    "\n",
    "* x(0)=1.0\n",
    "* y(0)=1.0\n",
    "* z(0)=1.0\n",
    "\n",
    "Compare the results. Seeing anything strange?"
   ]
  },
  {
   "cell_type": "code",
   "execution_count": null,
   "id": "40fb9ed9",
   "metadata": {},
   "outputs": [],
   "source": []
  }
 ],
 "metadata": {
  "kernelspec": {
   "display_name": "Python 3",
   "language": "python",
   "name": "python3"
  },
  "language_info": {
   "codemirror_mode": {
    "name": "ipython",
    "version": 3
   },
   "file_extension": ".py",
   "mimetype": "text/x-python",
   "name": "python",
   "nbconvert_exporter": "python",
   "pygments_lexer": "ipython3",
   "version": "3.7.2"
  }
 },
 "nbformat": 4,
 "nbformat_minor": 5
}

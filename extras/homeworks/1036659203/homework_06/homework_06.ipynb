{
  "cells": [
    {
      "cell_type": "markdown",
      "id": "naked-liechtenstein",
      "metadata": {
        "id": "naked-liechtenstein"
      },
      "source": [
        "## Homework 06\n",
        "\n",
        "Create a notebook: ***homework_06.ipynb*** and inside make function:\n",
        "\n",
        "a function called `integral_monte_carlo_1D(integrand,lim1,lim2,N)` (with that order) that receives four parameters: integrand (function), limit1, limit2 and number of iterations `N`, and returns the value of `I` (just the numerical value)  \n",
        "*use vectorized form of the calculations\n",
        "\n",
        "Test your funcion on the following integral:\n",
        "\n",
        "$$\\int_{0}^{4} \\sqrt[4]{15 x^3 + 21x^2 + 41x + 3} \\cdot e^{-0.5x} dx$$\n",
        "\n",
        " where the integrand is\n",
        "$$f(x)=\\sqrt[4]{15 x^3 + 21x^2 + 41x + 3} \\cdot e^{-0.5x}$$\n",
        "\n",
        "compare with the scipy.integrate.quad results\n"
      ]
    },
    {
      "cell_type": "code",
      "source": [
        "import numpy as np\n",
        "import matplotlib.pyplot as plt\n",
        "import random\n",
        "import scipy.integrate as integrate"
      ],
      "metadata": {
        "id": "2GzEwkP-Fs5o"
      },
      "id": "2GzEwkP-Fs5o",
      "execution_count": 1,
      "outputs": []
    },
    {
      "cell_type": "code",
      "source": [
        "def integral_monte_carlo_1D(integrand,lim1,lim2,N):\n",
        "  sum=0\n",
        "  for i in range(N):\n",
        "    x=np.random.uniform(lim1,lim2)\n",
        "    sum+=integrand(x)\n",
        "  sum=sum/N\n",
        "  I =(lim2-lim1)*sum\n",
        "  return I"
      ],
      "metadata": {
        "id": "toaGIknuFtzq"
      },
      "id": "toaGIknuFtzq",
      "execution_count": 2,
      "outputs": []
    },
    {
      "cell_type": "code",
      "source": [
        "def integrand(x):\n",
        "  return(((15*(x**3)+21*(x**2)+41*(x)+3)**(1/4))*(np.e**(-0.5*x)))"
      ],
      "metadata": {
        "id": "N4wuqXcLGKoI"
      },
      "id": "N4wuqXcLGKoI",
      "execution_count": 3,
      "outputs": []
    },
    {
      "cell_type": "code",
      "source": [
        "monte_carlo= integral_monte_carlo_1D(integrand,0,10,1000)\n",
        "monte_carlo"
      ],
      "metadata": {
        "colab": {
          "base_uri": "https://localhost:8080/"
        },
        "id": "JKbklU6CGOZl",
        "outputId": "63505f4a-7b94-482d-cb75-3a0aa03f921b"
      },
      "id": "JKbklU6CGOZl",
      "execution_count": 4,
      "outputs": [
        {
          "output_type": "execute_result",
          "data": {
            "text/plain": [
              "7.802284470318459"
            ]
          },
          "metadata": {},
          "execution_count": 4
        }
      ]
    },
    {
      "cell_type": "code",
      "source": [
        "I, error= integrate.quad(integrand,0,4)\n",
        "print(I)"
      ],
      "metadata": {
        "colab": {
          "base_uri": "https://localhost:8080/"
        },
        "id": "hN_BasNlGVXM",
        "outputId": "697af3b0-7061-4b0b-fffd-cd138648ce2c"
      },
      "id": "hN_BasNlGVXM",
      "execution_count": 5,
      "outputs": [
        {
          "output_type": "stream",
          "name": "stdout",
          "text": [
            "5.767433490695931\n"
          ]
        }
      ]
    },
    {
      "cell_type": "code",
      "source": [
        "print(monte_carlo-I)"
      ],
      "metadata": {
        "colab": {
          "base_uri": "https://localhost:8080/"
        },
        "id": "taIuIxISGYiu",
        "outputId": "be8837d2-67ec-4d8b-f60d-1573c9b02356"
      },
      "id": "taIuIxISGYiu",
      "execution_count": 8,
      "outputs": [
        {
          "output_type": "stream",
          "name": "stdout",
          "text": [
            "2.0348509796225285\n"
          ]
        }
      ]
    },
    {
      "cell_type": "code",
      "source": [
        " "
      ],
      "metadata": {
        "id": "sSaA0Rk1GoYQ"
      },
      "id": "sSaA0Rk1GoYQ",
      "execution_count": null,
      "outputs": []
    }
  ],
  "metadata": {
    "kernelspec": {
      "display_name": "Python 3",
      "language": "python",
      "name": "python3"
    },
    "language_info": {
      "codemirror_mode": {
        "name": "ipython",
        "version": 3
      },
      "file_extension": ".py",
      "mimetype": "text/x-python",
      "name": "python",
      "nbconvert_exporter": "python",
      "pygments_lexer": "ipython3",
      "version": "3.7.2"
    },
    "colab": {
      "name": "homework_06.ipynb",
      "provenance": []
    }
  },
  "nbformat": 4,
  "nbformat_minor": 5
}
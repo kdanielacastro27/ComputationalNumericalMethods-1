{
 "cells": [
  {
   "cell_type": "markdown",
   "id": "plain-rugby",
   "metadata": {
    "id": "plain-rugby"
   },
   "source": [
    "# Examen parcial 2 (calculo numerico y algebra lineal)\n",
    "* Antes de enviar el archivo, $\\textbf{reiniciar y ejecutar el kernel}$ para ver que el archivo se compila sin errores\n",
    "* enviar el archivo jupyter sin anexos antes de las 09.59am del 30.08.2022 a mi dirección de correo electrónico: michal.hemmerling@udea.edu.co "
   ]
  },
  {
   "cell_type": "markdown",
   "id": "usual-washer",
   "metadata": {
    "id": "usual-washer"
   },
   "source": [
    "# Ejercicio 1"
   ]
  },
  {
   "cell_type": "markdown",
   "id": "pretty-conference",
   "metadata": {
    "id": "pretty-conference"
   },
   "source": [
    "El archivo $\\textbf{data_radius_density.csv}$ contiene dos columnas: radio ($ r $) y la densidad ($ \\rho (r) $) de un disco plano en función del radio\n",
    "\n",
    "El disco es lo suficientemente delgado como para que, con fines matemáticos, podamos tratarlo como un objeto bidimensional. Asumimos que la densidad se da en términos de masa por unidad de área (llamada densidad de área), y además asumimos que la densidad varía solo a lo largo del radio del disco (llamada densidad radial). Orientamos el disco en el plano xy, con el centro en el origen. Entonces, la densidad del disco puede ser tratada como una función de x, denotada $\\rho(x)$.\n",
    "<table><tr>\n",
    "<td> <img src=\"disk_radius_density.png\" width=\"500\" /> </td>\n",
    "</tr></table>   \n",
    "\n",
    "* a) importar los datos usando Pandas, graficar la densidad del disco frente a su radio (los gráficos deben tener etiquetas para el eje `x` y el eje `y`).\n",
    "\n",
    "* b) sabiendo que la masa del disco viene dada por una integral:\n",
    "$$ m = \\int_0^{r} 2 \\pi \\ r * \\rho (r) \\ dr $$\n",
    "     calcular la masa del disco mediante integración numérica  \n",
    "(*masa total del disco es una suma de masas de anillos con grosura dr)     "
   ]
  },
  {
   "cell_type": "code",
   "execution_count": 1,
   "id": "ep26KUM9S3Eu",
   "metadata": {
    "id": "ep26KUM9S3Eu"
   },
   "outputs": [],
   "source": [
    "# tu codigo:\n",
    "import numpy as np\n",
    "import pandas as pd\n",
    "import matplotlib.pyplot as plt\n",
    "import scipy.optimize as optimize"
   ]
  },
  {
   "cell_type": "code",
   "execution_count": 2,
   "id": "valuable-august",
   "metadata": {
    "colab": {
     "base_uri": "https://localhost:8080/"
    },
    "id": "valuable-august",
    "outputId": "e1235052-4fb9-4a54-90e4-c995dda6ad23"
   },
   "outputs": [
    {
     "name": "stdout",
     "output_type": "stream",
     "text": [
      "--2022-09-05 13:42:59--  https://raw.githubusercontent.com/mhemmg/ComputationalNumericalMethods/master/extras/additional_materials/examen_parcial_II_a/data_radius_density.csv\n",
      "Resolving raw.githubusercontent.com (raw.githubusercontent.com)... 185.199.110.133, 185.199.111.133, 185.199.108.133, ...\n",
      "Connecting to raw.githubusercontent.com (raw.githubusercontent.com)|185.199.110.133|:443... connected.\n",
      "HTTP request sent, awaiting response... 200 OK\n",
      "Length: 3702 (3.6K) [text/plain]\n",
      "Saving to: 'data_radius_density.csv.1'\n",
      "\n",
      "data_radius_density 100%[===================>]   3.62K  --.-KB/s    in 0s      \n",
      "\n",
      "2022-09-05 13:42:59 (16.2 MB/s) - 'data_radius_density.csv.1' saved [3702/3702]\n",
      "\n"
     ]
    }
   ],
   "source": [
    "\n",
    "!wget https://raw.githubusercontent.com/mhemmg/ComputationalNumericalMethods/master/extras/additional_materials/examen_parcial_II_a/data_radius_density.csv\n"
   ]
  },
  {
   "cell_type": "code",
   "execution_count": 3,
   "id": "6lwA-EqNSpxl",
   "metadata": {
    "colab": {
     "base_uri": "https://localhost:8080/"
    },
    "id": "6lwA-EqNSpxl",
    "outputId": "ac908574-ec0b-4f7a-e6cb-dcb1a150be61"
   },
   "outputs": [
    {
     "name": "stdout",
     "output_type": "stream",
     "text": [
      "data_pressure_vs_temparature.csv  disk_radius_density.png\r\n",
      "data_radius_density.csv\t\t  examen_parcial_2_ipynb_txt (1).ipynb\r\n",
      "data_radius_density.csv.1\r\n"
     ]
    }
   ],
   "source": [
    "!ls"
   ]
  },
  {
   "cell_type": "code",
   "execution_count": 4,
   "id": "J0ZDkgTzTAB7",
   "metadata": {
    "colab": {
     "base_uri": "https://localhost:8080/",
     "height": 206
    },
    "id": "J0ZDkgTzTAB7",
    "outputId": "f3d41903-bc70-4aa8-950d-90d379668189"
   },
   "outputs": [
    {
     "data": {
      "text/html": [
       "<div>\n",
       "<style scoped>\n",
       "    .dataframe tbody tr th:only-of-type {\n",
       "        vertical-align: middle;\n",
       "    }\n",
       "\n",
       "    .dataframe tbody tr th {\n",
       "        vertical-align: top;\n",
       "    }\n",
       "\n",
       "    .dataframe thead th {\n",
       "        text-align: right;\n",
       "    }\n",
       "</style>\n",
       "<table border=\"1\" class=\"dataframe\">\n",
       "  <thead>\n",
       "    <tr style=\"text-align: right;\">\n",
       "      <th></th>\n",
       "      <th>radius</th>\n",
       "      <th>density</th>\n",
       "    </tr>\n",
       "  </thead>\n",
       "  <tbody>\n",
       "    <tr>\n",
       "      <th>0</th>\n",
       "      <td>0.000000</td>\n",
       "      <td>0.000000</td>\n",
       "    </tr>\n",
       "    <tr>\n",
       "      <th>1</th>\n",
       "      <td>0.040404</td>\n",
       "      <td>0.201008</td>\n",
       "    </tr>\n",
       "    <tr>\n",
       "      <th>2</th>\n",
       "      <td>0.080808</td>\n",
       "      <td>0.284268</td>\n",
       "    </tr>\n",
       "    <tr>\n",
       "      <th>3</th>\n",
       "      <td>0.121212</td>\n",
       "      <td>0.348155</td>\n",
       "    </tr>\n",
       "    <tr>\n",
       "      <th>4</th>\n",
       "      <td>0.161616</td>\n",
       "      <td>0.402015</td>\n",
       "    </tr>\n",
       "  </tbody>\n",
       "</table>\n",
       "</div>"
      ],
      "text/plain": [
       "     radius   density\n",
       "0  0.000000  0.000000\n",
       "1  0.040404  0.201008\n",
       "2  0.080808  0.284268\n",
       "3  0.121212  0.348155\n",
       "4  0.161616  0.402015"
      ]
     },
     "execution_count": 4,
     "metadata": {},
     "output_type": "execute_result"
    }
   ],
   "source": [
    "datos_radiusdensity=pd.read_csv('data_radius_density.csv')\n",
    "datos_radiusdensity.head()"
   ]
  },
  {
   "cell_type": "code",
   "execution_count": 5,
   "id": "pxX5vfxaTnGO",
   "metadata": {
    "id": "pxX5vfxaTnGO"
   },
   "outputs": [],
   "source": [
    "#A\n",
    "radio=datos_radiusdensity[\"radius\"].to_numpy()\n",
    "densidad=datos_radiusdensity[\"density\"].to_numpy()"
   ]
  },
  {
   "cell_type": "code",
   "execution_count": 6,
   "id": "VKnKjc2oU2GU",
   "metadata": {
    "colab": {
     "base_uri": "https://localhost:8080/",
     "height": 295
    },
    "id": "VKnKjc2oU2GU",
    "outputId": "22541ddc-4057-4b0b-cfe6-3ff241fa2131"
   },
   "outputs": [
    {
     "data": {
      "image/png": "[encoded data removed]",
      "text/plain": [
       "<Figure size 432x288 with 1 Axes>"
      ]
     },
     "metadata": {
      "needs_background": "light"
     },
     "output_type": "display_data"
    }
   ],
   "source": [
    "fig, ax=plt.subplots(1,1)\n",
    "ax.plot(radio, densidad, color=\"dodgerblue\")\n",
    "plt.xlabel(\"Radius\")\n",
    "plt.ylabel(\"Density\")\n",
    "plt.title(\"Radius vs Density\")\n",
    "plt.grid()"
   ]
  },
  {
   "cell_type": "code",
   "execution_count": 7,
   "id": "gj42SUCuUwH2",
   "metadata": {
    "colab": {
     "base_uri": "https://localhost:8080/"
    },
    "id": "gj42SUCuUwH2",
    "outputId": "d2652636-6842-4602-8743-d1f9e93eea0d"
   },
   "outputs": [
    {
     "name": "stdout",
     "output_type": "stream",
     "text": [
      "La masa es:   80.42489768943993\n"
     ]
    }
   ],
   "source": [
    "#B\n",
    "import scipy.integrate as integrate\n",
    "\n",
    "y=[]\n",
    "for i in range (len(datos_radiusdensity[\"radius\"])):\n",
    "  y.append(2*np.pi*datos_radiusdensity[\"radius\"][i]*datos_radiusdensity[\"density\"][i])\n",
    "  \n",
    "masa= integrate.simps(y, datos_radiusdensity[\"radius\"])\n",
    "print(\"La masa es:  \", masa)"
   ]
  },
  {
   "cell_type": "markdown",
   "id": "handy-obligation",
   "metadata": {
    "id": "handy-obligation"
   },
   "source": [
    "# Ejercicio 2"
   ]
  },
  {
   "cell_type": "markdown",
   "id": "broken-belfast",
   "metadata": {
    "id": "broken-belfast"
   },
   "source": [
    "La capacidad calorífica de un gas muy frío se puede aproximar mediante:\n",
    "\n",
    "$$ C_v \\approx \\left (\\frac{dP}{dT} \\right) $$\n",
    "(en las unidades de $ \\left [\\frac {J} {K} \\right] $)\n",
    "\n",
    "Donde $P$ es la presión $ [J / s^3] $ del gas y $ T \\ [K] $ es la temperatura del gas.\n",
    "\n",
    "Los datos para la presión frente a la temperatura se dan en el archivo csv ($ \\textbf{data_pressure_vs_temperature.csv} $).\n",
    "\n",
    "* a) importar los datos usando pandas\n",
    "* b) hacer un gráfico de $P$ vs $T$ (grafico tiene que tener etiquietas)\n",
    "* c) utilizando la derivada numérica, encuentre la capacidad calorífica.\n",
    "* d) hacer un gráfico de $C_v$ vs $T$ (grafico tiene que tener etiquietas)\n",
    "* e) usando el ultimos datos hace una estimacion de Temperatura Critica de este gas (Temperatura Critica es Temperatura de cambio abrupto del comportamiento de Capacidad Termica)\n",
    "\n",
    "*gas muy frío se refiere a un gas Bose no homogéneo, y la teoría que relaciona $ C_v $ y $ P $ se refiere a la Teoría de Variables Globales Termodinámicas. La presión en realidad se llama parámetro de presión."
   ]
  },
  {
   "cell_type": "code",
   "execution_count": 8,
   "id": "written-adrian",
   "metadata": {
    "id": "written-adrian"
   },
   "outputs": [],
   "source": [
    "# tu codigo:\n",
    "import numpy as np\n",
    "import pandas as pd\n",
    "import matplotlib.pyplot as plt\n",
    "import scipy.optimize as optimize"
   ]
  },
  {
   "cell_type": "code",
   "execution_count": 9,
   "id": "wXeGDXpSYW-N",
   "metadata": {
    "colab": {
     "base_uri": "https://localhost:8080/"
    },
    "id": "wXeGDXpSYW-N",
    "outputId": "9e6074b8-4023-4c0f-9da2-e2b7dcd4cbad"
   },
   "outputs": [
    {
     "name": "stdout",
     "output_type": "stream",
     "text": [
      "--2022-09-05 13:43:00--  https://raw.githubusercontent.com/mhemmg/ComputationalNumericalMethods/master/extras/additional_materials/examen_parcial_II_a/data_pressure_vs_temparature.csv\n",
      "Resolving raw.githubusercontent.com (raw.githubusercontent.com)... 185.199.108.133, 185.199.111.133, 185.199.109.133, ...\n",
      "Connecting to raw.githubusercontent.com (raw.githubusercontent.com)|185.199.108.133|:443... connected.\n",
      "HTTP request sent, awaiting response... 200 OK\n",
      "Length: 1412 (1.4K) [text/plain]\n",
      "Saving to: 'data_pressure_vs_temparature.csv.1'\n",
      "\n",
      "data_pressure_vs_te 100%[===================>]   1.38K  --.-KB/s    in 0s      \n",
      "\n",
      "2022-09-05 13:43:00 (10.7 MB/s) - 'data_pressure_vs_temparature.csv.1' saved [1412/1412]\n",
      "\n"
     ]
    }
   ],
   "source": [
    "!wget https://raw.githubusercontent.com/mhemmg/ComputationalNumericalMethods/master/extras/additional_materials/examen_parcial_II_a/data_pressure_vs_temparature.csv"
   ]
  },
  {
   "cell_type": "code",
   "execution_count": 10,
   "id": "xk1jLVB1Ygn8",
   "metadata": {
    "colab": {
     "base_uri": "https://localhost:8080/"
    },
    "id": "xk1jLVB1Ygn8",
    "outputId": "4781dc72-beaa-4d9d-918e-aa9245448d5c"
   },
   "outputs": [
    {
     "name": "stdout",
     "output_type": "stream",
     "text": [
      "data_pressure_vs_temparature.csv    data_radius_density.csv.1\r\n",
      "data_pressure_vs_temparature.csv.1  disk_radius_density.png\r\n",
      "data_radius_density.csv\t\t    examen_parcial_2_ipynb_txt (1).ipynb\r\n"
     ]
    }
   ],
   "source": [
    "!ls"
   ]
  },
  {
   "cell_type": "code",
   "execution_count": 11,
   "id": "UvAMYLKLZHxS",
   "metadata": {
    "id": "UvAMYLKLZHxS"
   },
   "outputs": [],
   "source": [
    "datostempres= pd.read_csv('data_pressure_vs_temparature.csv')\n",
    "datostempres.head()\n",
    "\n",
    "tem= datostempres[\"Temperature\"].to_numpy()\n",
    "pre= datostempres[\"Pressure\"].to_numpy()"
   ]
  },
  {
   "cell_type": "code",
   "execution_count": 12,
   "id": "mCjXUU-FYmEB",
   "metadata": {
    "colab": {
     "base_uri": "https://localhost:8080/",
     "height": 295
    },
    "id": "mCjXUU-FYmEB",
    "outputId": "56fffe60-4db4-4c12-dd9e-9d39871c35ca"
   },
   "outputs": [
    {
     "data": {
      "image/png": "[encoded data removed]",
      "text/plain": [
       "<Figure size 432x288 with 1 Axes>"
      ]
     },
     "metadata": {
      "needs_background": "light"
     },
     "output_type": "display_data"
    }
   ],
   "source": [
    "fig, ax=plt.subplots(1,1)\n",
    "ax.plot(tem ,pre, color=\"darkcyan\")\n",
    "plt.xlabel(\"Temperature\")\n",
    "plt.ylabel(\"Pressure\")\n",
    "plt.title(\"Pressure vs Temperature\")\n",
    "plt.grid()"
   ]
  },
  {
   "cell_type": "code",
   "execution_count": 13,
   "id": "q2hTZhSqbDMe",
   "metadata": {
    "colab": {
     "base_uri": "https://localhost:8080/"
    },
    "id": "q2hTZhSqbDMe",
    "outputId": "7557a4a1-1ed8-4c34-8f80-288f29cd5970"
   },
   "outputs": [
    {
     "data": {
      "text/plain": [
       "array([5.29799802e-11, 7.61486415e-11, 1.30352287e-10, 2.06082997e-10,\n",
       "       3.12475005e-10, 4.48916825e-10, 6.02904968e-10, 7.63919658e-10,\n",
       "       9.40191259e-10, 1.11550372e-09, 1.19769793e-09, 1.03501324e-09,\n",
       "       8.09658111e-10, 7.30340985e-10, 7.01723220e-10, 6.84061313e-10,\n",
       "       6.71936615e-10, 6.63114111e-10, 6.56443006e-10, 6.51256053e-10,\n",
       "       6.47135543e-10, 6.43805355e-10, 6.41075324e-10, 6.38810197e-10,\n",
       "       6.36911237e-10, 6.35304785e-10, 6.33934876e-10, 6.32758315e-10,\n",
       "       6.31741302e-10, 6.30857069e-10, 6.30445179e-10])"
      ]
     },
     "execution_count": 13,
     "metadata": {},
     "output_type": "execute_result"
    }
   ],
   "source": [
    "cv=np.gradient(pre, tem)\n",
    "cv"
   ]
  },
  {
   "cell_type": "code",
   "execution_count": 14,
   "id": "knOE53uBbaqr",
   "metadata": {
    "colab": {
     "base_uri": "https://localhost:8080/",
     "height": 295
    },
    "id": "knOE53uBbaqr",
    "outputId": "4356ffd3-0a75-4b68-9eab-4578838919eb"
   },
   "outputs": [
    {
     "data": {
      "image/png": "[encoded data removed]",
      "text/plain": [
       "<Figure size 432x288 with 1 Axes>"
      ]
     },
     "metadata": {
      "needs_background": "light"
     },
     "output_type": "display_data"
    }
   ],
   "source": [
    "fig, ax=plt.subplots(1,1)\n",
    "ax.plot(tem ,cv , color=\"royalblue\")\n",
    "plt.xlabel(\"Temperature\")\n",
    "plt.ylabel(\"cv\")\n",
    "plt.title(\"cv vs Temperature\")\n",
    "plt.grid()"
   ]
  },
  {
   "cell_type": "code",
   "execution_count": 15,
   "id": "6kdzmgUMcMrc",
   "metadata": {
    "colab": {
     "base_uri": "https://localhost:8080/",
     "height": 295
    },
    "id": "6kdzmgUMcMrc",
    "outputId": "58451cd8-1466-4961-de76-298bb2400345"
   },
   "outputs": [
    {
     "data": {
      "image/png": "[encoded data removed]",
      "text/plain": [
       "<Figure size 432x288 with 1 Axes>"
      ]
     },
     "metadata": {
      "needs_background": "light"
     },
     "output_type": "display_data"
    }
   ],
   "source": [
    "from scipy import interpolate\n",
    "\n",
    "f_interp = interpolate.interp1d(tem ,pre ,kind='cubic')\n",
    "tem_interp=np.linspace(np.min(tem),np.max(tem),100)\n",
    "pre_interp=f_interp(tem_interp)\n",
    "\n",
    "\n",
    "cv_interp= np.gradient(pre_interp, tem_interp)\n",
    "#print(cv_interp)\n",
    "\n",
    "\n",
    "fig, ax=plt.subplots(1,1)\n",
    "ax.plot(tem_interp ,cv_interp , color=\"cornflowerblue\")\n",
    "plt.xlabel(\"Temperatura Interpolate\")\n",
    "plt.ylabel(\"cv interpolate\")\n",
    "plt.title(\"interpolate (cv vs Temperatura)\")\n",
    "plt.grid()"
   ]
  },
  {
   "cell_type": "code",
   "execution_count": 16,
   "id": "USXMq69nl81a",
   "metadata": {
    "id": "USXMq69nl81a"
   },
   "outputs": [],
   "source": [
    "#np.argmin('Temperatura Interpolate')"
   ]
  },
  {
   "cell_type": "code",
   "execution_count": 17,
   "id": "5yWWH8Awm49C",
   "metadata": {
    "id": "5yWWH8Awm49C"
   },
   "outputs": [],
   "source": [
    "#cvmin=np.min('cv interpolate')"
   ]
  },
  {
   "cell_type": "code",
   "execution_count": 18,
   "id": "m8YnC0GpmbTJ",
   "metadata": {
    "id": "m8YnC0GpmbTJ"
   },
   "outputs": [],
   "source": [
    "#np.min('cv interpolate')"
   ]
  },
  {
   "cell_type": "code",
   "execution_count": null,
   "id": "srCwG_0MmbQ4",
   "metadata": {
    "id": "srCwG_0MmbQ4"
   },
   "outputs": [],
   "source": []
  },
  {
   "cell_type": "markdown",
   "id": "nominated-beast",
   "metadata": {
    "id": "nominated-beast"
   },
   "source": [
    "# Ejercicio 3"
   ]
  },
  {
   "cell_type": "markdown",
   "id": "regulated-yorkshire",
   "metadata": {
    "id": "regulated-yorkshire"
   },
   "source": [
    "Usando metodo Monte Carlo resuleve el siguiente integral:\n",
    "\n",
    "$$ \\int_{0}^{\\pi/2} \\int_{0}^{1} e^y \\ cos(x) \\ dy \\ dx $$"
   ]
  },
  {
   "cell_type": "code",
   "execution_count": 19,
   "id": "offshore-california",
   "metadata": {
    "id": "offshore-california"
   },
   "outputs": [],
   "source": [
    "# tu codigo\n",
    "import numpy as np\n",
    "import scipy.integrate as integrate"
   ]
  },
  {
   "cell_type": "code",
   "execution_count": 20,
   "id": "73v0YjEYdXga",
   "metadata": {
    "colab": {
     "base_uri": "https://localhost:8080/"
    },
    "id": "73v0YjEYdXga",
    "outputId": "b473c281-f0ca-413b-9275-5f77c7df3c67"
   },
   "outputs": [
    {
     "name": "stdout",
     "output_type": "stream",
     "text": [
      "1.7237022863185392\n"
     ]
    }
   ],
   "source": [
    "def function(*args):\n",
    "   x, y = args\n",
    "   return np.exp(y)*np.cos(x)\n",
    "\n",
    "E=0\n",
    "\n",
    "N=100000\n",
    "\n",
    "a=0\n",
    "b=np.pi*0.5\n",
    "\n",
    "c=0.0\n",
    "d=1\n",
    "\n",
    "for i in range(N):\n",
    "    x=np.random.uniform(a,b)\n",
    "    y=np.random.uniform(c,d)\n",
    "    E = E + np.exp(y)*np.cos(x)\n",
    "\n",
    "E=E/N\n",
    "I=E*(b-a)*(d-c)\n",
    "print(I)\n"
   ]
  },
  {
   "cell_type": "code",
   "execution_count": 21,
   "id": "fSlipPrJizqA",
   "metadata": {
    "colab": {
     "base_uri": "https://localhost:8080/"
    },
    "id": "fSlipPrJizqA",
    "outputId": "85fe20cf-bc5c-4548-c176-b1296123af87"
   },
   "outputs": [
    {
     "name": "stdout",
     "output_type": "stream",
     "text": [
      "1.7182818284590453\n"
     ]
    }
   ],
   "source": [
    "def function(*args):\n",
    "   x, y = args\n",
    "   return np.exp(y)*np.cos(x)\n",
    "\n",
    "I,error=integrate.nquad(function,[[0,np.pi*0.5],[0,1]])\n",
    "print(I)"
   ]
  },
  {
   "cell_type": "markdown",
   "id": "precious-brook",
   "metadata": {
    "id": "precious-brook"
   },
   "source": [
    "# Ejercicio 4"
   ]
  },
  {
   "cell_type": "markdown",
   "id": "backed-heritage",
   "metadata": {
    "id": "backed-heritage"
   },
   "source": [
    "Resuelve siguiente integral (muestra el error de solucion):\n",
    "\n",
    "$$ \\int_{0}^{10}\\frac{x^3}{x^4+16} dx$$"
   ]
  },
  {
   "cell_type": "code",
   "execution_count": 22,
   "id": "electronic-spread",
   "metadata": {
    "colab": {
     "base_uri": "https://localhost:8080/"
    },
    "id": "electronic-spread",
    "outputId": "f755a746-9ee7-4e8a-90f1-0900f7d3f63a"
   },
   "outputs": [
    {
     "name": "stdout",
     "output_type": "stream",
     "text": [
      "1.6097983529899698\n"
     ]
    }
   ],
   "source": [
    "# tu codigo\n",
    "def func(x):\n",
    "    return x**3/((x**4)+16)\n",
    "\n",
    "import numpy as np\n",
    "import scipy.integrate as integrate\n",
    "\n",
    "E=0\n",
    "N=100000\n",
    "a=0.0\n",
    "b=10.0\n",
    "\n",
    "for i in range(N):\n",
    "    x=np.random.uniform(a,b)\n",
    "\n",
    "    E = E + func(x)\n",
    "\n",
    "E=E/N\n",
    "I=E*(b-a)\n",
    "print(I)"
   ]
  },
  {
   "cell_type": "code",
   "execution_count": 23,
   "id": "CzoxlUITkRl1",
   "metadata": {
    "id": "CzoxlUITkRl1"
   },
   "outputs": [],
   "source": [
    "def integrand(x):\n",
    "    return x**3/((x**4)+16)"
   ]
  },
  {
   "cell_type": "code",
   "execution_count": 24,
   "id": "8bJxfLCdkemh",
   "metadata": {
    "colab": {
     "base_uri": "https://localhost:8080/"
    },
    "id": "8bJxfLCdkemh",
    "outputId": "437338a0-cf7e-49e2-de16-c4dc4ecc4732"
   },
   "outputs": [
    {
     "name": "stdout",
     "output_type": "stream",
     "text": [
      "1.6098375927750248\n"
     ]
    }
   ],
   "source": [
    "I,error = integrate.quad(integrand,0,10)\n",
    "print(I)"
   ]
  },
  {
   "cell_type": "markdown",
   "id": "second-flower",
   "metadata": {
    "id": "wwvSR8UIknJK"
   },
   "source": [
    "# Feedback:\n",
    "```\n",
    "\n",
    "    Exercise 1.\n",
    "    Solution + presentation of the results\t            (max 2.5p):\t2.5p\n",
    "\n",
    "    Exercise 2.\n",
    "    Solution + presentation of the results\t            (max 2.5p):\t1.5p\n",
    "    * falta temperatura critica\n",
    "    \n",
    "    Exercise 3.\n",
    "    Solution + presentation of the results\t            (max 2.5p):\t2.5p\n",
    "\n",
    "    Exercise 4 \n",
    "    Solution + presentation of the results\t            (max 2.5p):\t2.5p\n",
    "\n",
    "\n",
    "    - Total:                                              (max 10.0p):   9.0p\n",
    "```"
   ]
  },
  {
   "cell_type": "code",
   "execution_count": null,
   "id": "willing-ratio",
   "metadata": {},
   "outputs": [],
   "source": []
  }
 ],
 "metadata": {
  "colab": {
   "name": "examen_parcial_2.ipynb.txt",
   "provenance": []
  },
  "kernelspec": {
   "display_name": "Python 3",
   "language": "python",
   "name": "python3"
  },
  "language_info": {
   "codemirror_mode": {
    "name": "ipython",
    "version": 3
   },
   "file_extension": ".py",
   "mimetype": "text/x-python",
   "name": "python",
   "nbconvert_exporter": "python",
   "pygments_lexer": "ipython3",
   "version": "3.7.2"
  }
 },
 "nbformat": 4,
 "nbformat_minor": 5
}

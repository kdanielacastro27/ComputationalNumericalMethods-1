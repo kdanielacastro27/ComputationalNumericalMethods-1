{
 "cells": [
  {
   "cell_type": "markdown",
   "id": "growing-mexican",
   "metadata": {},
   "source": [
    "# Differential Equations (ODE) - continuation\n",
    "***INITIAL VALUE PROBLEM***"
   ]
  },
  {
   "cell_type": "markdown",
   "id": "spiritual-niger",
   "metadata": {},
   "source": [
    "## Dictionary\n",
    "* hence: asi, entonces, por eso\n",
    "\n",
    "  \"His mother was Italian, hence his name – Simone\"\n",
    "  \n",
    "  \n",
    "* span: intervalo, duracion\n",
    "\n",
    "  \"An average life span of man in Europe is 70 years\"\n",
    "  \n",
    "  \"span of values: from xini to xfin\"\n",
    "\n",
    "\n",
    "* weight: peso\n",
    "\n",
    "  weighted average"
   ]
  },
  {
   "cell_type": "markdown",
   "id": "prerequisite-narrative",
   "metadata": {},
   "source": [
    "## Order of the class:\n",
    "* recap on the Euler method\n",
    "* comparison with Heun and midpoint method\n",
    "* error of the Euler method\n",
    "* generalization and Runge-Kutta (RK)\n",
    "* implementation of the RK4 method\n",
    "* review on the scipy routines for solving differential equations "
   ]
  },
  {
   "cell_type": "markdown",
   "id": "affected-stage",
   "metadata": {},
   "source": [
    "# Generalization of the numerical methods of solving differential equations:"
   ]
  },
  {
   "cell_type": "markdown",
   "id": "immune-madison",
   "metadata": {},
   "source": [
    "#### Recall Euler method:"
   ]
  },
  {
   "cell_type": "markdown",
   "id": "laughing-heavy",
   "metadata": {},
   "source": [
    "<img src=\"imgs/euler_method.png\" width=\"300\" />\n",
    "\n",
    "which can be implemented as:\n",
    "$$y_{i+1} = y_{i} + f(x_i,y_i) h  $$"
   ]
  },
  {
   "cell_type": "markdown",
   "id": "connected-thesis",
   "metadata": {},
   "source": [
    "* but one can calculate the derivative in different ways, for example:"
   ]
  },
  {
   "cell_type": "markdown",
   "id": "sharing-geography",
   "metadata": {},
   "source": [
    "#### Heun's method (aka predictor-corrector method)\n",
    "<img src=\"imgs/heun_method.png\" width=\"300\" />\n",
    "which basically takes average of slope at two points as:\n",
    "\n",
    "$$y_{i+1} = y_{i} + \\frac {f(x_i,y_i) + f(x_{i+1},y^{0}_{i+1})}{2} h  $$"
   ]
  },
  {
   "cell_type": "markdown",
   "id": "connected-train",
   "metadata": {},
   "source": [
    "#### Midpoint method:\n",
    "<img src=\"imgs/midpoint_method.png\" width=\"300\" />\n",
    "which takes a slope in between the two points as:\n",
    "$$y_{i+1} = y_{i} + f(x_{i+1/2},y_{i+1/2}) h  $$"
   ]
  },
  {
   "cell_type": "markdown",
   "id": "together-preview",
   "metadata": {},
   "source": [
    "* the details are not important (there are plenty of detailed articles about it). What is worth noticing that $\\textbf {the derivative (the slope) can be calculated in many different ways:}$"
   ]
  },
  {
   "cell_type": "markdown",
   "id": "demanding-pipeline",
   "metadata": {},
   "source": [
    "## To generalize, let's derive the Euler formula and its error from Taylor Series:\n",
    "*recall the error estimate of the derivative from Tayor Series in the class about derivatives "
   ]
  },
  {
   "cell_type": "markdown",
   "id": "stone-checklist",
   "metadata": {},
   "source": [
    "$$y_{i+1} = y_{i} + f(x_i,y_i) h  $$\n",
    "which is the same as:\n",
    "$$y_{i+1}=y_i+  \\frac{dy}{dx}  \\Big|_{x_i,y_i} \\left( x_{i+1} - x_{i} \\right)$$"
   ]
  },
  {
   "cell_type": "markdown",
   "id": "royal-writer",
   "metadata": {},
   "source": [
    "$$y_{i+1}=y_i+  \\frac{dy}{dx}  \\Big|_{x_i,y_i} \\left( x_{i+1} - x_{i} \\right)+  \\frac{1}{2!} \\frac{d^2y}{dx^2}  \\Big|_{x_i,y_i} \\left( x_{i+1} - x_{i} \\right)^2 +  \\frac{1}{3!} \\frac{d^3y}{dx^3}  \\Big|_{x_i,y_i} \\left( x_{i+1} - x_{i} \\right)^3 + ...$$\n",
    "\n",
    "$$y_{i+1}=y_i+  \\frac{dy}{dx}  \\Big|_{x_i,y_i} h +  \\frac{1}{2!} \\frac{d^2y}{dx^2}  \\Big|_{x_i,y_i} h^2 + \\frac{1}{3!} \\frac{d^3y}{dx^3}  \\Big|_{x_i,y_i} h^3 + ...$$"
   ]
  },
  {
   "cell_type": "markdown",
   "id": "broke-pierre",
   "metadata": {},
   "source": [
    "Where we can easily identify the first two terms as an Euler formula."
   ]
  },
  {
   "cell_type": "markdown",
   "id": "vertical-interest",
   "metadata": {},
   "source": [
    "That means everything $\\textbf{after}$ $y_i+  \\frac{dy}{dx}  \\Big|_{x_i,y_i} \\left( x_{i+1} - x_{i} \\right)$... is en error of the Euler formula\n",
    "\n",
    "* so the global error of the Euler method is of the first order $O(h)$ and hence the method can be exact if $y(x)$ is linear"
   ]
  },
  {
   "cell_type": "markdown",
   "id": "latin-repair",
   "metadata": {},
   "source": [
    "## Runge-Kutta family methods:"
   ]
  },
  {
   "cell_type": "markdown",
   "id": "hollywood-inflation",
   "metadata": {},
   "source": [
    "In the forward Euler method, we used the information on the slope or the derivative of $y$ at the given time step to extrapolate the solution to the next time-step. Runge-Kutta methods are a class of methods which use the information on the 'slope' at more than one point to extrapolate the solution to the future time step. "
   ]
  },
  {
   "cell_type": "markdown",
   "id": "dramatic-belgium",
   "metadata": {},
   "source": [
    "However, finding $\\frac{dy}{dx}  \\Big|_{x_i,y_i}$ is already difficult, so finding $\\frac{d^2y}{dx^2}  \\Big|_{x_i,y_i}$ and other terms is even more difficult.  What Runge and Kutta did was write the 2nd order method instead of this:\n",
    "$$y_{i+1}=y_i+  \\frac{dy}{dx}  \\Big|_{x_i,y_i} \\left( x_{i+1} - x_{i} \\right)+  \\frac{1}{2!} \\frac{d^2y}{dx^2}  \\Big|_{x_i,y_i} \\left( x_{i+1} - x_{i} \\right)^2$$\n",
    "\n",
    "as (!!!!)\n",
    "\n",
    "$$y_{i+1} = y_{i} + (a_1 k_1 + a_2 k_2) h  $$\n",
    "where:\n",
    "$$k_1=f(x_i,y_i)$$\n",
    "$$k_2=f(x_i+p_1 h, y_1 + q_{11}k_1 h)$$\n",
    "\n",
    "and determine the coefficients: $a_1,p_1,a_2,q_{11}$ using Taylor series."
   ]
  },
  {
   "cell_type": "markdown",
   "id": "vocal-environment",
   "metadata": {},
   "source": [
    "$\\textbf{Basically: the approximation of the “next step” is given by weighted average of these four k-values as}$ $\\textbf{weighted average of slopes!}$"
   ]
  },
  {
   "cell_type": "markdown",
   "id": "right-marker",
   "metadata": {},
   "source": [
    "* one can easily see that only $k_1$ is taken and $k_2$ neglected then the above reduces to Euler method\n",
    "hence Euler method is considered as a first order Runge - Kutta method "
   ]
  },
  {
   "cell_type": "markdown",
   "id": "legendary-charlotte",
   "metadata": {},
   "source": [
    "### Higher order Runge - Kutta methods\n",
    "* the second order RK method is already better that first order method called Euler method.\n",
    "  But the real improvement that found many applications is called forth order Runge - Kutta method. Without derivation we can write it as:"
   ]
  },
  {
   "cell_type": "markdown",
   "id": "harmful-exercise",
   "metadata": {},
   "source": [
    "$$y_{i+1} = y_i+h(k_1 + 2k_2 + 2k_3 + k_4)/6$$\n",
    "where\n",
    "$$k_1=f(x_i,y_i)$$\n",
    "$$k_2=f(x_i+h/2,y_i+k_1 h/2)$$\n",
    "$$k_3=f(x_i+h/2,y_i+k_2 h/2)$$\n",
    "$$k_4=f(x_i+2,y_i+k_3 h)$$\n",
    "\n",
    "*this method is $4^{th}$ order acurate and its very popular"
   ]
  },
  {
   "cell_type": "markdown",
   "id": "analyzed-dividend",
   "metadata": {},
   "source": [
    "## Example\n",
    "Lets take the same example as previously:\n",
    "$$ \\frac{dy}{dx} = yx^2 -1.2y $$\n",
    "$$ f(x,y) = yx^2 -1.2y$$\n",
    "We can define the know function:\n",
    "$$ \\frac{dy}{dx} = f(x,y) $$\n",
    "wit the inital condition $y(0)=1$ over the interval of [0,2], using h=0.5 "
   ]
  },
  {
   "cell_type": "markdown",
   "id": "manufactured-delight",
   "metadata": {},
   "source": [
    "first the $k$ coefficients must be calculated\n",
    "$$k_1=f(x_i,y_i)$$\n",
    "$$k_2=f(x_i+h/2,y_i+k_1 h/2)$$\n",
    "$$k_3=f(x_i+h/2,y_i+k_2 h/2)$$\n",
    "$$k_4=f(x_i+2,y_i+k_3 h)$$\n",
    "\n",
    "$i=0:$ \\\n",
    "$k_1=f(0,1)=-1.2$ \\\n",
    "$k_2=f(0.25,0.7)=-0.79625$ \\\n",
    "$k_3=f(0.25,0.8)=-0.911$ \\\n",
    "$k_4=f(0.5,0.5445)=-0.512$\n",
    "\n",
    "then $y_{i+1}$ can be found substituting the $k_{1..4}$:\n",
    "\n",
    "$y_{i+1} = y_i+h(k_1 + 2k_2 + 2k_3 + k_4)/6$\n",
    "\n",
    "$y_1(0.5)=0.57234$\n",
    "\n",
    "... and so on for $i=1,2,3,4...$ "
   ]
  },
  {
   "cell_type": "markdown",
   "id": "communist-questionnaire",
   "metadata": {},
   "source": [
    "# Implementation of $4^{th}$ order Runge - Kutta    \n",
    "only Instructional "
   ]
  },
  {
   "cell_type": "markdown",
   "id": "declared-thong",
   "metadata": {},
   "source": [
    "Lets take the same example as previously:\n",
    "$$ f(x,y) = yx^2 -1.2y$$\n",
    "We can define the know function:\n",
    "$$ \\frac{dy}{dx} = f(x,y) $$\n",
    "wit the inital condition $y(0)=0.76$ over the interval of [-2,2], using h=0.5 "
   ]
  },
  {
   "cell_type": "code",
   "execution_count": 1,
   "id": "fancy-empty",
   "metadata": {},
   "outputs": [],
   "source": [
    "# Python program to implement Runge Kutta method\n",
    "# A sample differential equation \"dy / dx = (x - y)/2\"\n",
    "import numpy as np\n",
    "\n",
    "def derivs(x, y):\n",
    "    return y*x**2-1.2*y\n",
    " \n",
    "# Finds value of y for a given x using step size h\n",
    "# and initial value y0 at x0.\n",
    "def rungeKutta(x0, y0, xfin, h):\n",
    "    yout=[]\n",
    "    xout=[]\n",
    "    # Count number of iterations using step size or\n",
    "    # step height h\n",
    "    n = (int)((xfin - x0)/h)\n",
    "    # Iterate for number of iterations\n",
    "    y = y0\n",
    "    yout.append(y)\n",
    "    xout.append(x0)\n",
    "    for i in range(1, n + 1):\n",
    "        \"Apply Runge Kutta Formulas to find next value of y\"\n",
    "        k1 = h * derivs(x0, y)\n",
    "        k2 = h * derivs(x0 + 0.5 * h, y + 0.5 * k1)\n",
    "        k3 = h * derivs(x0 + 0.5 * h, y + 0.5 * k2)\n",
    "        k4 = h * derivs(x0 + h, y + k3)\n",
    " \n",
    "        # Update next value of y\n",
    "        y = y + (1.0 / 6.0)*(k1 + 2 * k2 + 2 * k3 + k4)\n",
    "        yout.append(y)\n",
    "        # Update next value of x\n",
    "        x0 = x0 + h\n",
    "        xout.append(x0)\n",
    "    return xout,yout\n",
    " \n",
    "# Driver method\n",
    "xini = -2\n",
    "y0 = 0.76\n",
    "xfin = 2\n",
    "h = 0.5\n",
    "xrk,yrk=rungeKutta(xini, y0, xfin, h)"
   ]
  },
  {
   "cell_type": "code",
   "execution_count": 2,
   "id": "rough-blind",
   "metadata": {},
   "outputs": [
    {
     "name": "stdout",
     "output_type": "stream",
     "text": [
      "[0.76, 1.9384992262369791, 2.3476623264324123, 1.7243105880061376, 0.9868982056819564, 0.5648449155001062, 0.41486718827163716, 0.5024340764215497, 1.281536932076665]\n"
     ]
    }
   ],
   "source": [
    "print(yrk)"
   ]
  },
  {
   "cell_type": "code",
   "execution_count": 3,
   "id": "shared-district",
   "metadata": {},
   "outputs": [],
   "source": [
    "xexact=np.linspace(xini,xfin,101)\n",
    "yexact=np.exp((xexact**3)/3-1.2*xexact)"
   ]
  },
  {
   "cell_type": "code",
   "execution_count": 4,
   "id": "specified-television",
   "metadata": {},
   "outputs": [
    {
     "name": "stdout",
     "output_type": "stream",
     "text": [
      "1.281536932076665\n"
     ]
    },
    {
     "data": {
      "image/png": "[encoded data removed]",
      "text/plain": [
       "<Figure size 432x288 with 1 Axes>"
      ]
     },
     "metadata": {
      "needs_background": "light"
     },
     "output_type": "display_data"
    }
   ],
   "source": [
    "import matplotlib.pyplot as plt\n",
    "\n",
    "fig, ax = plt.subplots(1,1)\n",
    "ax.plot(xrk,yrk,'.b',label='Runge-Kutta 4')\n",
    "ax.plot(xexact,yexact,'-k',label='exact')\n",
    "ax.legend()\n",
    "print(yrk[-1])"
   ]
  },
  {
   "cell_type": "markdown",
   "id": "overhead-cooperation",
   "metadata": {},
   "source": [
    "## Using Scipy to solve ODEs INITIAL VALUE PROBLEM - two methods\n",
    "Althougt the above example of RK4 is already good enough, scipy offers more optimized versions:\n",
    "\n",
    "Scipy  offers two methods to solve ODE initial value problem:\n",
    "\n",
    "* ***scipy.integrate.odeint***\n",
    "* ***scipy.integrate.solve_ivp()***\n"
   ]
  },
  {
   "cell_type": "markdown",
   "id": "talented-passenger",
   "metadata": {},
   "source": [
    "* https://docs.scipy.org/doc/scipy/reference/generated/scipy.integrate.odeint.html#scipy.integrate.odeint\n",
    "\n",
    "* https://docs.scipy.org/doc/scipy/reference/generated/scipy.integrate.solve_ivp.html \n",
    "\n",
    "* both are very similar\n",
    "* scipy.integrate.solve_ivp() is prefered due being more modern and having more options"
   ]
  },
  {
   "cell_type": "markdown",
   "id": "sublime-strain",
   "metadata": {},
   "source": [
    "## SCIPY.INTEGRATE.ODEINT\n",
    "* https://docs.scipy.org/doc/scipy/reference/generated/scipy.integrate.odeint.html#scipy.integrate.odeint \n",
    "\n",
    "* (just in case you see a profesor using this one)"
   ]
  },
  {
   "cell_type": "markdown",
   "id": "portable-market",
   "metadata": {},
   "source": [
    "Lets take the same example as previously:\n",
    "\n",
    "$$ \\frac{dy}{dt} = yt^2 -1.2y$$\n",
    "\n",
    "but Im searching for how `y` depends on `t`: `y(t)=...`\n",
    "\n",
    "$$ f(x,y) = yt^2 -1.2y$$\n",
    "We can define the know function:\n",
    "$$ \\frac{dy}{dt} = f(t,y) $$\n",
    "wit the inital condition $y(0)=0.76$ over the interval of [-2,2], using h=0.5 "
   ]
  },
  {
   "cell_type": "markdown",
   "id": "hindu-bacteria",
   "metadata": {},
   "source": [
    "# implementacion: `scipy.integrate.odeint(func, y0, t, args=())`"
   ]
  },
  {
   "cell_type": "code",
   "execution_count": null,
   "id": "color-florence",
   "metadata": {},
   "outputs": [],
   "source": []
  },
  {
   "cell_type": "code",
   "execution_count": null,
   "id": "filled-brooks",
   "metadata": {},
   "outputs": [],
   "source": []
  },
  {
   "cell_type": "code",
   "execution_count": null,
   "id": "charitable-german",
   "metadata": {},
   "outputs": [],
   "source": []
  },
  {
   "cell_type": "code",
   "execution_count": null,
   "id": "regional-characteristic",
   "metadata": {},
   "outputs": [],
   "source": []
  },
  {
   "cell_type": "code",
   "execution_count": null,
   "id": "collect-fancy",
   "metadata": {},
   "outputs": [],
   "source": []
  },
  {
   "cell_type": "code",
   "execution_count": null,
   "id": "arbitrary-given",
   "metadata": {},
   "outputs": [],
   "source": []
  },
  {
   "cell_type": "markdown",
   "id": "expanded-pixel",
   "metadata": {},
   "source": [
    "## SCIPY.INTEGRATE.SOLVE_IVP (preferred for more options) \n",
    "\n",
    "* IVP stands for Initial Value Problem\n",
    "* uses RK45 or other methods\n",
    "* https://docs.scipy.org/doc/scipy/reference/generated/scipy.integrate.solve_ivp.html\n",
    "* returns object\n",
    "* note y[[]]"
   ]
  },
  {
   "cell_type": "markdown",
   "id": "nominated-zealand",
   "metadata": {},
   "source": [
    "# implementation of `scipy.integrate.solve_ivp(fun, t_span, y0, method='RK45', t_eval=None,`"
   ]
  },
  {
   "cell_type": "code",
   "execution_count": null,
   "id": "excellent-sterling",
   "metadata": {},
   "outputs": [],
   "source": []
  },
  {
   "cell_type": "code",
   "execution_count": null,
   "id": "powered-seven",
   "metadata": {},
   "outputs": [],
   "source": []
  }
 ],
 "metadata": {
  "kernelspec": {
   "display_name": "Python 3",
   "language": "python",
   "name": "python3"
  },
  "language_info": {
   "codemirror_mode": {
    "name": "ipython",
    "version": 3
   },
   "file_extension": ".py",
   "mimetype": "text/x-python",
   "name": "python",
   "nbconvert_exporter": "python",
   "pygments_lexer": "ipython3",
   "version": "3.7.2"
  }
 },
 "nbformat": 4,
 "nbformat_minor": 5
}

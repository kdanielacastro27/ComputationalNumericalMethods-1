{
 "cells": [
  {
   "cell_type": "markdown",
   "id": "plain-rugby",
   "metadata": {},
   "source": [
    "# Examen parcial 2-2 (calculo numerico y algebra lineal)\n",
    "* Antes de enviar el archivo, $\\textbf{reiniciar y ejecutar el kernel}$ para ver que el archivo se compila sin errores\n",
    "* enviar el archivo jupyter sin anexos antes de las 10.00am del 21.09.2022 a mi dirección de correo electrónico: michal.hemmerling@udea.edu.co "
   ]
  },
  {
   "cell_type": "markdown",
   "id": "e96f30ba",
   "metadata": {},
   "source": [
    "# Ejercicio 1\n",
    "\n",
    "Volumen de piramide:  \n",
    "\n",
    "![](https://raw.githubusercontent.com/mhemmg/ComputationalNumericalMethods/master/extras/classes/11.Integration_02/piramide.png)\n",
    "\n",
    "a) construye integral analyticalmente para volumen de piramide  \n",
    "b) encuentre volumen de piramide dado `x`\n",
    "`https://raw.githubusercontent.com/mhemmg/ComputationalNumericalMethods/master/extras/classes/11.Integration_02/x_piramide.txt`"
   ]
  },
  {
   "cell_type": "markdown",
   "id": "nominated-beast",
   "metadata": {},
   "source": [
    "# Ejercicio 2"
   ]
  },
  {
   "cell_type": "markdown",
   "id": "federal-stake",
   "metadata": {},
   "source": [
    "Usando metodo monte carlo resuleve el siguiente integral:\n",
    "\n",
    "$$ \\int_{0}^{2} \\int_{1}^{2} \\int_{0}^{\\pi} x y \\ sin(z) \\ dz \\ dy \\ dx $$"
   ]
  },
  {
   "cell_type": "markdown",
   "id": "e702e48f",
   "metadata": {},
   "source": [
    "# Ejercicio 3\n",
    "El volumen de la esfera viene dado por"
   ]
  },
  {
   "cell_type": "markdown",
   "id": "b62800f0",
   "metadata": {},
   "source": [
    "$$V=\\int_{-a}^{a}\\pi [a^2-x^2] dx$$"
   ]
  },
  {
   "cell_type": "markdown",
   "id": "a0e6ff7f",
   "metadata": {},
   "source": [
    "* Usando `scipy.integrate.quad()` hacer una gráfica de `V` vs `a`, para `a` en rango:   \n",
    "a=[0,10]"
   ]
  }
 ],
 "metadata": {
  "kernelspec": {
   "display_name": "Python 3",
   "language": "python",
   "name": "python3"
  },
  "language_info": {
   "codemirror_mode": {
    "name": "ipython",
    "version": 3
   },
   "file_extension": ".py",
   "mimetype": "text/x-python",
   "name": "python",
   "nbconvert_exporter": "python",
   "pygments_lexer": "ipython3",
   "version": "3.7.2"
  }
 },
 "nbformat": 4,
 "nbformat_minor": 5
}

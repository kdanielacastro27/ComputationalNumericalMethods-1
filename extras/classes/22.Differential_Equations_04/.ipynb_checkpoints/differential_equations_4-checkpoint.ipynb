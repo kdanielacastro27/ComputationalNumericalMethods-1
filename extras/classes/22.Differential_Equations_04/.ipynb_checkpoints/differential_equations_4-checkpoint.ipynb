{
 "cells": [
  {
   "cell_type": "markdown",
   "id": "aquatic-military",
   "metadata": {},
   "source": [
    "# Differential equations 4: Boundary Value Problems"
   ]
  },
  {
   "cell_type": "markdown",
   "id": "uniform-canada",
   "metadata": {},
   "source": [
    "*  last two homeworks are not compulsory but similar things will be at final exam"
   ]
  },
  {
   "cell_type": "markdown",
   "id": "chronic-disposal",
   "metadata": {},
   "source": [
    "### Dictionary:\n",
    "* boundary - límite, frontera (\n",
    "The mountains mark the boundary between the two continents)\n",
    "* combine - combinar, unir\n",
    "* unlike - diferente a, contrario (Unlike you, I'm not a great dancer.)\n",
    "* residuals - residual\n",
    "* launch - lanzar (The launch of the rocket was delayed for 24 hours because of bad weather.)\n",
    "* avoid - evitar\n",
    "* obstacle - obstáculo"
   ]
  },
  {
   "cell_type": "markdown",
   "id": "suffering-median",
   "metadata": {},
   "source": [
    "### Order of the class\n",
    "* a bit more on the differential equations - nomenclature, conversion\n",
    "* Boundary value problem - Two Point Boundary Problem\n",
    "* word about a method called \"shooting method\" \n",
    "* `scipy.integrate.solve_bvp` (syntax similar to: `scipy.integrate.solve_ivp`)\n",
    "* Example 1 - launching a rocket vertically $\\frac{d^2y}{dt^2}$\n",
    "* Example 2 - obstacle avoidance $\\frac{d^2y}{dx^2}$"
   ]
  },
  {
   "cell_type": "markdown",
   "id": "whole-resource",
   "metadata": {},
   "source": [
    "### Differential equations - notation:\n",
    "\n",
    "* if $y^{\\prime}$ - first derivative over space $\\frac{dy}{dx}$\n",
    "* if $y^{\\prime \\prime}$ - second derivative over space $\\frac{d^2y}{dx^2}$\n",
    "\n",
    "* if $\\dot y$ - first derivative over time $\\frac{dy}{dt}$\n",
    "* if $\\ddot y$ - second derivative over time $\\frac{d^2y}{dt^2}$\n"
   ]
  },
  {
   "cell_type": "markdown",
   "id": "christian-bridge",
   "metadata": {},
   "source": [
    "### Simplyfing second order differential equation. Lets take an example\n",
    "\n",
    "$$\n",
    "\\begin{align*} \n",
    "\\frac{d^2y}{dt^2} &= t-y \n",
    "\\end{align*} \n",
    "$$\n",
    "\n",
    "\n",
    "So we know that the second derivative is equal to $t-y$. But the first derivative must be equal to something too! Must be equal to some function, I dont know, $z$...\n",
    "\n",
    "\n",
    "$$\n",
    "\\begin{align*} \n",
    "\\frac{dy}{dt} &= z \n",
    "\\end{align*} \n",
    "$$\n",
    "\n",
    "Then if I take the derivative of my new function $z$\n",
    "\n",
    "$$\n",
    "\\begin{align*} \n",
    "\\frac{d} {dt} \\left( z \\right) &\\equiv \\frac{d}{dt} \\left( \\frac{dy}{dt} \\right) = t-y \n",
    "\\end{align*} \n",
    "$$\n",
    "\n",
    "$$\n",
    "\\begin{align*} \n",
    "\\frac{dz} {dt} &=  t-y \n",
    "\\end{align*} \n",
    "$$\n",
    "\n",
    "\n",
    "then I can have a set of first order differential equations:\n",
    "\n",
    "$$\n",
    "\\begin{align*} \n",
    "\\frac{dy}{dt} &= z \\\\\n",
    "\\frac{dz}{dt} &= t-y\n",
    "\\end{align*} \n",
    "$$\n",
    "\n",
    "* and this can be already solved as a coupled differential equations! (as we have seen before)\n",
    "* we can rewrite it to make it easier to implement it numerically using vectors: Here we have two dependent variables $y$ and $z$ which we can represent as elements of some vector: \n",
    "  now $y=y[0]$, $z=y[1]$ and $dydx$ is vector of results of the RHS (Right Hand Side of this set of equations)\n",
    " * dydx[0] - result of the first equation\n",
    " * dydx[1] - result of the second equation\n",
    "\n",
    "$$\n",
    "\\begin{align*} \n",
    "dydx[0] &= y[1] \\\\\n",
    "dydx[1] &= t-y[0]\n",
    "\\end{align*} \n",
    "$$\n",
    "\n",
    "* why do I use this notation... bacause of rk4.f90\n"
   ]
  },
  {
   "cell_type": "markdown",
   "id": "comparable-attention",
   "metadata": {},
   "source": [
    "### Difference between IVP and BVP\n",
    "* If all the conditions are provided at the same point, the problem is said to be an Inıtial Value Problem (IVP).\n",
    "\n",
    "* If all the conditions are not provided at the same point, the problem is said to be a Boundary Value problem (BVP).\n"
   ]
  },
  {
   "cell_type": "markdown",
   "id": "metropolitan-missile",
   "metadata": {},
   "source": [
    "# Two-Point Boundary Value Problems\n",
    "* some more theory"
   ]
  },
  {
   "cell_type": "markdown",
   "id": "israeli-vertex",
   "metadata": {},
   "source": [
    "Up to now we have solved initial value problems of the form:\n",
    "\n",
    "$$ \\frac{dy}{dt}=y'=f(t,y),\\ \\ \\ a\\leq t\\leq b, \\ \\ \\ \\ y(a) = \\alpha $$\n",
    "\n",
    "Second order equations can be similarly planted as \n",
    "\n",
    "$$ \\frac{d^2y}{dt^2}=y''=f(t,y,y'),\\ \\ \\ a\\leq t\\leq b, \\ \\ \\ \\ y(a) = \\alpha \\ \\ \\ y'(a) = u $$\n",
    "\n",
    "This type of systems can be readily solved by defining the auxiliar variable $w = y'$, turning it into a first order system of equations.\n",
    "\n",
    "Now, we shall solve two-point boundary problem, where we have two conditions on the solution $y(t)$ instead of having the function and its derivative at some initial point, i.e.\n",
    "\n",
    "$$ \\frac{d^2y}{dt^2}=y''=f(t,y,y'),\\ \\ \\ a\\leq t\\leq b, \\ \\ \\ \\ y(a) = \\alpha \\ \\ \\ y(b) = \\beta $$\n",
    "\n",
    "In spite of its similar form to the initial value problem, two-point boundary problems pose a increased difficulty for numerical methods. The main reason of this is the iterative procedure performed by numerical approaches, where from an initial point, further points are found. Trying to fit two different values at different points implies then a continuous readjusting of the solution.\n",
    "\n",
    "\n",
    "\n",
    "A common way to solve these problems is by turning them into a initial-value problem\n",
    "\n",
    "$$ \\frac{d^2y}{dt^2}=y''=f(t,y,y'),\\ \\ \\ a\\leq t\\leq b, \\ \\ \\ \\ y(a) = \\alpha \\ \\ \\ y'(a) = u $$\n",
    "\n",
    "Let's suppose some choice of $u$, integrating by using some of the previous methods, we obtain the final boundary condition $y(b)=\\theta$. If the produced value is not the one we wanted from our initial problem, we try another value $u$. This can be repeated until we get a reasonable approach to $y(b)=\\beta$. This method works fine, but it is so expensive and terribly inefficient.\n",
    "\n",
    "Note when we change $u$, the final boundary value also change, so we can assume $y(b) = \\theta$. The solution to the problem can be thought then as a root-finding problem:\n",
    "\n",
    "$$ y(b) = \\theta(u) = \\beta $$\n",
    "\n",
    "or\n",
    "\n",
    "$ r(u) \\equiv \\theta(u) - \\beta = 0 $\n",
    "\n",
    "where $r(u)$ is the residual function. This problem can be thus solved using some of the methods previously seen for the root-finding problem."
   ]
  },
  {
   "cell_type": "markdown",
   "id": "numerical-appraisal",
   "metadata": {},
   "source": [
    "## A word about shooting method (if someone asks...)\n",
    "* a method (a bit like a brute-force) to solve BVP problem\n",
    "* relies on guessing a value of a function (undershooting) comparing to the expected value and overshooting - then using a interpolation method to find the value inbetween... example\n",
    "\n",
    "<img src=\"imgs/shooting_method.png\" width=\"800\" />\n",
    "\n",
    "So this is a boundary value problem!"
   ]
  },
  {
   "cell_type": "markdown",
   "id": "boolean-sudan",
   "metadata": {},
   "source": [
    "## Using scipy.integrate.solve_bvp to solve Boundary Value Problem\n",
    "\n",
    "https://docs.scipy.org/doc/scipy/reference/generated/scipy.integrate.solve_bvp.html"
   ]
  },
  {
   "cell_type": "markdown",
   "id": "bizarre-italian",
   "metadata": {},
   "source": [
    "## Example 1\n",
    "- Launching a rocket \n",
    "\n",
    "<img src=\"imgs/rocket_launch.jpg\" width=\"200\" />\n",
    "\n",
    "We are going out to launch a rocket vertically, and let $y(t)$ be the altitude (meters from the surface) of the rocket at time $t$. We know the gravity g=9.8m/s2\n",
    "\n",
    "If we want to have the rocket at $50$ meters off the ground after $3$ seconds after launching, what should be the velocity at launching? (recall that velocity dy/dt )\n",
    "\n",
    "To answer this question, we can frame the problem into a boundary value problem for a second-order ODE. The ODE is (Newton law):\n",
    "\n",
    "$$\\ddot y= −g $$\n",
    "\n",
    "so the above is exactly the same as:\n",
    "\n",
    "$$\\frac{d^2y}{dt^2}= −g $$\n",
    "\n",
    "\n",
    "with the two boundary conditions are: \n",
    "\n",
    "y(0)=0\n",
    "\n",
    "and y(3)=50. \n",
    "\n",
    "* And we want to answer the question, what’s the $\\dot y$(0) at the launching? $\\frac{dy}{dt}$"
   ]
  },
  {
   "cell_type": "markdown",
   "id": "soviet-automation",
   "metadata": {},
   "source": [
    "## Solution\n",
    "\n",
    "$$\\frac{d^2y}{dt^2}= −g $$\n",
    "\n",
    "\n",
    "First, we will reduce the order of the function, the second-order ODE becomes:\n",
    "\n",
    "$$\n",
    "\\begin{align*} \n",
    "\\frac{dy}{dt}&=v \\\\\n",
    "\\frac{dv}{dt}&=−g\n",
    "\\end{align*} \n",
    "$$\n",
    "\n",
    "* we have two dependent variables $y$ and $v$ which we can represent as elements of some vector: now $y=y[0]$, $v=y[1]$ \n",
    "\n",
    "$$\n",
    "\\begin{align*} \n",
    "dydt[0]&=y[1] \\\\\n",
    "dydt[1]&=-g \\\\\n",
    "\\end{align*} \n",
    "$$\n",
    "\n",
    "with the two boundary conditions are: \n",
    "\n",
    "y(0)=0\n",
    "\n",
    "and y(3)=50. \n"
   ]
  },
  {
   "cell_type": "markdown",
   "id": "lesbian-collar",
   "metadata": {},
   "source": [
    "## The implementation of this BVP:\n",
    "* scipy.integrate.solve_bvp (before was scipy.integrate.solve_ivp)\n",
    "* its a bit more complicated than scipy.integrate.solve_ivp\n",
    "* solve_bvp: https://docs.scipy.org/doc/scipy/reference/generated/scipy.integrate.solve_bvp.html\n",
    "* scipy.integrate.solve_bvp(fun, bc, x, y0... rest is optional\n",
    "* scipy.integrate.solve_bvp(derivs, bc, x, y0... rest is optional\n",
    "\n",
    "### Step by step:\n",
    "\n",
    "\n",
    "**1.** define the vectorized derivs funcion: derivs(y,x)\n",
    "\n",
    "* unlike the ivp_solve here t is a vector and y is an array!\n",
    "\n",
    "**2.** define the boundary condition function: bc(ya,yb)\n",
    "  *  bc: boundary conditions:\n",
    "  *  what are ya and yb:\n",
    "  *  ya and yb are two vectors \n",
    "    * ya is vector of initial values (position and velocity)\n",
    "    * yb is vector of final values (position and velocity)\n",
    "  \n",
    "  *  ya is a vector of two elements \n",
    "  *  The info of the initial position is stored in ya[0]\n",
    "  *  The info of the initial derivative (velocity) is stored in ya[1]\n",
    "\n",
    "  *  yb is also a vector of two elements        \n",
    "  *  The info of the final position is stored in yb[0]\n",
    "  *  The info of the final derivative is stored in yb[1]\n",
    "  \n",
    "     ya stores INITIAL VALUES OF THE y and y'\n",
    "     * $ya[0] = y_{ini}$\n",
    "     * $ya[1] = y_{ini}^{\\prime}$\n",
    "\n",
    "     yb stores FINAL VALUES OF THE y and y'\n",
    "     * $yb[0] = y_{fin}$\n",
    "     * $yb[1] = y_{fin}^{\\prime}$\n",
    "\n",
    "  So for example if we want to implement the condition y(3)=50\n",
    "     we have to look at yb[0] (final position, NOT derivative)\n",
    "     \n",
    "     \n",
    "  *  The implementation of the condition is simple: we define another vector called $residuals$ which will contain two elements, because we have two conditions and we say:\n",
    "\n",
    "     * residuals[0]= yb[0]-50.0 (here we look at final position of the rocket and make sure that if we subtract from it 50.0 the results is zero - meaning no residuals)\n",
    "     \n",
    "     * residuals[1]= ya[0]-0.0  (here we look at initial position of the rocket and make sure that if we subtract from it 0.0 the results is zero - meaning no residuals)\n",
    "     \n",
    "     \n",
    "  * (5-4=1, so 1 is a residual of subtraction of 4 from 5 - big residual \n",
    "  \n",
    "     5-4.9=0.1 so 0.1 is a smaller residual of subtraction of 4.9 from 5)\n",
    "     \n",
    "     \n",
    "  * so: solve_bvp will try to find such set of parameters that both elements of the residuals are zero (a bit like minimization problem) \n",
    "    \n",
    "    *residuals[0]=0\n",
    "    \n",
    "    *residuals[1]=0\n",
    "\n",
    "**3.** define space (or time domain) \n",
    "  * t_steps = 100\n",
    "  * t = np.linspace(0,3,t_steps) ### 'mesh'\n",
    "  \n",
    "**4.** initialize y0 array:\n",
    "  * give an initial guess of $y0$ let say $1$ \n",
    "  * the size of the initial guess $y0$ is different than for IVP\n",
    "  * the shape is like combined two vectors (because we have two equations) with t_steps each\n",
    "    * remember, this is not an initial value problem but boundary problems (so we have a mesh of points)\n",
    "  * so its an array of 2 rows x columns of lenght t_steps:\n",
    "  * y0 = np.ones((2,t_steps))\n",
    "  * y0 shape here would be (2,100)\n",
    "\n",
    "**5.** call the scipy.integrate.solve_bvp\n",
    "  * sol = solve_bvp(derivs, bc, t, y0)"
   ]
  },
  {
   "cell_type": "code",
   "execution_count": 1,
   "id": "annoying-schedule",
   "metadata": {},
   "outputs": [
    {
     "data": {
      "text/plain": [
       "array([[1., 1., 1., 1., 1., 1., 1., 1., 1., 1., 1., 1., 1., 1., 1., 1.,\n",
       "        1., 1., 1., 1., 1., 1., 1., 1., 1., 1., 1., 1., 1., 1., 1., 1.,\n",
       "        1., 1., 1., 1., 1., 1., 1., 1., 1., 1., 1., 1., 1., 1., 1., 1.,\n",
       "        1., 1., 1., 1., 1., 1., 1., 1., 1., 1., 1., 1., 1., 1., 1., 1.,\n",
       "        1., 1., 1., 1., 1., 1., 1., 1., 1., 1., 1., 1., 1., 1., 1., 1.,\n",
       "        1., 1., 1., 1., 1., 1., 1., 1., 1., 1., 1., 1., 1., 1., 1., 1.,\n",
       "        1., 1., 1., 1.],\n",
       "       [1., 1., 1., 1., 1., 1., 1., 1., 1., 1., 1., 1., 1., 1., 1., 1.,\n",
       "        1., 1., 1., 1., 1., 1., 1., 1., 1., 1., 1., 1., 1., 1., 1., 1.,\n",
       "        1., 1., 1., 1., 1., 1., 1., 1., 1., 1., 1., 1., 1., 1., 1., 1.,\n",
       "        1., 1., 1., 1., 1., 1., 1., 1., 1., 1., 1., 1., 1., 1., 1., 1.,\n",
       "        1., 1., 1., 1., 1., 1., 1., 1., 1., 1., 1., 1., 1., 1., 1., 1.,\n",
       "        1., 1., 1., 1., 1., 1., 1., 1., 1., 1., 1., 1., 1., 1., 1., 1.,\n",
       "        1., 1., 1., 1.]])"
      ]
     },
     "execution_count": 1,
     "metadata": {},
     "output_type": "execute_result"
    }
   ],
   "source": [
    "import numpy as np\n",
    "t_steps = 100\n",
    "y0 = np.ones((2,t_steps))\n",
    "y0"
   ]
  },
  {
   "cell_type": "markdown",
   "id": "corporate-prototype",
   "metadata": {},
   "source": [
    "#### Lets recall the problem:\n",
    "\n",
    "First, we will reduce the order of the function, the second-order ODE becomes:\n",
    "\n",
    "$$\n",
    "\\begin{align*} \n",
    "\\frac{dy}{dt}&=v \\\\\n",
    "\\frac{dv}{dt}&=−g\n",
    "\\end{align*} \n",
    "$$\n",
    "\n",
    "* we have two dependent variables $y$ and $v$ which we can represent as elements of some vector: now $y=y[0]$, $v=y[1]$ \n",
    "\n",
    "$$\n",
    "\\begin{align*} \n",
    "dydt[0]&=y[1] \\\\\n",
    "dydt[1]&=-g \\\\\n",
    "\\end{align*} \n",
    "$$\n",
    "\n",
    "with the two boundary conditions are: \n",
    "\n",
    "we want that the altitude is initially $0$ m and after $3$ seconds  is 50 meters. y(0)=0, y(3)=50 \n",
    "##### do not confuse the brackets y(0) is not  y[0]!!!!\n",
    "* y(0) is the initial value of the altitute\n",
    "* y[0] is the first element of the vector representing the altitute in the set of equations y[1] is velocity\n",
    "\n"
   ]
  },
  {
   "cell_type": "code",
   "execution_count": 2,
   "id": "growing-pepper",
   "metadata": {},
   "outputs": [],
   "source": [
    "from scipy.integrate import solve_bvp\n",
    "import numpy as np\n",
    "\n",
    "def derivs(t,y):\n",
    "    dydt=np.zeros((y.shape))\n",
    "    dydt[0]=y[1]\n",
    "    dydt[1]=-9.81\n",
    "    return dydt\n",
    "\n",
    "def bc(ya,yb):\n",
    "    residuals=np.array([0.0,0.0])\n",
    "    residuals[0]=ya[0] - 0.0\n",
    "    residuals[1]=yb[0] - 50.0\n",
    "    print(ya[1])\n",
    "#    print(residuals)\n",
    "    return residuals\n",
    "\n",
    "# give the time domain\n",
    "t_steps = 100\n",
    "t = np.linspace(0,3,t_steps)\n",
    "\n",
    "# give an initial guess\n",
    "# the size of the initial guess is different than for IVP\n",
    "# we pass two vectors  (because we have two equations) with t_steps each\n",
    "# but we combine it into one array of 2 rows t columns:\n",
    "y0 = np.ones((2,t_steps))\n",
    "#print(y0.shape)\n",
    "# solve the system\n",
    "\n",
    "\n"
   ]
  },
  {
   "cell_type": "code",
   "execution_count": 3,
   "id": "qualified-therapist",
   "metadata": {},
   "outputs": [
    {
     "name": "stdout",
     "output_type": "stream",
     "text": [
      "1.0\n",
      "1.0\n",
      "1.0\n",
      "1.0000000298023224\n",
      "1.0\n",
      "1.0\n",
      "31.381666666666653\n",
      "31.381666666666653\n"
     ]
    }
   ],
   "source": [
    "sol = solve_bvp(derivs, bc, t, y0)"
   ]
  },
  {
   "cell_type": "code",
   "execution_count": 4,
   "id": "raised-revolution",
   "metadata": {},
   "outputs": [],
   "source": [
    "# Those printed values are the initial velocities found iteratively:"
   ]
  },
  {
   "cell_type": "code",
   "execution_count": 5,
   "id": "undefined-doctrine",
   "metadata": {},
   "outputs": [
    {
     "data": {
      "text/plain": [
       "1.9516666666666387"
      ]
     },
     "execution_count": 5,
     "metadata": {},
     "output_type": "execute_result"
    }
   ],
   "source": [
    "sol.y[1][-1]"
   ]
  },
  {
   "cell_type": "code",
   "execution_count": 6,
   "id": "injured-liechtenstein",
   "metadata": {},
   "outputs": [
    {
     "name": "stdout",
     "output_type": "stream",
     "text": [
      "-1.6666666666666667\n",
      "50.0\n"
     ]
    },
    {
     "data": {
      "image/png": "[encoded data removed]",
      "text/plain": [
       "<Figure size 432x288 with 1 Axes>"
      ]
     },
     "metadata": {
      "needs_background": "light"
     },
     "output_type": "display_data"
    }
   ],
   "source": [
    "import matplotlib.pyplot as plt\n",
    "fig, ax=plt.subplots(1,1)\n",
    "ax.plot(sol.x, sol.y[0],'-r',label='vertical launch: y vs time!')\n",
    "ax.plot(3,50,'.b')\n",
    "ax.set_xlabel('t')\n",
    "ax.set_ylabel('y(t)')\n",
    "ax.legend()\n",
    "print(-5/3)\n",
    "print(sol.y[0][-1])"
   ]
  },
  {
   "cell_type": "markdown",
   "id": "periodic-baking",
   "metadata": {},
   "source": [
    "## Homework\n",
    "Using scipy.integrate.solve_bvp solve the problem presented in the shooting method section:\n",
    "\n",
    "<img src=\"imgs/shooting_method.png\" width=\"800\" />"
   ]
  },
  {
   "cell_type": "code",
   "execution_count": null,
   "id": "editorial-screen",
   "metadata": {},
   "outputs": [],
   "source": []
  }
 ],
 "metadata": {
  "kernelspec": {
   "display_name": "Python 3",
   "language": "python",
   "name": "python3"
  },
  "language_info": {
   "codemirror_mode": {
    "name": "ipython",
    "version": 3
   },
   "file_extension": ".py",
   "mimetype": "text/x-python",
   "name": "python",
   "nbconvert_exporter": "python",
   "pygments_lexer": "ipython3",
   "version": "3.7.2"
  }
 },
 "nbformat": 4,
 "nbformat_minor": 5
}

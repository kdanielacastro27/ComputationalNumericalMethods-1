{
 "cells": [
  {
   "cell_type": "markdown",
   "id": "usual-washer",
   "metadata": {},
   "source": [
    "# Ejercicio 1"
   ]
  },
  {
   "cell_type": "markdown",
   "id": "hungry-arizona",
   "metadata": {},
   "source": [
    "We can use integration to develop a formula for calculating mass based on a density function. First we consider a thin rod or wire. Orient the rod so it aligns with the x-axis, with the left end of the rod at x=a and the right end of the rod at x=b  Note that although we depict the rod with some thickness in the figures, for mathematical purposes we assume the rod is thin enough to be treated as a one-dimensional object."
   ]
  },
  {
   "cell_type": "markdown",
   "id": "intensive-chassis",
   "metadata": {},
   "source": [
    "<table><tr>\n",
    "<td> <img src=\"rod.jpg\" width=\"300\" /> </td>\n",
    "</tr></table>   "
   ]
  },
  {
   "cell_type": "markdown",
   "id": "potential-stocks",
   "metadata": {},
   "source": [
    "If the rod has constant density ρ, given in terms of mass per unit length, then the mass of the rod is just the product of the density and the length of the rod: (b−a)ρ. "
   ]
  },
  {
   "cell_type": "markdown",
   "id": "conventional-packing",
   "metadata": {},
   "source": [
    "If the density of the rod is not constant, however, the problem becomes a little more challenging. When the density of the rod varies from point to point, we use a linear density function, ρ(x), to denote the density of the rod at any point, x. "
   ]
  },
  {
   "cell_type": "markdown",
   "id": "southwest-alliance",
   "metadata": {},
   "source": [
    "Let ρ(x) be an integrable linear density function. Now, for i=0,1,2,…,n let P={xi} be a regular partition of the interval [a,b], and for i=1,2,…,n choose an arbitrary point x∗i∈[xi−1,xi]."
   ]
  },
  {
   "cell_type": "markdown",
   "id": "fabulous-capture",
   "metadata": {},
   "source": [
    "the mass of a single segment would be:\n",
    "$$ m_i=\\rho(x_i)*(x_{i+1}-x_{i})=\\rho(x_i)*\\Delta x$$"
   ]
  },
  {
   "cell_type": "markdown",
   "id": "closing-heading",
   "metadata": {},
   "source": [
    "the mass of all the segments would be:\n",
    "$$ m=\\sum_{i=1}^{n} m_i = \\sum_{i=1}^{n} \\rho(x_i)\\Delta x$$"
   ]
  },
  {
   "cell_type": "markdown",
   "id": "applicable-tampa",
   "metadata": {},
   "source": [
    "but this is a Riemann sum that for infinite number of elements (infinitezimally small) will become and integral\n",
    "$$ m =  \\int_{a}^{b} \\rho (x) \\ dx $$"
   ]
  },
  {
   "cell_type": "markdown",
   "id": "pretty-conference",
   "metadata": {},
   "source": [
    "#### So, here comes the exercise:\n",
    "\n",
    "Masa de una barra delgada en el intervalo [a, b] es dada por Integral:\n",
    "\n",
    "$$ m =  \\int_{a}^{b} \\rho (x) \\ dx $$\n",
    "\n",
    "donde $\\rho(x)$ es una función de densidad linear\n",
    "\n",
    "\n",
    "\n",
    "El archivo $\\textbf{data_distance_density.csv}$ contiene dos columnas: la distancia un la barra ($ x $) y la densidad ($ \\rho (x) $) de la barra como función del distancia.\n",
    "\n",
    "* a) importar los datos usando pandas, graficar la densidad de la barra $\\rho(x)$ vs $x$ (los gráficos deben tener etiquetas para el eje x y el eje y).\n",
    "\n",
    "* b) calcular la masa de la barra mediante integración numérica\n",
    "\n",
    "* c) Está cambiando la densidad con la distancia como $\\rho(x) = sin(x)$? Pruébalo."
   ]
  },
  {
   "cell_type": "markdown",
   "id": "pharmaceutical-trinidad",
   "metadata": {},
   "source": [
    "you can also define function to solve this"
   ]
  },
  {
   "cell_type": "code",
   "execution_count": null,
   "id": "electoral-iceland",
   "metadata": {},
   "outputs": [],
   "source": []
  }
 ],
 "metadata": {
  "kernelspec": {
   "display_name": "Python 3",
   "language": "python",
   "name": "python3"
  },
  "language_info": {
   "codemirror_mode": {
    "name": "ipython",
    "version": 3
   },
   "file_extension": ".py",
   "mimetype": "text/x-python",
   "name": "python",
   "nbconvert_exporter": "python",
   "pygments_lexer": "ipython3",
   "version": "3.7.2"
  }
 },
 "nbformat": 4,
 "nbformat_minor": 5
}

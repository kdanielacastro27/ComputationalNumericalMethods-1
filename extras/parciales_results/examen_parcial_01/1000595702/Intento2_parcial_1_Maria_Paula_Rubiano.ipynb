{
 "cells": [
  {
   "cell_type": "markdown",
   "metadata": {
    "id": "USRMSzVy4fU_"
   },
   "source": [
    "##María Paula Rubiano Núñez\n",
    "\n",
    "Parcial I - Métodos Computacionales\n",
    "\n",
    "C.C. 1000595702"
   ]
  },
  {
   "cell_type": "markdown",
   "metadata": {
    "id": "Q81sL9cFKsh0"
   },
   "source": [
    "##Ejercicio I:\n",
    "Usando cualquier método de búsqueda de raíz evalúe: $ \\sqrt{2} $ Compara tu resultado con el resultado de numpy"
   ]
  },
  {
   "cell_type": "code",
   "execution_count": 59,
   "metadata": {
    "id": "myFG3dEg4V7N"
   },
   "outputs": [],
   "source": [
    "import pandas as pd\n",
    "import matplotlib.pyplot as plt\n",
    "from scipy.interpolate import interp1d\n",
    "import numpy as np\n",
    "import math\n",
    "from scipy import optimize"
   ]
  },
  {
   "cell_type": "code",
   "execution_count": 63,
   "metadata": {
    "id": "5eUVSzt7Kwol"
   },
   "outputs": [],
   "source": [
    "def fun(x):\n",
    "  f = x**2-2\n",
    "  return f\n",
    "  \n",
    "root = optimize.brentq(fun, 0, 4, xtol=1.0e-10)"
   ]
  },
  {
   "cell_type": "code",
   "execution_count": 64,
   "metadata": {
    "colab": {
     "base_uri": "https://localhost:8080/"
    },
    "id": "994GL-nYM8TE",
    "outputId": "a3d7c880-9c27-43d0-d0b9-c4cc9aa6e993"
   },
   "outputs": [
    {
     "name": "stdout",
     "output_type": "stream",
     "text": [
      "1.4142135623711332\n"
     ]
    }
   ],
   "source": [
    "print(root)"
   ]
  },
  {
   "cell_type": "code",
   "execution_count": 66,
   "metadata": {
    "colab": {
     "base_uri": "https://localhost:8080/"
    },
    "id": "vMvuTHreNwk8",
    "outputId": "4b99ba94-5d11-4684-9249-ecbcf6c8498d"
   },
   "outputs": [
    {
     "data": {
      "text/plain": [
       "1.4142135623730951"
      ]
     },
     "execution_count": 66,
     "metadata": {},
     "output_type": "execute_result"
    }
   ],
   "source": [
    "np.sqrt(2)"
   ]
  },
  {
   "cell_type": "markdown",
   "metadata": {
    "id": "JKsGEMCVOBAb"
   },
   "source": [
    "Check :D"
   ]
  },
  {
   "cell_type": "markdown",
   "metadata": {
    "id": "WDgy2Y10408l"
   },
   "source": [
    "* a) importar los datos usando pandas\n",
    "* b) hacer un gráfico de $x$ vs $y$ (curva tiene que tener etiquieta)\n",
    "* c) interpolar los puntos con spline (usando 100 puntos) \n",
    "* d) anadir curva a grafico anterior con datos interpolados de $x_{interp}$ vs $y_{interp}$ (curva tiene que tener etiquieta)"
   ]
  },
  {
   "cell_type": "code",
   "execution_count": 2,
   "metadata": {
    "colab": {
     "base_uri": "https://localhost:8080/"
    },
    "id": "2__r81D25L5z",
    "outputId": "d269afd2-af54-42af-c07b-50fc094e2033"
   },
   "outputs": [
    {
     "name": "stdout",
     "output_type": "stream",
     "text": [
      "--2022-08-10 13:54:58--  https://raw.githubusercontent.com/mhemmg/ComputationalNumericalMethods/master/extras/additional_materials/examen_parcial_I_b/xvec_yvec.csv\n",
      "Resolving raw.githubusercontent.com (raw.githubusercontent.com)... 185.199.108.133, 185.199.109.133, 185.199.110.133, ...\n",
      "Connecting to raw.githubusercontent.com (raw.githubusercontent.com)|185.199.108.133|:443... connected.\n",
      "HTTP request sent, awaiting response... 200 OK\n",
      "Length: 781 [text/plain]\n",
      "Saving to: ‘xvec_yvec.csv.1’\n",
      "\n",
      "\r",
      "xvec_yvec.csv.1       0%[                    ]       0  --.-KB/s               \r",
      "xvec_yvec.csv.1     100%[===================>]     781  --.-KB/s    in 0s      \n",
      "\n",
      "2022-08-10 13:54:58 (66.2 MB/s) - ‘xvec_yvec.csv.1’ saved [781/781]\n",
      "\n"
     ]
    }
   ],
   "source": [
    "!wget https://raw.githubusercontent.com/mhemmg/ComputationalNumericalMethods/master/extras/additional_materials/examen_parcial_I_b/xvec_yvec.csv"
   ]
  },
  {
   "cell_type": "code",
   "execution_count": 3,
   "metadata": {
    "colab": {
     "base_uri": "https://localhost:8080/"
    },
    "id": "n9rWpS0Y5jXa",
    "outputId": "6cd2d5d2-82dd-4dbe-a56f-cbd582c7f066"
   },
   "outputs": [
    {
     "name": "stdout",
     "output_type": "stream",
     "text": [
      "sample_data  xvec_yvec.csv  xvec_yvec.csv.1\n"
     ]
    }
   ],
   "source": [
    "!ls"
   ]
  },
  {
   "cell_type": "code",
   "execution_count": 4,
   "metadata": {
    "id": "6Q_QD_K75mX9"
   },
   "outputs": [],
   "source": [
    "datos = pd.read_csv(\"xvec_yvec.csv\", sep=',')"
   ]
  },
  {
   "cell_type": "code",
   "execution_count": 5,
   "metadata": {
    "colab": {
     "base_uri": "https://localhost:8080/",
     "height": 206
    },
    "id": "TqT2_7Ml7ck7",
    "outputId": "9849eb44-dece-4724-c36e-e8dba57751a4"
   },
   "outputs": [
    {
     "data": {
      "text/html": [
       "\n",
       "  <div id=\"df-a55864a3-3a20-42ce-98c2-4e4992db15a5\">\n",
       "    <div class=\"colab-df-container\">\n",
       "      <div>\n",
       "<style scoped>\n",
       "    .dataframe tbody tr th:only-of-type {\n",
       "        vertical-align: middle;\n",
       "    }\n",
       "\n",
       "    .dataframe tbody tr th {\n",
       "        vertical-align: top;\n",
       "    }\n",
       "\n",
       "    .dataframe thead th {\n",
       "        text-align: right;\n",
       "    }\n",
       "</style>\n",
       "<table border=\"1\" class=\"dataframe\">\n",
       "  <thead>\n",
       "    <tr style=\"text-align: right;\">\n",
       "      <th></th>\n",
       "      <th>xvec</th>\n",
       "      <th>yvec</th>\n",
       "    </tr>\n",
       "  </thead>\n",
       "  <tbody>\n",
       "    <tr>\n",
       "      <th>0</th>\n",
       "      <td>-3.000000</td>\n",
       "      <td>0.001826</td>\n",
       "    </tr>\n",
       "    <tr>\n",
       "      <th>1</th>\n",
       "      <td>-2.684211</td>\n",
       "      <td>0.008663</td>\n",
       "    </tr>\n",
       "    <tr>\n",
       "      <th>2</th>\n",
       "      <td>-2.368421</td>\n",
       "      <td>-0.015065</td>\n",
       "    </tr>\n",
       "    <tr>\n",
       "      <th>3</th>\n",
       "      <td>-2.052632</td>\n",
       "      <td>-0.042610</td>\n",
       "    </tr>\n",
       "    <tr>\n",
       "      <th>4</th>\n",
       "      <td>-1.736842</td>\n",
       "      <td>0.011004</td>\n",
       "    </tr>\n",
       "  </tbody>\n",
       "</table>\n",
       "</div>\n",
       "      <button class=\"colab-df-convert\" onclick=\"convertToInteractive('df-a55864a3-3a20-42ce-98c2-4e4992db15a5')\"\n",
       "              title=\"Convert this dataframe to an interactive table.\"\n",
       "              style=\"display:none;\">\n",
       "        \n",
       "  <svg xmlns=\"http://www.w3.org/2000/svg\" height=\"24px\"viewBox=\"0 0 24 24\"\n",
       "       width=\"24px\">\n",
       "    <path d=\"M0 0h24v24H0V0z\" fill=\"none\"/>\n",
       "    <path d=\"M18.56 5.44l.94 2.06.94-2.06 2.06-.94-2.06-.94-.94-2.06-.94 2.06-2.06.94zm-11 1L8.5 8.5l.94-2.06 2.06-.94-2.06-.94L8.5 2.5l-.94 2.06-2.06.94zm10 10l.94 2.06.94-2.06 2.06-.94-2.06-.94-.94-2.06-.94 2.06-2.06.94z\"/><path d=\"M17.41 7.96l-1.37-1.37c-.4-.4-.92-.59-1.43-.59-.52 0-1.04.2-1.43.59L10.3 9.45l-7.72 7.72c-.78.78-.78 2.05 0 2.83L4 21.41c.39.39.9.59 1.41.59.51 0 1.02-.2 1.41-.59l7.78-7.78 2.81-2.81c.8-.78.8-2.07 0-2.86zM5.41 20L4 18.59l7.72-7.72 1.47 1.35L5.41 20z\"/>\n",
       "  </svg>\n",
       "      </button>\n",
       "      \n",
       "  <style>\n",
       "    .colab-df-container {\n",
       "      display:flex;\n",
       "      flex-wrap:wrap;\n",
       "      gap: 12px;\n",
       "    }\n",
       "\n",
       "    .colab-df-convert {\n",
       "      background-color: #E8F0FE;\n",
       "      border: none;\n",
       "      border-radius: 50%;\n",
       "      cursor: pointer;\n",
       "      display: none;\n",
       "      fill: #1967D2;\n",
       "      height: 32px;\n",
       "      padding: 0 0 0 0;\n",
       "      width: 32px;\n",
       "    }\n",
       "\n",
       "    .colab-df-convert:hover {\n",
       "      background-color: #E2EBFA;\n",
       "      box-shadow: 0px 1px 2px rgba(60, 64, 67, 0.3), 0px 1px 3px 1px rgba(60, 64, 67, 0.15);\n",
       "      fill: #174EA6;\n",
       "    }\n",
       "\n",
       "    [theme=dark] .colab-df-convert {\n",
       "      background-color: #3B4455;\n",
       "      fill: #D2E3FC;\n",
       "    }\n",
       "\n",
       "    [theme=dark] .colab-df-convert:hover {\n",
       "      background-color: #434B5C;\n",
       "      box-shadow: 0px 1px 3px 1px rgba(0, 0, 0, 0.15);\n",
       "      filter: drop-shadow(0px 1px 2px rgba(0, 0, 0, 0.3));\n",
       "      fill: #FFFFFF;\n",
       "    }\n",
       "  </style>\n",
       "\n",
       "      <script>\n",
       "        const buttonEl =\n",
       "          document.querySelector('#df-a55864a3-3a20-42ce-98c2-4e4992db15a5 button.colab-df-convert');\n",
       "        buttonEl.style.display =\n",
       "          google.colab.kernel.accessAllowed ? 'block' : 'none';\n",
       "\n",
       "        async function convertToInteractive(key) {\n",
       "          const element = document.querySelector('#df-a55864a3-3a20-42ce-98c2-4e4992db15a5');\n",
       "          const dataTable =\n",
       "            await google.colab.kernel.invokeFunction('convertToInteractive',\n",
       "                                                     [key], {});\n",
       "          if (!dataTable) return;\n",
       "\n",
       "          const docLinkHtml = 'Like what you see? Visit the ' +\n",
       "            '<a target=\"_blank\" href=https://colab.research.google.com/notebooks/data_table.ipynb>data table notebook</a>'\n",
       "            + ' to learn more about interactive tables.';\n",
       "          element.innerHTML = '';\n",
       "          dataTable['output_type'] = 'display_data';\n",
       "          await google.colab.output.renderOutput(dataTable, element);\n",
       "          const docLink = document.createElement('div');\n",
       "          docLink.innerHTML = docLinkHtml;\n",
       "          element.appendChild(docLink);\n",
       "        }\n",
       "      </script>\n",
       "    </div>\n",
       "  </div>\n",
       "  "
      ],
      "text/plain": [
       "       xvec      yvec\n",
       "0 -3.000000  0.001826\n",
       "1 -2.684211  0.008663\n",
       "2 -2.368421 -0.015065\n",
       "3 -2.052632 -0.042610\n",
       "4 -1.736842  0.011004"
      ]
     },
     "execution_count": 5,
     "metadata": {},
     "output_type": "execute_result"
    }
   ],
   "source": [
    "datos.head()"
   ]
  },
  {
   "cell_type": "code",
   "execution_count": 6,
   "metadata": {
    "id": "7EEtDnrF7fZe"
   },
   "outputs": [],
   "source": [
    "xvec = datos['xvec'].to_numpy()\n",
    "yvec = datos['yvec']"
   ]
  },
  {
   "cell_type": "code",
   "execution_count": 7,
   "metadata": {
    "colab": {
     "base_uri": "https://localhost:8080/",
     "height": 279
    },
    "id": "BruwKfV67-Sv",
    "outputId": "6c8f2f53-710c-478c-9fdc-2faa0d76e4d2"
   },
   "outputs": [
    {
     "data": {
      "image/png": "[encoded data removed]",
      "text/plain": [
       "<Figure size 432x288 with 1 Axes>"
      ]
     },
     "metadata": {
      "needs_background": "light"
     },
     "output_type": "display_data"
    }
   ],
   "source": [
    "fig,ax=plt.subplots(1,1)\n",
    "ax.set_xlabel(\"xvec\")\n",
    "ax.set_ylabel(\"yvec\")\n",
    "ax.plot(xvec, yvec, 'o', label=\"xvec vs yvec\")\n",
    "ax.legend()\n",
    "ax.grid()"
   ]
  },
  {
   "cell_type": "code",
   "execution_count": 8,
   "metadata": {
    "colab": {
     "base_uri": "https://localhost:8080/"
    },
    "id": "zVo0Ac_v91K3",
    "outputId": "d12fa7a9-35fe-4bb6-d266-a1902f115d40"
   },
   "outputs": [
    {
     "data": {
      "text/plain": [
       "array([-3.        , -2.68421053, -2.36842105, -2.05263158, -1.73684211,\n",
       "       -1.42105263, -1.10526316, -0.78947368, -0.47368421, -0.15789474,\n",
       "        0.15789474,  0.47368421,  0.78947368,  1.10526316,  1.42105263,\n",
       "        1.73684211,  2.05263158,  2.36842105,  2.68421053,  3.        ])"
      ]
     },
     "execution_count": 8,
     "metadata": {},
     "output_type": "execute_result"
    }
   ],
   "source": [
    "xvec"
   ]
  },
  {
   "cell_type": "code",
   "execution_count": 23,
   "metadata": {
    "colab": {
     "base_uri": "https://localhost:8080/",
     "height": 295
    },
    "id": "XgxD7Qi39D6e",
    "outputId": "6226e273-e144-4032-8de4-f77c5dbd818f"
   },
   "outputs": [
    {
     "data": {
      "image/png": "[encoded data removed]",
      "text/plain": [
       "<Figure size 432x288 with 1 Axes>"
      ]
     },
     "metadata": {
      "needs_background": "light"
     },
     "output_type": "display_data"
    }
   ],
   "source": [
    "interp = interp1d(xvec, yvec, kind='cubic')\n",
    "xnew = np.linspace(xvec[0], xvec[-1], 200)\n",
    "\n",
    "fig,ax = plt.subplots(1,1)\n",
    "ax.plot(xnew, interp(xnew), 'o', label=\"xvec vs yvec\")\n",
    "ax.set_title('xvec vs yvec - Interpolación Spline')\n",
    "ax.set_xlabel(\"xvec\")\n",
    "ax.set_ylabel(\"yvec\")\n",
    "ax.legend()\n",
    "ax.grid()"
   ]
  },
  {
   "cell_type": "markdown",
   "metadata": {
    "id": "yXh0cD5LD7EQ"
   },
   "source": [
    "# Ejercicio III:\n",
    "Se da función (serie de Taylor)"
   ]
  },
  {
   "cell_type": "code",
   "execution_count": 32,
   "metadata": {
    "id": "sHjEnqTeDY0K"
   },
   "outputs": [],
   "source": [
    "import time\n",
    "\n",
    "def cos_taylor(x,k):\n",
    "    cos=0\n",
    "    for k in range(k):\n",
    "        cos=cos+(-1)**k/math.factorial(2*k)*x**(2*k)\n",
    "    return cos"
   ]
  },
  {
   "cell_type": "code",
   "execution_count": 41,
   "metadata": {
    "colab": {
     "base_uri": "https://localhost:8080/"
    },
    "id": "BFrSSrhSF-sv",
    "outputId": "c2fa119e-c3c2-4221-ae0b-c1c45c95314a"
   },
   "outputs": [
    {
     "name": "stdout",
     "output_type": "stream",
     "text": [
      "0.06979823112487793\n"
     ]
    }
   ],
   "source": [
    "tiempo1 = time.time()\n",
    "\n",
    "cos_taylor(0.2,1000)\n",
    "\n",
    "tiempo2 = time.time()\n",
    "\n",
    "tiemp_div = tiempo2 - tiempo1\n",
    "print(tiemp_div)"
   ]
  },
  {
   "cell_type": "code",
   "execution_count": 53,
   "metadata": {
    "id": "d3r73F8GGVy9"
   },
   "outputs": [],
   "source": [
    "k_s = [1,10,100,1000,2000,3000,4000,5000]\n",
    "x = 0.2\n",
    "\n",
    "lista = []\n",
    "tiempos = []\n",
    "\n",
    "for i in k_s:\n",
    "  tiempo1 = time.time()\n",
    "  cos_taylor(0.2,i)\n",
    "  tiempo2 = time.time()\n",
    "  tiemp_div = tiempo2 - tiempo1\n",
    "\n",
    "  tiempos.append(tiemp_div)\n"
   ]
  },
  {
   "cell_type": "code",
   "execution_count": 54,
   "metadata": {
    "colab": {
     "base_uri": "https://localhost:8080/"
    },
    "id": "tY57yPtNIjHm",
    "outputId": "4d5e41d2-e553-42d0-aeae-83ca1b05fba8"
   },
   "outputs": [
    {
     "name": "stdout",
     "output_type": "stream",
     "text": [
      "[7.62939453125e-06, 1.2636184692382812e-05, 0.0002639293670654297, 0.049550771713256836, 0.30104970932006836, 0.9520785808563232, 2.131256103515625, 4.002065181732178]\n"
     ]
    }
   ],
   "source": [
    "print(tiempos)"
   ]
  },
  {
   "cell_type": "markdown",
   "metadata": {
    "id": "IFT1C9PbEIJt"
   },
   "source": [
    "Hacer una gráfica de tiempo de la ejecución de la función para varios `k`, `ks=[1,10,100,1000,2000,3000,4000,5000]` y para `x=0.2` "
   ]
  },
  {
   "cell_type": "code",
   "execution_count": 57,
   "metadata": {
    "colab": {
     "base_uri": "https://localhost:8080/",
     "height": 295
    },
    "id": "jCRlieI0IysO",
    "outputId": "685fabf5-dc99-4343-bb49-2d779f3ebdba"
   },
   "outputs": [
    {
     "data": {
      "image/png": "[encoded data removed]",
      "text/plain": [
       "<Figure size 432x288 with 1 Axes>"
      ]
     },
     "metadata": {
      "needs_background": "light"
     },
     "output_type": "display_data"
    }
   ],
   "source": [
    "fig,ax = plt.subplots(1,1)\n",
    "ax.plot(k_s, tiempos, 'o', label=\"Tiempo vs ks\")\n",
    "ax.set_title('Tiempo de ejecución vs ks')\n",
    "ax.set_xlabel(\"tiempo\")\n",
    "ax.set_ylabel(\"ks\")\n",
    "ax.legend()\n",
    "ax.grid()"
   ]
  },
  {
   "cell_type": "markdown",
   "metadata": {},
   "source": [
    "# Criterias:\n",
    "\n",
    "```\n",
    "# Exercise 1 (max 4p):\n",
    "#   correct solution:                            4.0p   \n",
    "\n",
    "# Exercise 2 (max 4p):\n",
    "#   loading data + plot (max: 2.0p):             2.0p   \n",
    "#   interpolating + plot (max. 2.0p):            2.0p \n",
    "\n",
    "\n",
    "# Exercise 3 (max 2p):\n",
    "#   implementation (max: 1.0p):                  1.0p   \n",
    "#   plot (max: 1.0p):                            1.0p   \n",
    "\n",
    "# TOTAL:                                         10.0p (out of 10p) \n",
    "\n",
    "```    "
   ]
  },
  {
   "cell_type": "code",
   "execution_count": null,
   "metadata": {},
   "outputs": [],
   "source": []
  }
 ],
 "metadata": {
  "colab": {
   "name": "Intento2_parcial_1_María_Paula_Rubiano.ipynb",
   "provenance": []
  },
  "kernelspec": {
   "display_name": "Python 3",
   "language": "python",
   "name": "python3"
  },
  "language_info": {
   "codemirror_mode": {
    "name": "ipython",
    "version": 3
   },
   "file_extension": ".py",
   "mimetype": "text/x-python",
   "name": "python",
   "nbconvert_exporter": "python",
   "pygments_lexer": "ipython3",
   "version": "3.7.2"
  }
 },
 "nbformat": 4,
 "nbformat_minor": 1
}

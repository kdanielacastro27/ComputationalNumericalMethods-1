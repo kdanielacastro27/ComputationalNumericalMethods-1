{
 "cells": [
  {
   "cell_type": "markdown",
   "id": "B1oRdwuLofIN",
   "metadata": {
    "id": "B1oRdwuLofIN"
   },
   "source": [
    "#Santiago Herrera Guzmán\n",
    "## CC. 1010157719"
   ]
  },
  {
   "cell_type": "code",
   "execution_count": 1,
   "id": "FqXVQREGWJ-h",
   "metadata": {
    "id": "FqXVQREGWJ-h"
   },
   "outputs": [],
   "source": [
    "import matplotlib.pyplot as plt\n",
    "import numpy as np\n",
    "import pandas as pd\n",
    "import scipy.integrate as integrate"
   ]
  },
  {
   "cell_type": "markdown",
   "id": "plain-rugby",
   "metadata": {
    "id": "plain-rugby"
   },
   "source": [
    "# Examen parcial 2 (calculo numerico y algebra lineal)\n",
    "* Antes de enviar el archivo, $\\textbf{reiniciar y ejecutar el kernel}$ para ver que el archivo se compila sin errores\n",
    "* enviar el archivo jupyter sin anexos antes de las 09.59am del 30.08.2022 a mi dirección de correo electrónico: michal.hemmerling@udea.edu.co "
   ]
  },
  {
   "cell_type": "markdown",
   "id": "usual-washer",
   "metadata": {
    "id": "usual-washer"
   },
   "source": [
    "# Ejercicio 1"
   ]
  },
  {
   "cell_type": "markdown",
   "id": "pretty-conference",
   "metadata": {
    "id": "pretty-conference"
   },
   "source": [
    "El archivo $\\textbf{data_radius_density.csv}$ contiene dos columnas: radio ($ r $) y la densidad ($ \\rho (r) $) de un disco plano en función del radio\n",
    "\n",
    "El disco es lo suficientemente delgado como para que, con fines matemáticos, podamos tratarlo como un objeto bidimensional. Asumimos que la densidad se da en términos de masa por unidad de área (llamada densidad de área), y además asumimos que la densidad varía solo a lo largo del radio del disco (llamada densidad radial). Orientamos el disco en el plano xy, con el centro en el origen. Entonces, la densidad del disco puede ser tratada como una función de x, denotada $\\rho(x)$.\n",
    "<table><tr>\n",
    "<td> <img src=\"disk_radius_density.png\" width=\"500\" /> </td>\n",
    "</tr></table>   \n",
    "\n",
    "* a) importar los datos usando Pandas, graficar la densidad del disco frente a su radio (los gráficos deben tener etiquetas para el eje `x` y el eje `y`).\n",
    "\n",
    "* b) sabiendo que la masa del disco viene dada por una integral:\n",
    "$$ m = \\int_0^{r} 2 \\pi \\ r * \\rho (r) \\ dr $$\n",
    "     calcular la masa del disco mediante integración numérica  \n",
    "(*masa total del disco es una suma de masas de anillos con grosura dr)     "
   ]
  },
  {
   "cell_type": "markdown",
   "id": "xiOU-0r2jGw6",
   "metadata": {
    "id": "xiOU-0r2jGw6"
   },
   "source": [
    "---"
   ]
  },
  {
   "cell_type": "markdown",
   "id": "JUrVm2-QjHsz",
   "metadata": {
    "id": "JUrVm2-QjHsz"
   },
   "source": [
    "#a)"
   ]
  },
  {
   "cell_type": "code",
   "execution_count": 2,
   "id": "valuable-august",
   "metadata": {
    "id": "valuable-august"
   },
   "outputs": [],
   "source": [
    "# tu codigo:\n",
    "datos =pd.read_csv('data_radius_density.csv',index_col=False)\n",
    "\n",
    "radio = datos['radius']\n",
    "densidad = datos['density']"
   ]
  },
  {
   "cell_type": "code",
   "execution_count": 3,
   "id": "rh4KPL6kW1dr",
   "metadata": {
    "colab": {
     "base_uri": "https://localhost:8080/",
     "height": 444
    },
    "id": "rh4KPL6kW1dr",
    "outputId": "3e8a30e6-d676-4817-e727-e93b29aed7e4"
   },
   "outputs": [
    {
     "data": {
      "image/png": "[encoded data removed]",
      "text/plain": [
       "<Figure size 640x480 with 1 Axes>"
      ]
     },
     "metadata": {
      "needs_background": "light"
     },
     "output_type": "display_data"
    }
   ],
   "source": [
    "fig,ax=plt.subplots(figsize=(8, 6), dpi=80)\n",
    "\n",
    "ax.scatter(radio, densidad, label = 'Datos Densidad', color= 'red')\n",
    "ax.set_title('Densidad vs Radio')\n",
    "ax.set_ylabel('Densidad ')\n",
    "ax.set_xlabel('Radio ')\n",
    "ax.legend()\n",
    "ax.grid()"
   ]
  },
  {
   "cell_type": "markdown",
   "id": "tDt6_bY6jPQx",
   "metadata": {
    "id": "tDt6_bY6jPQx"
   },
   "source": [
    "#b)"
   ]
  },
  {
   "cell_type": "markdown",
   "id": "y6tSm7QSjghS",
   "metadata": {
    "id": "y6tSm7QSjghS"
   },
   "source": [
    "Para lograr lo propuesto vamos a utilizar el método de simpson para hallar el área bajo la curva y por ende, hallar integral y con eso la masa del disco."
   ]
  },
  {
   "cell_type": "code",
   "execution_count": 4,
   "id": "lIJ1CM1iW26S",
   "metadata": {
    "id": "lIJ1CM1iW26S"
   },
   "outputs": [],
   "source": [
    "radio_numpy = radio.to_numpy() #Pasamos los datos a arreglos de numpy para operar\n",
    "densidad_numpy = densidad.to_numpy()"
   ]
  },
  {
   "cell_type": "code",
   "execution_count": 5,
   "id": "clv4ngJQYEIG",
   "metadata": {
    "id": "clv4ngJQYEIG"
   },
   "outputs": [],
   "source": [
    "masa=integrate.simps(densidad_numpy,radio_numpy) #Usamos el método de Simpson"
   ]
  },
  {
   "cell_type": "code",
   "execution_count": 6,
   "id": "hTfWJ6ytZ_4L",
   "metadata": {
    "colab": {
     "base_uri": "https://localhost:8080/"
    },
    "id": "hTfWJ6ytZ_4L",
    "outputId": "5d39c3d0-5a21-4329-d0ab-fa2a5a5ce476"
   },
   "outputs": [
    {
     "name": "stdout",
     "output_type": "stream",
     "text": [
      "La masa del disco es igual a 5.332 kg\n"
     ]
    }
   ],
   "source": [
    "print(f'La masa del disco es igual a {round(masa,3)} kg')"
   ]
  },
  {
   "cell_type": "markdown",
   "id": "handy-obligation",
   "metadata": {
    "id": "handy-obligation"
   },
   "source": [
    "# Ejercicio 2"
   ]
  },
  {
   "cell_type": "markdown",
   "id": "broken-belfast",
   "metadata": {
    "id": "broken-belfast"
   },
   "source": [
    "La capacidad calorífica de un gas muy frío se puede aproximar mediante:\n",
    "\n",
    "$$ C_v \\approx \\left (\\frac{dP}{dT} \\right) $$\n",
    "(en las unidades de $ \\left [\\frac {J} {K} \\right] $)\n",
    "\n",
    "Donde $P$ es la presión $ [J / s^3] $ del gas y $ T \\ [K] $ es la temperatura del gas.\n",
    "\n",
    "Los datos para la presión frente a la temperatura se dan en el archivo csv ($ \\textbf{data_pressure_vs_temperature.csv} $).\n",
    "\n",
    "* a) importar los datos usando pandas\n",
    "* b) hacer un gráfico de $P$ vs $T$ (grafico tiene que tener etiquietas)\n",
    "* c) utilizando la derivada numérica, encuentre la capacidad calorífica.\n",
    "* d) hacer un gráfico de $C_v$ vs $T$ (grafico tiene que tener etiquietas)\n",
    "* e) usando el ultimos datos hace una estimacion de Temperatura Critica de este gas (Temperatura Critica es Temperatura de cambio abrupto del comportamiento de Capacidad Termica)\n",
    "\n",
    "*gas muy frío se refiere a un gas Bose no homogéneo, y la teoría que relaciona $ C_v $ y $ P $ se refiere a la Teoría de Variables Globales Termodinámicas. La presión en realidad se llama parámetro de presión."
   ]
  },
  {
   "cell_type": "markdown",
   "id": "RTplU4L_kZK9",
   "metadata": {
    "id": "RTplU4L_kZK9"
   },
   "source": [
    "#a)"
   ]
  },
  {
   "cell_type": "code",
   "execution_count": 7,
   "id": "written-adrian",
   "metadata": {
    "id": "written-adrian"
   },
   "outputs": [],
   "source": [
    "# tu codigo:\n",
    "datos_2 =pd.read_csv('data_pressure_vs_temparature.csv',index_col=False)\n",
    "\n",
    "temp = datos_2['Temperature']\n",
    "pres = datos_2['Pressure']"
   ]
  },
  {
   "cell_type": "markdown",
   "id": "ohZsmfktkb-v",
   "metadata": {
    "id": "ohZsmfktkb-v"
   },
   "source": [
    "#b)"
   ]
  },
  {
   "cell_type": "code",
   "execution_count": 8,
   "id": "23ajNohKducK",
   "metadata": {
    "colab": {
     "base_uri": "https://localhost:8080/",
     "height": 444
    },
    "id": "23ajNohKducK",
    "outputId": "38614de5-a25b-4e0f-eee7-a83df56771ca"
   },
   "outputs": [
    {
     "data": {
      "image/png": "[encoded data removed]",
      "text/plain": [
       "<Figure size 640x480 with 1 Axes>"
      ]
     },
     "metadata": {
      "needs_background": "light"
     },
     "output_type": "display_data"
    }
   ],
   "source": [
    "fig,ax=plt.subplots(figsize=(8, 6), dpi=80)\n",
    "\n",
    "ax.scatter(temp, pres, label = 'Datos Presión', color= 'blue')\n",
    "ax.set_title('Presión vs Temperatura')\n",
    "ax.set_xlabel('Temperatura ')\n",
    "ax.set_ylabel('Presión ')\n",
    "ax.legend()\n",
    "ax.grid()"
   ]
  },
  {
   "cell_type": "markdown",
   "id": "FwdXw_YlkhdK",
   "metadata": {
    "id": "FwdXw_YlkhdK"
   },
   "source": [
    "#c)"
   ]
  },
  {
   "cell_type": "markdown",
   "id": "_xCajr9RlZ7o",
   "metadata": {
    "id": "_xCajr9RlZ7o"
   },
   "source": [
    "Para hacer el cáculo, vamos a utilizar la función $np.grandiend$ y almacenarla en la variable $c_v$."
   ]
  },
  {
   "cell_type": "code",
   "execution_count": 9,
   "id": "J78T6WgffOmd",
   "metadata": {
    "id": "J78T6WgffOmd"
   },
   "outputs": [],
   "source": [
    "c_v=np.gradient(pres, temp)"
   ]
  },
  {
   "cell_type": "markdown",
   "id": "qA6oEXU4kmSo",
   "metadata": {
    "id": "qA6oEXU4kmSo"
   },
   "source": [
    "#d)"
   ]
  },
  {
   "cell_type": "code",
   "execution_count": 10,
   "id": "D49PXxLQfr3l",
   "metadata": {
    "colab": {
     "base_uri": "https://localhost:8080/",
     "height": 445
    },
    "id": "D49PXxLQfr3l",
    "outputId": "28ba5b24-272c-4dba-9d2f-d24d25cc2b6d"
   },
   "outputs": [
    {
     "data": {
      "image/png": "[encoded data removed]",
      "text/plain": [
       "<Figure size 640x480 with 1 Axes>"
      ]
     },
     "metadata": {
      "needs_background": "light"
     },
     "output_type": "display_data"
    }
   ],
   "source": [
    "fig,ax=plt.subplots(figsize=(8, 6), dpi=80)\n",
    "\n",
    "ax.scatter(temp, c_v, label = 'Datos Capacidad Calorífica', color= 'lime')\n",
    "ax.set_title('$C_v$ vs Temperatura')\n",
    "ax.set_ylabel('$C_v$ ')\n",
    "ax.set_xlabel('Temperatura ')\n",
    "ax.legend()\n",
    "ax.grid()"
   ]
  },
  {
   "cell_type": "markdown",
   "id": "0fIRTfcClxDQ",
   "metadata": {
    "id": "0fIRTfcClxDQ"
   },
   "source": [
    "#e)"
   ]
  },
  {
   "cell_type": "markdown",
   "id": "HVSfOW1Kl3Bp",
   "metadata": {
    "id": "HVSfOW1Kl3Bp"
   },
   "source": [
    "Para encontrar la temperatura crítica, necesitamos hallar el valor máximo de $c_v$ para luego conocer su ínidice en el arreglo. Luego éste índice será el mismo de la temperatura crítica en la lista que contiene las temperaturas."
   ]
  },
  {
   "cell_type": "code",
   "execution_count": 11,
   "id": "osLPW4smiAUz",
   "metadata": {
    "id": "osLPW4smiAUz"
   },
   "outputs": [],
   "source": [
    "crit = np.where(c_v == max(c_v))[0][0]"
   ]
  },
  {
   "cell_type": "code",
   "execution_count": 12,
   "id": "6B50toJVivHV",
   "metadata": {
    "colab": {
     "base_uri": "https://localhost:8080/"
    },
    "id": "6B50toJVivHV",
    "outputId": "ff3141ab-f01c-4405-f3dc-7b39419a4812"
   },
   "outputs": [
    {
     "name": "stdout",
     "output_type": "stream",
     "text": [
      "La temperatura Crítica será igual a 2.3147805092375502e-07\n"
     ]
    }
   ],
   "source": [
    "t_crit = temp[crit]\n",
    "print(f'La temperatura Crítica será igual a {t_crit}')"
   ]
  },
  {
   "cell_type": "markdown",
   "id": "nominated-beast",
   "metadata": {
    "id": "nominated-beast"
   },
   "source": [
    "# Ejercicio 3"
   ]
  },
  {
   "cell_type": "markdown",
   "id": "regulated-yorkshire",
   "metadata": {
    "id": "regulated-yorkshire"
   },
   "source": [
    "Usando metodo Monte Carlo resuleve el siguiente integral:\n",
    "\n",
    "$$ \\int_{0}^{\\pi/2} \\int_{0}^{1} e^y \\ cos(x) \\ dy \\ dx $$"
   ]
  },
  {
   "cell_type": "markdown",
   "id": "yFHEOtEzmxLD",
   "metadata": {
    "id": "yFHEOtEzmxLD"
   },
   "source": [
    "Para hacer el cálculo, utilizaremos el método de Monte Carlo en su forma vectorial. Siendo:\n",
    "\n",
    "a = 0 \n",
    "\n",
    "b = $\\frac{π}{2}$\n",
    "\n",
    "c = 0\n",
    "\n",
    "d = 1\n",
    "\n",
    "$N$ = 1000"
   ]
  },
  {
   "cell_type": "code",
   "execution_count": 13,
   "id": "UVKjn48gbPXB",
   "metadata": {
    "id": "UVKjn48gbPXB"
   },
   "outputs": [],
   "source": [
    "def integral_monte_carlo_2D(integrand,lim1,lim2,lim3,lim4,N): #Ahora creamos una función que integra la función anterior\n",
    "  E=0\n",
    "\n",
    "  x=np.random.uniform(lim1,lim2,N)\n",
    "  y=np.random.uniform(lim3,lim4,N)\n",
    "  I=np.mean(integrand(x,y))*(lim2-lim1)*(lim4-lim3)\n",
    "  return I"
   ]
  },
  {
   "cell_type": "code",
   "execution_count": 14,
   "id": "s59LF0LxcJp8",
   "metadata": {
    "id": "s59LF0LxcJp8"
   },
   "outputs": [],
   "source": [
    "def integral_3(x,y): #Función a integrar\n",
    "  return np.exp(y) * np.cos(x)"
   ]
  },
  {
   "cell_type": "code",
   "execution_count": 15,
   "id": "h_0RBY1ZcTmF",
   "metadata": {
    "colab": {
     "base_uri": "https://localhost:8080/"
    },
    "id": "h_0RBY1ZcTmF",
    "outputId": "70a0fa5a-9779-4ced-b029-84f12df8eb3b"
   },
   "outputs": [
    {
     "name": "stdout",
     "output_type": "stream",
     "text": [
      "El valor de la integral es igual a 1.714\n"
     ]
    }
   ],
   "source": [
    "valor_3 = integral_monte_carlo_2D(integral_3,0,np.pi/2,0,1,1000)\n",
    "\n",
    "print(f'El valor de la integral es igual a {round(valor_3,3)}')"
   ]
  },
  {
   "cell_type": "markdown",
   "id": "precious-brook",
   "metadata": {
    "id": "precious-brook"
   },
   "source": [
    "# Ejercicio 4"
   ]
  },
  {
   "cell_type": "markdown",
   "id": "backed-heritage",
   "metadata": {
    "id": "backed-heritage"
   },
   "source": [
    "Resuelve siguiente integral (muestra el error de solucion):\n",
    "\n",
    "$$ \\int_{0}^{10}\\frac{x^3}{x^4+16} dx$$"
   ]
  },
  {
   "cell_type": "markdown",
   "id": "U-Asv2iwoGJd",
   "metadata": {
    "id": "U-Asv2iwoGJd"
   },
   "source": [
    "Para lograr ésto, vamos a utilizar el método \"quads\" de la librería scipy."
   ]
  },
  {
   "cell_type": "code",
   "execution_count": 16,
   "id": "electronic-spread",
   "metadata": {
    "id": "electronic-spread"
   },
   "outputs": [],
   "source": [
    "# tu codigo\n",
    "def integral_4(x):  #Defino la función que voy a integrar\n",
    "  return x**3 / (x**4 + 16)"
   ]
  },
  {
   "cell_type": "code",
   "execution_count": 17,
   "id": "Y6JOcOI2acPX",
   "metadata": {
    "id": "Y6JOcOI2acPX"
   },
   "outputs": [],
   "source": [
    "I_4, error_4 =integrate.quad(integral_4,0,10)"
   ]
  },
  {
   "cell_type": "code",
   "execution_count": 18,
   "id": "THCGAOueanFr",
   "metadata": {
    "colab": {
     "base_uri": "https://localhost:8080/"
    },
    "id": "THCGAOueanFr",
    "outputId": "0e029247-3902-4391-f2f8-106867734b0b"
   },
   "outputs": [
    {
     "name": "stdout",
     "output_type": "stream",
     "text": [
      "El valor de la integral es igual a 1.6098 con un error de 1.405084939945598e-09\n"
     ]
    }
   ],
   "source": [
    "print(f'El valor de la integral es igual a {round(I_4,4)} con un error de {error_4}')"
   ]
  },
  {
   "cell_type": "markdown",
   "id": "powered-occurrence",
   "metadata": {},
   "source": [
    "# Feedback:\n",
    "```\n",
    "\n",
    "    Exercise 1.\n",
    "    Solution + presentation of the results\t            (max 2.5p):\t1.0p\n",
    "    * the result is incorrect\n",
    "\n",
    "    Exercise 2.\n",
    "    Solution + presentation of the results\t            (max 2.5p):\t2.5p\n",
    "\n",
    "    Exercise 3.\n",
    "    Solution + presentation of the results\t            (max 2.5p):\t2.5p\n",
    "\n",
    "    Exercise 4 \n",
    "    Solution + presentation of the results\t            (max 2.5p):\t2.5p\n",
    "\n",
    "\n",
    "    - Total:                                                       (max 10.0p):   8.5p"
   ]
  },
  {
   "cell_type": "code",
   "execution_count": null,
   "id": "contemporary-evaluation",
   "metadata": {},
   "outputs": [],
   "source": []
  }
 ],
 "metadata": {
  "colab": {
   "name": "examen_parcial_2.ipynb",
   "provenance": []
  },
  "kernelspec": {
   "display_name": "Python 3",
   "language": "python",
   "name": "python3"
  },
  "language_info": {
   "codemirror_mode": {
    "name": "ipython",
    "version": 3
   },
   "file_extension": ".py",
   "mimetype": "text/x-python",
   "name": "python",
   "nbconvert_exporter": "python",
   "pygments_lexer": "ipython3",
   "version": "3.7.2"
  }
 },
 "nbformat": 4,
 "nbformat_minor": 5
}

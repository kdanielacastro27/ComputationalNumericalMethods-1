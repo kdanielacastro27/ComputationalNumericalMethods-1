{
  "cells": [
    {
      "cell_type": "markdown",
      "id": "human-paint",
      "metadata": {
        "id": "human-paint"
      },
      "source": [
        "# Homework 05"
      ]
    },
    {
      "cell_type": "markdown",
      "id": "equivalent-australian",
      "metadata": {
        "id": "equivalent-australian"
      },
      "source": [
        "### Task 1\n",
        "\n",
        "Write your own Simpson method to numerically calculate integral \n",
        "\n",
        "`my_simps(some_func,a,b,n)`\n",
        "* some_func\n",
        "* a: left limit \n",
        "* b: right limit\n",
        "* n: number of segments\n",
        "for example:\n",
        "\n",
        "#### for any a,b,n, func"
      ]
    },
    {
      "cell_type": "markdown",
      "id": "ultimate-traveler",
      "metadata": {
        "id": "ultimate-traveler"
      },
      "source": [
        "### example"
      ]
    },
    {
      "cell_type": "code",
      "execution_count": 1,
      "id": "frozen-microwave",
      "metadata": {
        "id": "frozen-microwave"
      },
      "outputs": [],
      "source": [
        "import numpy as np\n",
        "import scipy.integrate as integrate\n",
        "import matplotlib.pyplot as plt\n",
        "\n",
        "def some_func(x):\n",
        "    return np.exp(x)"
      ]
    },
    {
      "cell_type": "code",
      "execution_count": 2,
      "id": "recognized-footwear",
      "metadata": {
        "id": "recognized-footwear"
      },
      "outputs": [],
      "source": [
        "a=1.5\n",
        "b=2.5\n",
        "n=4"
      ]
    },
    {
      "cell_type": "code",
      "execution_count": 3,
      "id": "unavailable-fluid",
      "metadata": {
        "id": "unavailable-fluid"
      },
      "outputs": [],
      "source": [
        "def my_simps(some_func,a,b,n):\n",
        "\n",
        "    #  your code here\n",
        "    h= (b-a)/n\n",
        "    xi=a\n",
        "    x_1=xi+h\n",
        "    x_2=xi+2*h\n",
        "    x_3=xi+3*h\n",
        "    x_4=xi+4*h\n",
        "\n",
        "    I= (h/3)*(some_func(xi)+4*some_func(x_1)+2*some_func(x_2)+4*some_func(x_3)+some_func(x_4))\n",
        "    return I"
      ]
    },
    {
      "cell_type": "code",
      "execution_count": 4,
      "id": "stock-smart",
      "metadata": {
        "colab": {
          "base_uri": "https://localhost:8080/"
        },
        "id": "stock-smart",
        "outputId": "ad7c6ba1-39b6-489c-af57-d4a24c269f26"
      },
      "outputs": [
        {
          "output_type": "stream",
          "name": "stdout",
          "text": [
            "7.700970773196655\n",
            "\n",
            "7.70080489036541 error:  8.549610897429682e-14\n"
          ]
        }
      ],
      "source": [
        "I=my_simps(some_func,a,b,n)\n",
        "print(I)\n",
        "print()\n",
        "\n",
        "\n",
        "I_quad,error=integrate.quad(some_func,a,b)\n",
        "print(I_quad, 'error: ', error)"
      ]
    },
    {
      "cell_type": "markdown",
      "id": "recovered-modern",
      "metadata": {
        "id": "recovered-modern"
      },
      "source": [
        "### Task 2\n",
        "\n",
        "Solve the following integral numerically\n",
        "\n",
        "$$I = \\int_{1}^{9} \\frac{b x^2 + x^2 \\sqrt(x) - 1}{x^2} dx$$\n",
        "\n",
        "Initially b=2\n",
        "\n",
        "Then make a plot for $I$ vs 10 different values of b=[0,1,2,3,4,5,6,7,8,9] "
      ]
    },
    {
      "cell_type": "code",
      "execution_count": 5,
      "id": "verified-johnston",
      "metadata": {
        "id": "verified-johnston"
      },
      "outputs": [],
      "source": [
        "#vamos a hacer la integral teniendo varios valores de b\n",
        "A = 1\n",
        "B = 9\n",
        "b = [0,1,2,3,4,5,6,7,8,9]\n",
        "b = np.array(b)\n",
        "n = 100000"
      ]
    },
    {
      "cell_type": "code",
      "execution_count": 11,
      "id": "adopted-morrison",
      "metadata": {
        "id": "adopted-morrison"
      },
      "outputs": [],
      "source": [
        "def integral1(x,c):\n",
        "  return (c*x**2+(x**2)*np.sqrt(x)-1)/(x**2)"
      ]
    },
    {
      "cell_type": "code",
      "source": [
        "def simps(integral1,A,B,n,c): \n",
        "    h = (B-A)/n\n",
        "    xi = A\n",
        "    x = []\n",
        "    for i in range(n+1):\n",
        "      x_1 = xi + i*h\n",
        "      x.append(x_1)\n",
        "    x = np.array(x)\n",
        "\n",
        "    I_sum = integral1(x[0],c) + integral1(x[-1],c)\n",
        "\n",
        "    for j in range(1,len(x)):\n",
        "      if j%2 == 1:\n",
        "        I_j =  4*integral1(x[j],c) \n",
        "        I_sum = I_sum + I_j\n",
        "      elif j%2 == 0:\n",
        "        I_j = 2*integral1(x[j],c)\n",
        "        I_sum = I_sum + I_j\n",
        "    I = (h/3)*I_sum\n",
        "\n",
        "    return I"
      ],
      "metadata": {
        "id": "gtRsKrtJuRhx"
      },
      "id": "gtRsKrtJuRhx",
      "execution_count": 12,
      "outputs": []
    },
    {
      "cell_type": "code",
      "source": [
        "fc = []\n",
        "for k in b:\n",
        "  I_i = simps(integral1,A,B,n,k)\n",
        "  fc.append(I_i)\n",
        "\n",
        "fc = np.array(fc)\n",
        "print(fc)"
      ],
      "metadata": {
        "colab": {
          "base_uri": "https://localhost:8080/"
        },
        "id": "N7-m84bMA-q3",
        "outputId": "a2a1d6f6-8fb6-494d-db08-4380f1431e79"
      },
      "id": "N7-m84bMA-q3",
      "execution_count": 13,
      "outputs": [
        {
          "output_type": "stream",
          "name": "stdout",
          "text": [
            "[16.44460379 24.44465712 32.44471045 40.44476379 48.44481712 56.44487045\n",
            " 64.44492379 72.44497712 80.44503045 88.44508379]\n"
          ]
        }
      ]
    },
    {
      "cell_type": "code",
      "source": [
        "fig,ax=plt.subplots(1,1,figsize=(10,10))\n",
        "ax.plot(b,fc,'-y')\n",
        "ax.grid('True')\n",
        "ax.set_xlabel('b')\n",
        "ax.set_ylabel('Integral')\n",
        "plt.title('Gráfica de Integrales vs b')\n",
        "ax.legend()"
      ],
      "metadata": {
        "colab": {
          "base_uri": "https://localhost:8080/",
          "height": 657
        },
        "id": "qp_DGzSmBI1y",
        "outputId": "95f3fb0f-40f8-4ac3-f611-7fc21ea18a35"
      },
      "id": "qp_DGzSmBI1y",
      "execution_count": 14,
      "outputs": [
        {
          "output_type": "stream",
          "name": "stderr",
          "text": [
            "WARNING:matplotlib.legend:No handles with labels found to put in legend.\n"
          ]
        },
        {
          "output_type": "execute_result",
          "data": {
            "text/plain": [
              "<matplotlib.legend.Legend at 0x7f2d4664e610>"
            ]
          },
          "metadata": {},
          "execution_count": 14
        },
        {
          "output_type": "display_data",
          "data": {
            "text/plain": [
              "<Figure size 720x720 with 1 Axes>"
            ],
            "image/png": "[encoded data removed]"
          },
          "metadata": {
            "needs_background": "light"
          }
        }
      ]
    },
    {
      "cell_type": "code",
      "source": [],
      "metadata": {
        "id": "MG9-kNaeBZdl"
      },
      "id": "MG9-kNaeBZdl",
      "execution_count": null,
      "outputs": []
    }
  ],
  "metadata": {
    "kernelspec": {
      "display_name": "Python 3",
      "language": "python",
      "name": "python3"
    },
    "language_info": {
      "codemirror_mode": {
        "name": "ipython",
        "version": 3
      },
      "file_extension": ".py",
      "mimetype": "text/x-python",
      "name": "python",
      "nbconvert_exporter": "python",
      "pygments_lexer": "ipython3",
      "version": "3.7.2"
    },
    "colab": {
      "provenance": []
    }
  },
  "nbformat": 4,
  "nbformat_minor": 5
}
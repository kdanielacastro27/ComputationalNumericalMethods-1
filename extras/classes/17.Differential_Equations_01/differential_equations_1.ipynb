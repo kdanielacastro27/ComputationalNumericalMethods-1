{
 "cells": [
  {
   "cell_type": "markdown",
   "id": "middle-communication",
   "metadata": {},
   "source": [
    "# Differential Equations (ODE)\n",
    "### Initial Value Problem & Boundary Value Problem\n",
    "*remember there are no stupid questions... there are questions asked too late"
   ]
  },
  {
   "cell_type": "markdown",
   "id": "amber-mileage",
   "metadata": {},
   "source": [
    "# Order of the class:\n",
    "* differential equations in general\n",
    "* intuitive explanation of DE\n",
    "* slope fields\n",
    "* Euler method\n"
   ]
  },
  {
   "cell_type": "markdown",
   "id": "compliant-dollar",
   "metadata": {},
   "source": [
    "# Dictionary:\n",
    "* slope [ /sləʊp/]: inclinacion, pendiente  \n",
    "  \"There’s a steep slope to climb before we’re at the top.\"\n",
    "  \n",
    "* sloppy[/ˈslɒp·i/]: descuidado\n",
    "  \"His work was sloppy and full of spelling mistakes.\"\n",
    "  \"Pizza ala Sloppy Guiseppe\" :)\n",
    "\n",
    "* wonder [ /ˈwʌn·dər/]: preguntarse\n",
    "  \"I wonder what time it is..\"\n",
    "  \n",
    "* debt [ /det/]: deuda\n",
    "* owe [ /əʊ/]: deber (dinero a alguien)\n",
    "\n",
    "* rate of change: tasa de cambio?\n",
    "\n",
    "https://dictionary.cambridge.org/"
   ]
  },
  {
   "cell_type": "markdown",
   "id": "separate-currency",
   "metadata": {},
   "source": [
    "# Differential Equations (ODE)\n",
    "Ordinary Differential Equations"
   ]
  },
  {
   "cell_type": "markdown",
   "id": "considerable-moore",
   "metadata": {},
   "source": [
    "Differential equations is without doubt one of the most useful branch of mathematics in science. They are used to model problems involving the change of some variable with respect to another. Differential equations cover a wide range of different applications, ranging from ordinary differential equations (ODE) until boundary-value problems involving many variables. For the sake of simplicity, throughout this section we shall cover only ODE systems as they are more elemental and equally useful. First, we shall cover first order methods, then second order methods and finally, system of differential equations."
   ]
  },
  {
   "cell_type": "markdown",
   "id": "representative-schedule",
   "metadata": {},
   "source": [
    "* ODE: Ordinary Differential Equations (invloves one independent variable)\n",
    "* PDE: involves more than one independent variable\n",
    "* Order: depends on the highest derivative (second order derivative etc...)\n",
    "* Coupled system of ODEs:\n",
    "example\n",
    "$$\\frac{dx}{dt}=-\\sigma (x-y)$$\n",
    "$$\\frac{dy}{dt}=\\rho x - y - xz$$\n",
    "$$\\frac{dz}{dt}=-\\beta z + xy$$\n",
    "\n",
    "$ x(t),y(t),z(t) $ for given constants $\\sigma$,$\\rho$, $\\beta$\n",
    "\n",
    "* Lorenz attractor or Lorenz equations"
   ]
  },
  {
   "cell_type": "markdown",
   "id": "selected-palace",
   "metadata": {},
   "source": [
    "## Differential equation and relation to the solution"
   ]
  },
  {
   "cell_type": "markdown",
   "id": "under-alberta",
   "metadata": {},
   "source": [
    "<img src=\"imgs/func_vs_de.png\" width=\"600\" />\n",
    "\n",
    "https://www.desmos.com/calculator\n",
    "\n",
    "* both graphs describe the same behaviour\n",
    "* solving ODE is actually going back from $\\frac{dy}{dx}$ to $y(x)$\n",
    "  which can be done by so called \"numerical integration\"."
   ]
  },
  {
   "cell_type": "markdown",
   "id": "injured-moisture",
   "metadata": {},
   "source": [
    "## Material of the differential equation class\n",
    "* (#First-Order-Methods) \n",
    "* (#Initial-Value Problem)\n",
    "* (#Euler's-method)\n",
    "* (#High-Order-Methods)\n",
    "* (#Fourth-order-Runge-Kutta-method)\n",
    "* (#Two-Point-Boundary-Value-Problems)\n"
   ]
  },
  {
   "cell_type": "markdown",
   "id": "legal-pocket",
   "metadata": {},
   "source": [
    "# Have you ever wondered why there is many exponentials in Physics?"
   ]
  },
  {
   "cell_type": "markdown",
   "id": "primary-warren",
   "metadata": {},
   "source": [
    "### How to read differential equation"
   ]
  },
  {
   "cell_type": "markdown",
   "id": "charitable-colombia",
   "metadata": {},
   "source": [
    "## Lets start simple (I dont think it can get any simpler)"
   ]
  },
  {
   "cell_type": "markdown",
   "id": "raised-french",
   "metadata": {},
   "source": [
    "A differential equation is an equation which contains an unknown function and one of its unknown derivatives. Here is a differential equation. \n",
    "\n",
    "\n",
    "$$\\frac{dy}{dt} = 1 $$\n",
    "\n",
    "where $\\frac{dy}{dt}$ is called rate of change (or a slope, like in case of derivative)\n",
    "\n",
    "How to read this?\n",
    "* the rate of change dy/dx is equal to 1\n",
    "\n",
    "What does it mean?\n",
    "* this doesn't mean that $y$ is constant, it means the rate of change is constant\n",
    "* that something is changing but with equal rate\n",
    "\n",
    "Lets look at the analytical solution:\n",
    "\n",
    "$$\\frac{dy}{dt} = 1 $$\n",
    "\n",
    "$$dy=dt$$\n",
    "$$\\int dy = \\int dt$$\n",
    "$$y(t)=t+c$$\n",
    "\n",
    "Lets get a bit sloppy\n",
    "\n",
    "$$y(t)=t$$\n",
    "that would be a particular solution for c=0\n",
    "\n",
    "which is the solution of this very simple differential equation.\n",
    "And we can plot it... so if t=0 and c=0"
   ]
  },
  {
   "cell_type": "code",
   "execution_count": 1,
   "id": "preliminary-picture",
   "metadata": {},
   "outputs": [
    {
     "data": {
      "text/plain": [
       "Text(0, 0.5, 'y')"
      ]
     },
     "execution_count": 1,
     "metadata": {},
     "output_type": "execute_result"
    },
    {
     "data": {
      "image/png": "[encoded data removed]",
      "text/plain": [
       "<Figure size 432x288 with 1 Axes>"
      ]
     },
     "metadata": {
      "needs_background": "light"
     },
     "output_type": "display_data"
    }
   ],
   "source": [
    "import numpy as np\n",
    "import matplotlib.pyplot as plt\n",
    "t=np.linspace(0,10,11)\n",
    "y=t\n",
    "fig,ax=plt.subplots(1,1)\n",
    "ax.plot(t,y,'.k')\n",
    "ax.set_xlabel('t')\n",
    "ax.set_ylabel('y')"
   ]
  },
  {
   "cell_type": "markdown",
   "id": "attended-namibia",
   "metadata": {},
   "source": [
    "but this is only a particular solution for t=0 c can be anything.\n",
    "\n",
    "All the possible solutions can be visualized as a slope fields. https://www.geogebra.org/m/W7dAdgqc. \n",
    "\n",
    "What is being visualized are only the right hand side of the differential equation. For the first example RHS is 1 ($\\frac{dy}{dt} = 1 $) so ***all the tiny lines are the slopes of value 1 - everywhere***.\n",
    "\n",
    "***Now... the solution of this differential equation is the path we follow walking on the slope fields***. But as we can see there are many solutions (depending on initial conditions, $c$)"
   ]
  },
  {
   "cell_type": "markdown",
   "id": "excessive-stake",
   "metadata": {},
   "source": [
    "## a little bit more difficult but still simple"
   ]
  },
  {
   "cell_type": "markdown",
   "id": "occupational-baptist",
   "metadata": {},
   "source": [
    "\n",
    "$$\\frac{dy}{dt} = y$$\n",
    "\n",
    "where $\\frac{dy}{dt}$ is called rate of change (slope like in case of derivative)\n",
    "\n",
    "How to read this?\n",
    "* the rate of change dy/dx is equal to y\n",
    "\n",
    "What does it mean?\n",
    "* the rate of change is not constant\n",
    "* the ***rate of change is changing***\n",
    "\n",
    "* the slope $dy/dt$ depends on the value of $y$ itself\n",
    "* the greater the $y$ the greater the slope $dy/dx$\n",
    "* lets look at the slope fields https://www.geogebra.org/m/W7dAdgqc.\n",
    "\n",
    "\n",
    "* again what we plot in this slope fields is the RHS of the equation which means $y's$. So the first line of slopes are 1s, the second line of slopes are 2s, the third line of sloes are thirds (we substitute value to y (RHS) to values 1,2,3.... and we can see that the slope is getting steeper and steeper). But what happens across the x ? (lets look at the RHS of the equation - does not depend on x!). Since RHS of this differential equation does not depend on $x$ so for any $x$ the $y$ (RHS) is constant"
   ]
  },
  {
   "cell_type": "markdown",
   "id": "aquatic-tsunami",
   "metadata": {},
   "source": [
    "## Analytically"
   ]
  },
  {
   "cell_type": "markdown",
   "id": "toxic-marijuana",
   "metadata": {},
   "source": [
    "$$\\frac{dy}{dt} = y$$\n",
    "\n",
    "$$\\frac{dy}{y}=dt$$\n",
    "$$\\int \\frac{dy}{y} = \\int dt$$\n",
    "$$ln(y)=t+c$$\n",
    "$$e^{ln(y)}=e^{t+c}$$\n",
    "\n",
    "$$y(t)=e^{t+c} \\equiv e^t e^c$$\n",
    "$$y(t)=ce^{t}$$\n",
    "lets be sloppy for a moment\n",
    "$$y(t)=e^{t}$$"
   ]
  },
  {
   "cell_type": "markdown",
   "id": "spread-reconstruction",
   "metadata": {},
   "source": [
    "Lets look a the slope fields. https://www.geogebra.org/m/W7dAdgqc "
   ]
  },
  {
   "cell_type": "markdown",
   "id": "compatible-broadcast",
   "metadata": {},
   "source": [
    "## Numerically for a particular example if c=1"
   ]
  },
  {
   "cell_type": "code",
   "execution_count": 2,
   "id": "concrete-chest",
   "metadata": {},
   "outputs": [
    {
     "data": {
      "text/plain": [
       "Text(0, 0.5, 'y')"
      ]
     },
     "execution_count": 2,
     "metadata": {},
     "output_type": "execute_result"
    },
    {
     "data": {
      "image/png": "[encoded data removed]",
      "text/plain": [
       "<Figure size 432x288 with 1 Axes>"
      ]
     },
     "metadata": {
      "needs_background": "light"
     },
     "output_type": "display_data"
    }
   ],
   "source": [
    "import numpy as np\n",
    "import matplotlib.pyplot as plt\n",
    "t=np.linspace(0,5,11)\n",
    "y=np.exp(t)\n",
    "fig,ax=plt.subplots(1,1)\n",
    "ax.plot(t,y,'.k')\n",
    "ax.set_xlabel('t')\n",
    "ax.set_ylabel('y')"
   ]
  },
  {
   "cell_type": "markdown",
   "id": "hispanic-riverside",
   "metadata": {},
   "source": [
    "## So for this particular example...\n",
    "\n",
    "$$\\frac{dy}{dt} = y$$\n",
    "* colloquialy speaking: crecimiento de algo depende de cuanto hay de este algo en este momento\n",
    "* means that its \"growth\" depends on its previous value!\n",
    "\n",
    "\n",
    "* examples:\n",
    "* banker equation - your debt grows faster when you owe more money!\n",
    "* population of rabbits\n",
    "* the speed of growth depends on the current state\n",
    "* duckweed: Lenteja de agua (Lemna)\n",
    "\n",
    "<img src=\"imgs/rzesa_wodna.jpg\" width=\"300\" />\n",
    "\n",
    "* but the differential equation describing the growth of the population of rabbits must include the current state of the population of wolves..."
   ]
  },
  {
   "cell_type": "markdown",
   "id": "hybrid-portable",
   "metadata": {},
   "source": [
    "# There are many differential equations which we can visualize with slope fields\n",
    "\n",
    "* the slope $dy/dt$ can depend only one on value (y) or many (y,t)\n",
    "\n",
    "* $dy/dt =y + t$\n",
    "* $dy/dt =y^2 + sin(t)$\n",
    "\n",
    "https://www.geogebra.org/m/W7dAdgqc"
   ]
  },
  {
   "cell_type": "markdown",
   "id": "dramatic-regression",
   "metadata": {},
   "source": [
    "# First order method"
   ]
  },
  {
   "cell_type": "markdown",
   "id": "annual-apache",
   "metadata": {},
   "source": [
    "Ordinary differential equations normally implies the solution of an initial-value problem, i.e., the solution has to satisfy the differential equation together with some initial condition. Real-life problems usually imply very complicated problems and even non-soluble ones, making any analytical approximation unfeasible. Fortunately, there are two ways to handle this. First, for almost every situation, it is generally posible to simplify the original problem and obtain a simpler one that can be easily solved. Then, using perturbation theory, we can perturbate this solution in order to approximate the real one. This approach is useful, however, it depends very much on the specific problem and a systematic study is rather complicated.\n",
    "\n",
    "The second approximation, and the one used here, consists of a complete numerical reduction of the problem, solving it exactly within the accuracy allowed by implicit errors of the methods. For this part, we are going to assume well-defined problems, where solutions are expected to be well-behaved."
   ]
  },
  {
   "cell_type": "markdown",
   "id": "continuing-alpha",
   "metadata": {},
   "source": [
    "## Euler's method (rigorous)\n"
   ]
  },
  {
   "cell_type": "markdown",
   "id": "continued-helping",
   "metadata": {},
   "source": [
    "This method is the most basic of all methods, however, it is useful to understand basic concepts and definitions of differential equations problems. \n",
    "\n",
    "Suppose we have a well-posed initial-value problem given by:\n",
    "\n",
    "$$ \\frac{dy}{dt}=f(t,y),\\ \\ \\ a\\leq t\\leq b, \\ \\ \\ \\ y(a) = \\alpha $$\n",
    "\n",
    "Now, let's define a **mesh points** as a set of values $\\{t_i\\}t_i$ where we are going to approximate the solution $y(t)$. These points can be equal-spaced such that\n",
    "\n",
    "$$ t_i = a+ i h,\\ \\ \\ \\ \\mbox{with}\\ \\ i=1,2,3,\\cdots,N \\ \\ \\mbox{and}\\ h = \\frac{b-a}{N}. $$\n",
    "\n",
    "Here, $h$ is called the **step size** of the **mesh points**.\n",
    "\n",
    "Now, using the first-order approximation of the derivative saw in [Numerical Differentiation](http://nbviewer.ipython.org/github/sbustamante/ComputationalMethods/blob/master/material/numerical-calculus.ipynb#Numerical-Differentiation), we obtain\n",
    "\n",
    "$$ \\frac{dy}{dt}\\approx \\frac{y(t+h)-y(t)}{h} $$\n",
    "\n",
    "or\n",
    "\n",
    "$$ \\left.\\frac{dy}{dt}\\right|_{t=t_i}\\approx \\frac{y(t_{i+1})-y(t_i)}{h} $$\n",
    "\n",
    "The original problem can be rewritten as\n",
    "\n",
    "$$ y_{i+1} = y_i + hf(t_i, y_i) + \\frac{h^2}{2}y^{''}(\\xi_i) $$\n",
    "\n",
    "where the notation $y(t_i)\\equiv y_i$ has been introduced and the last term (error term) can be obtained taking a second-order approximation of the derivative.\n",
    "\n",
    "This equation can be solved recursively as we know the initial value $y_0 = y(a) = \\alpha$."
   ]
  },
  {
   "cell_type": "markdown",
   "id": "quality-roommate",
   "metadata": {},
   "source": [
    "## Example 1"
   ]
  },
  {
   "cell_type": "markdown",
   "id": "black-script",
   "metadata": {},
   "source": [
    "The formalism of the Euler's method can be applied for any system of the form:\n",
    "\n",
    "$$ \\frac{dy}{dt}=f(t,y),\\ \\ \\ a\\leq t\\leq b, \\ \\ \\ \\ y(a) = \\alpha $$\n",
    "\n",
    "However, it is possible to extend this to second-order systems, i.e., systems involving second derivatives. Let's suppose a general system of the form:\n",
    "\n",
    "$$ \\frac{d^2y}{dt^2}+ g(t,y)\\frac{dy}{dt}=f(t,y),\\ \\ \\ a\\leq t\\leq b, \\ \\ \\ \\ y(a) = \\alpha\\ \\ \\mbox{and}\\ y'(a) = \\beta$$\n",
    "\n",
    "For this system we have to provide both, the initial value $y(a)$ and the initial derivative $y'(a)$.\n",
    "\n",
    "Now, let's define a new variable $w(t) = y'(t)$, the previous problem can be then written as \n",
    "\n",
    "$$ \\matrix{\\frac{dw}{dt}=g(t,y)w-f(t,y) \\\\  \\frac{dy}{dt}=w(t)} ,\\ \\ \\ a\\leq t\\leq b, \\ \\ \\ \\ y(a) = \\alpha\\ \\ \\mbox{and}\\ w(a) = \\beta$$\n",
    "\n",
    "Each of this problem has now the form required by the Euler's algorithm, and the solution can be computed as:\n",
    "\n",
    "$$ \\matrix{w_{i+1}= w_{i} + h[g(t_i,y_i)w_i-f(t_i,y_i)] \\\\  y_{i+1}=y_i + hw_i} ,\\ \\ \\ a\\leq t\\leq b, \\ \\ \\ \\ y(a) = \\alpha\\ \\ \\mbox{and}\\ w(a) = \\beta$$\n",
    "\n",
    "\n",
    "In order to apply this, let's assume a simple mass-spring.\n",
    "\n",
    "![](https://raw.githubusercontent.com/sbustamante/ComputationalMethods/master/material/figures/mass_spring.png)\n",
    "\n",
    "The equation of motion according to Newton's second law is\n",
    "\n",
    "$$ m\\frac{d^2x}{dt^2} = -kx $$\n",
    "\n",
    "Using the previous results, we can rewrite this as:\n",
    "\n",
    "$$ \\frac{dv}{dt} = -\\frac{k}{m}x $$\n",
    "$$ \\frac{dx}{dt} = v $$\n",
    "\n",
    "And the equivalent Euler system is\n",
    "\n",
    "$$ \\matrix{v_{i+1}= v_{i} - h\\frac{k}{m}x_i \\\\  x_{i+1}=x_i + hv_i} ,\\ \\ \\ x(0) = x_0\\ \\ \\mbox{and}\\ v(0) = v_0$$"
   ]
  },
  {
   "cell_type": "markdown",
   "id": "noted-blues",
   "metadata": {},
   "source": [
    "## <font color='red'>     **Activity** </font>"
   ]
  },
  {
   "cell_type": "markdown",
   "id": "soviet-offering",
   "metadata": {},
   "source": [
    "<font color='red'>    \n",
    "**1.** Using the initial conditions $x(0) = 0$ and $v(0) = 3$, solve the previous system. Plot the solutions $x(t)$ and $y(t)$ and compare with real solutions. Furthermore, calculate the total energy of the system. What can you conclude about the behaviour of the energy? Does it make any sense?\n",
    "</font>"
   ]
  },
  {
   "cell_type": "markdown",
   "id": "massive-secret",
   "metadata": {},
   "source": [
    "<font color='red'>    \n",
    "**2.** Using the same reasoning, derive the equations for a simple pendulum. Compare the solution for small oscillations with the analytic one. What happens when increasing the initial amplitude of the movement?\n",
    "</font>"
   ]
  },
  {
   "cell_type": "markdown",
   "id": "democratic-motion",
   "metadata": {},
   "source": [
    "# INITIAL VALUE PROBLEM"
   ]
  },
  {
   "cell_type": "markdown",
   "id": "checked-jenny",
   "metadata": {},
   "source": [
    "# Euler method - less rigorous\n",
    "https://en.wikipedia.org/wiki/Leonhard_Euler"
   ]
  },
  {
   "cell_type": "markdown",
   "id": "indian-oliver",
   "metadata": {},
   "source": [
    "# How to find the solution (evolution of y(t) or y(x)) of the differential equation using Euler method "
   ]
  },
  {
   "cell_type": "markdown",
   "id": "collaborative-memphis",
   "metadata": {},
   "source": [
    "* General form of the ODE is $\\frac{dy}{dx} = f(x,y)$\n",
    "for example:\n",
    "$$\\frac{dy}{dx} = y$$\n",
    "* $f(x,y)$ is known and $y(x)$ is to be determined\n",
    "* numerically we do exactly the same as on the slope fields, we follow the \"arrows\""
   ]
  },
  {
   "cell_type": "markdown",
   "id": "supported-corporation",
   "metadata": {},
   "source": [
    "<img src=\"imgs/euler_method.png\" width=\"300\" />\n",
    "* note the importance of $h$\n",
    "\n",
    "* note that the slope field is exactly what Euler is doing\n",
    "* the blue line is the real solution of a differential equation\n",
    "* so to get the solution numerically we take point we know and get a slope at this point and make step forward of size h\n",
    "* in this particular example we overshoot a bit... but thats ok, this is normal in numerics (Euler method is not the best anyways but its super simple)"
   ]
  },
  {
   "cell_type": "markdown",
   "id": "opposite-developer",
   "metadata": {},
   "source": [
    "* to find a point on a curve we can use the previous point and its derivative\n",
    "$$y_{i+1} = y_{i} + h \\frac{dy}{dx}|_i $$\n",
    "* or in other words\n",
    "$$y_{i+1} = y_{i} + f(x_i,y_i) h  $$\n",
    "* its like walking on the slope field"
   ]
  },
  {
   "cell_type": "markdown",
   "id": "fifteen-senate",
   "metadata": {},
   "source": [
    "<img src=\"imgs/euler_method2.png\" width=\"300\" />\n",
    "* thats why the step $h$ is important\n",
    "\n",
    "<img src=\"imgs/euler_method3.png\" width=\"300\" />"
   ]
  },
  {
   "cell_type": "markdown",
   "id": "stopped-tribune",
   "metadata": {},
   "source": [
    "## Example: numerical - manual solution of a DE "
   ]
  },
  {
   "cell_type": "markdown",
   "id": "canadian-dublin",
   "metadata": {},
   "source": [
    "Let us solve the following initial value problem\n",
    "$$ \\frac{dy}{dx} = yx^2 -1.2y $$\n",
    "$$ \\frac{dy}{dx} = f(x_i,y_i) $$\n",
    "\n",
    "I want to know how y(x) this is the solution\n",
    "\n",
    "where the initial condition is that y(0)=1\n",
    "\n",
    "over the interval [0,2] using Euler method: \n",
    "$$y_{i+1} = y_{i} + f(x_i,y_i) h  $$\n"
   ]
  },
  {
   "cell_type": "markdown",
   "id": "variable-acquisition",
   "metadata": {},
   "source": [
    "## Let's start\n",
    "We can define the know function:\n",
    "$$ \\frac{dy}{dx} = f(x,y) $$\n",
    "where\n",
    "$$ f(x,y) = yx^2 -1.2y$$"
   ]
  },
  {
   "cell_type": "markdown",
   "id": "recovered-elimination",
   "metadata": {},
   "source": [
    "$$y_{i+1} = y_{i} + f(x_i,y_i) h  $$\n",
    "lets set:\n",
    "h=0.5  \n",
    "y0=1  \n",
    "x0=0,0.5,1.0,1.5,2.0 (incremented by $h$)  \n",
    "\n",
    "$$y_{1} = y_{0} + f(x_0,y_0) h  $$\n",
    "$$y_{2} = y_{1} + f(x_1,y_1) h  $$\n",
    "...\n",
    "its an iterative process"
   ]
  },
  {
   "cell_type": "markdown",
   "id": "congressional-tunisia",
   "metadata": {},
   "source": [
    "$i=0$ $\\rightarrow$ $y_1=y_0 + f(x_0,y_0) h$ $\\rightarrow$ $y_1(0.5)=1+ (1*0^2 - 1.2*1)*0.5 = 0.4$\n",
    "\n",
    "$i=1$ $\\rightarrow$ $y_2=y_1 + f(x_1,y_1) h$ $\\rightarrow$ $y_2(1.0)=0.4+ (0.4*0.5^2 - 1.2*0.4)*0.5 = 0.21$\n",
    "\n",
    "$i=2$ $\\rightarrow$ $y_3=y_2 + f(x_2,y_2) h$ $\\rightarrow$ $y_3(1.5)=0.21+ (0.21*1^2 - 1.2*0.21)*0.5 = 0.189$\n",
    "\n",
    "$i=3$ $\\rightarrow$ $y_4=y_3 + f(x_3,y_3) h$ $\\rightarrow$ $y_4(2.0)=0.19+ (0.19*1.5^2 - 1.2*0.19)*0.5 = 0.289$"
   ]
  },
  {
   "cell_type": "code",
   "execution_count": null,
   "id": "computational-marsh",
   "metadata": {},
   "outputs": [],
   "source": []
  },
  {
   "cell_type": "code",
   "execution_count": null,
   "id": "ancient-stuff",
   "metadata": {},
   "outputs": [],
   "source": []
  },
  {
   "cell_type": "code",
   "execution_count": null,
   "id": "distinct-basic",
   "metadata": {},
   "outputs": [],
   "source": []
  },
  {
   "cell_type": "code",
   "execution_count": null,
   "id": "drawn-cylinder",
   "metadata": {},
   "outputs": [],
   "source": []
  },
  {
   "cell_type": "code",
   "execution_count": null,
   "id": "posted-schema",
   "metadata": {},
   "outputs": [],
   "source": []
  },
  {
   "cell_type": "code",
   "execution_count": null,
   "id": "brutal-cleveland",
   "metadata": {},
   "outputs": [],
   "source": []
  },
  {
   "cell_type": "code",
   "execution_count": null,
   "id": "dominican-ownership",
   "metadata": {},
   "outputs": [],
   "source": []
  },
  {
   "cell_type": "markdown",
   "id": "exceptional-sunglasses",
   "metadata": {},
   "source": [
    "# Homework\n"
   ]
  },
  {
   "cell_type": "markdown",
   "id": "contemporary-recording",
   "metadata": {},
   "source": [
    "#### a) Implement the above procedure numerically to find y(x) from:\n",
    "$$ \\frac{dy}{dx} = yx^2 -1.2y $$\n",
    "\n",
    "* the initial condition is: y(0)=1 over the interval [0,2] \n",
    "* the range of x is actually the interval [0,2]\n",
    "* plot the y(x) for h=0.5\n",
    "* on the same plot compare it with the analytical solution of this differential equation, which is: $$y(x) = e^{x^3/3 -1.2x} $$\n",
    "\n",
    "HINTS:\n",
    "- think of the problem in terms of vectors $x$ and $y$.\n",
    "- in the loop refer to the indices of $x_i$, $y_i$ and the function $f(x_i,y_i)$\n",
    "- you can use np.arange to define your vector $x$ based on h and range\n",
    "- you can use np.zeros to initialize $y$, remember to set y[0]=1\n",
    "\n",
    "https://numpy.org/doc/stable/reference/generated/numpy.arange.html\n",
    "\n",
    "y=np.zeros(len(x))   \n",
    "y[0]=1\n",
    "\n",
    "ASK YOURSELF:\n",
    "\n",
    "* what if the range changes to [-2,2] and so the initial condition: \n",
    "x(0)=-2, y(0)=0.76\n",
    "* is your code still working?\n",
    "* can you easily change h?\n",
    "\n",
    "\n",
    "\n",
    "#### b) write a function euler_int() that accepts four arguments and returns two\n",
    "\n",
    "x,y=euler_int(func,intrange,h,yinit)\n",
    "\n",
    "intrange[0,2]\n",
    "where func() is:\n",
    "\n",
    "def func(xi,yi):\n",
    "    return\n",
    "\n",
    "\n",
    "and test your code by running the cell below. Compare with the plot below"
   ]
  },
  {
   "cell_type": "code",
   "execution_count": 3,
   "id": "handed-uganda",
   "metadata": {},
   "outputs": [
    {
     "ename": "NameError",
     "evalue": "name 'euler_int' is not defined",
     "output_type": "error",
     "traceback": [
      "\u001b[0;31m---------------------------------------------------------------------------\u001b[0m",
      "\u001b[0;31mNameError\u001b[0m                                 Traceback (most recent call last)",
      "\u001b[0;32m<ipython-input-3-fcabc3783964>\u001b[0m in \u001b[0;36m<module>\u001b[0;34m\u001b[0m\n\u001b[1;32m      5\u001b[0m \u001b[0mh\u001b[0m\u001b[0;34m=\u001b[0m\u001b[0;36m0.5\u001b[0m\u001b[0;34m\u001b[0m\u001b[0;34m\u001b[0m\u001b[0m\n\u001b[1;32m      6\u001b[0m \u001b[0myinit\u001b[0m\u001b[0;34m=\u001b[0m\u001b[0;36m0.76\u001b[0m\u001b[0;34m\u001b[0m\u001b[0;34m\u001b[0m\u001b[0m\n\u001b[0;32m----> 7\u001b[0;31m \u001b[0mx1\u001b[0m\u001b[0;34m,\u001b[0m\u001b[0my1\u001b[0m\u001b[0;34m=\u001b[0m\u001b[0meuler_int\u001b[0m\u001b[0;34m(\u001b[0m\u001b[0mfunc\u001b[0m\u001b[0;34m,\u001b[0m\u001b[0mintrange\u001b[0m\u001b[0;34m,\u001b[0m\u001b[0mh\u001b[0m\u001b[0;34m,\u001b[0m\u001b[0myinit\u001b[0m\u001b[0;34m)\u001b[0m\u001b[0;34m\u001b[0m\u001b[0;34m\u001b[0m\u001b[0m\n\u001b[0m\u001b[1;32m      8\u001b[0m \u001b[0max\u001b[0m\u001b[0;34m.\u001b[0m\u001b[0mplot\u001b[0m\u001b[0;34m(\u001b[0m\u001b[0mx1\u001b[0m\u001b[0;34m,\u001b[0m\u001b[0my1\u001b[0m\u001b[0;34m,\u001b[0m\u001b[0;34m'-r'\u001b[0m\u001b[0;34m,\u001b[0m\u001b[0mlabel\u001b[0m\u001b[0;34m=\u001b[0m\u001b[0;34m'h=0.5'\u001b[0m\u001b[0;34m)\u001b[0m\u001b[0;34m\u001b[0m\u001b[0;34m\u001b[0m\u001b[0m\n\u001b[1;32m      9\u001b[0m \u001b[0;34m\u001b[0m\u001b[0m\n",
      "\u001b[0;31mNameError\u001b[0m: name 'euler_int' is not defined"
     ]
    },
    {
     "data": {
      "image/png": "[encoded data removed]",
      "text/plain": [
       "<Figure size 432x288 with 1 Axes>"
      ]
     },
     "metadata": {
      "needs_background": "light"
     },
     "output_type": "display_data"
    }
   ],
   "source": [
    "import matplotlib.pyplot as plt\n",
    "fig,ax=plt.subplots(1,1)\n",
    "\n",
    "intrange=[-2.0,2.0]\n",
    "h=0.5\n",
    "yinit=0.76\n",
    "x1,y1=euler_int(func,intrange,h,yinit)\n",
    "ax.plot(x1,y1,'-r',label='h=0.5')\n",
    "\n",
    "intrange=[-2.0,2.0]\n",
    "h=0.25\n",
    "yinit=0.76\n",
    "x2,y2=euler_int(func,intrange,h,yinit)\n",
    "ax.plot(x2,y2,'-b',label='h=0.25')\n",
    "\n",
    "intrange=[-2.0,2.0]\n",
    "h=0.05\n",
    "yinit=0.76\n",
    "x3,y3=euler_int(func,intrange,h,yinit)\n",
    "ax.plot(x3,y3,'-g',label='h=0.05')\n",
    "\n",
    "xexact=np.linspace(intrange[0],intrange[-1],101)\n",
    "yexact=np.exp((xexact**3)/3-1.2*xexact)\n",
    "ax.plot(xexact,yexact,'-k',label='exact')\n",
    "\n",
    "ax.set_xlabel('x')\n",
    "ax.set_ylabel('ode')\n",
    "ax.legend()\n",
    "#plt.show()"
   ]
  },
  {
   "cell_type": "markdown",
   "id": "increased-democracy",
   "metadata": {},
   "source": [
    "<img src=\"imgs/homework_sol.png\" width=\"400\" />"
   ]
  },
  {
   "cell_type": "code",
   "execution_count": null,
   "id": "elect-spread",
   "metadata": {},
   "outputs": [],
   "source": []
  }
 ],
 "metadata": {
  "kernelspec": {
   "display_name": "Python 3",
   "language": "python",
   "name": "python3"
  },
  "language_info": {
   "codemirror_mode": {
    "name": "ipython",
    "version": 3
   },
   "file_extension": ".py",
   "mimetype": "text/x-python",
   "name": "python",
   "nbconvert_exporter": "python",
   "pygments_lexer": "ipython3",
   "version": "3.7.2"
  }
 },
 "nbformat": 4,
 "nbformat_minor": 5
}

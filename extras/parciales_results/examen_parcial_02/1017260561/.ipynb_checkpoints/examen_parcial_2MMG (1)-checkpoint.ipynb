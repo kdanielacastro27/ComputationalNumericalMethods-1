{
 "cells": [
  {
   "cell_type": "markdown",
   "id": "5vCHQboQ1XO-",
   "metadata": {
    "id": "5vCHQboQ1XO-"
   },
   "source": [
    "Manuela Montoya González"
   ]
  },
  {
   "cell_type": "markdown",
   "id": "plain-rugby",
   "metadata": {
    "id": "plain-rugby"
   },
   "source": [
    "# Examen parcial 2 (calculo numerico y algebra lineal)\n",
    "* Antes de enviar el archivo, $\\textbf{reiniciar y ejecutar el kernel}$ para ver que el archivo se compila sin errores\n",
    "* enviar el archivo jupyter sin anexos antes de las 09.59am del 30.08.2022 a mi dirección de correo electrónico: michal.hemmerling@udea.edu.co "
   ]
  },
  {
   "cell_type": "markdown",
   "id": "usual-washer",
   "metadata": {
    "id": "usual-washer"
   },
   "source": [
    "# Ejercicio 1"
   ]
  },
  {
   "cell_type": "markdown",
   "id": "pretty-conference",
   "metadata": {
    "id": "pretty-conference"
   },
   "source": [
    "El archivo $\\textbf{data_radius_density.csv}$ contiene dos columnas: radio ($ r $) y la densidad ($ \\rho (r) $) de un disco plano en función del radio\n",
    "\n",
    "El disco es lo suficientemente delgado como para que, con fines matemáticos, podamos tratarlo como un objeto bidimensional. Asumimos que la densidad se da en términos de masa por unidad de área (llamada densidad de área), y además asumimos que la densidad varía solo a lo largo del radio del disco (llamada densidad radial). Orientamos el disco en el plano xy, con el centro en el origen. Entonces, la densidad del disco puede ser tratada como una función de x, denotada $\\rho(x)$.\n",
    "<table><tr>\n",
    "<td> <img src=\"https://github.com/mhemmg/ComputationalNumericalMethods/blob/master/extras/additional_materials/examen_parcial_II_a/disk_radius_density.png?raw=1\" width=\"500\" /> </td>\n",
    "</tr></table>   \n",
    "\n",
    "* a) importar los datos usando Pandas, graficar la densidad del disco frente a su radio (los gráficos deben tener etiquetas para el eje `x` y el eje `y`).\n",
    "\n",
    "* b) sabiendo que la masa del disco viene dada por una integral:\n",
    "$$ m = \\int_0^{r} 2 \\pi \\ r * \\rho (r) \\ dr $$\n",
    "     calcular la masa del disco mediante integración numérica  \n",
    "(*masa total del disco es una suma de masas de anillos con grosura dr)     "
   ]
  },
  {
   "cell_type": "code",
   "execution_count": 1,
   "id": "valuable-august",
   "metadata": {
    "colab": {
     "base_uri": "https://localhost:8080/",
     "height": 522
    },
    "id": "valuable-august",
    "outputId": "36d61146-a41e-4a97-bb70-92356f0d637d"
   },
   "outputs": [
    {
     "name": "stdout",
     "output_type": "stream",
     "text": [
      "      radius   density\n",
      "0   0.000000  0.000000\n",
      "1   0.040404  0.201008\n",
      "2   0.080808  0.284268\n",
      "3   0.121212  0.348155\n",
      "4   0.161616  0.402015\n",
      "..       ...       ...\n",
      "95  3.838384  1.959179\n",
      "96  3.878788  1.969464\n",
      "97  3.919192  1.979695\n",
      "98  3.959596  1.989873\n",
      "99  4.000000  2.000000\n",
      "\n",
      "[100 rows x 2 columns]\n"
     ]
    },
    {
     "data": {
      "image/png": "[encoded data removed]",
      "text/plain": [
       "<Figure size 432x288 with 1 Axes>"
      ]
     },
     "metadata": {
      "needs_background": "light"
     },
     "output_type": "display_data"
    }
   ],
   "source": [
    "#punto a)\n",
    "import pandas as pd\n",
    "import numpy as np\n",
    "import matplotlib.pyplot as plt\n",
    "data = pd.read_csv('data_radius_density.csv')\n",
    "print(data)\n",
    "fig,ax = plt.subplots(1,1)\n",
    "ax.plot(data['radius'],data['density'],'m')\n",
    "plt.xlabel('Radius')\n",
    "plt.ylabel('Density')\n",
    "\n",
    "plt.show()"
   ]
  },
  {
   "cell_type": "code",
   "execution_count": 2,
   "id": "5WODkHw47k_N",
   "metadata": {
    "colab": {
     "base_uri": "https://localhost:8080/"
    },
    "id": "5WODkHw47k_N",
    "outputId": "f7dcb3ed-a785-426b-abe8-0d2c7de83605"
   },
   "outputs": [
    {
     "name": "stdout",
     "output_type": "stream",
     "text": [
      "La masa es:  80.42489768943993\n"
     ]
    }
   ],
   "source": [
    "#Punto b)\n",
    "import scipy.integrate as integrate\n",
    "import numpy as np\n",
    "data1_numpy = data.to_numpy()\n",
    "radius = data1_numpy[:,0]\n",
    "density = data1_numpy[:,1]\n",
    "def func(radius,density):\n",
    "  return 2*np.pi*radius*density\n",
    "print('La masa es: ',integrate.simps(func(radius,density),radius))"
   ]
  },
  {
   "cell_type": "code",
   "execution_count": 3,
   "id": "EITdULbLHgOI",
   "metadata": {
    "colab": {
     "base_uri": "https://localhost:8080/"
    },
    "id": "EITdULbLHgOI",
    "outputId": "1b190d34-e8d5-4c0e-a07a-964d3e4a342c"
   },
   "outputs": [
    {
     "name": "stdout",
     "output_type": "stream",
     "text": [
      "La masa es:  80.42489768943993\n"
     ]
    }
   ],
   "source": [
    "# Segundo método\n",
    "print('La masa es: ',integrate.simps(2*np.pi*radius*density,radius))"
   ]
  },
  {
   "cell_type": "markdown",
   "id": "handy-obligation",
   "metadata": {
    "id": "handy-obligation"
   },
   "source": [
    "# Ejercicio 2"
   ]
  },
  {
   "cell_type": "markdown",
   "id": "broken-belfast",
   "metadata": {
    "id": "broken-belfast"
   },
   "source": [
    "La capacidad calorífica de un gas muy frío se puede aproximar mediante:\n",
    "\n",
    "$$ C_v \\approx \\left (\\frac{dP}{dT} \\right) $$\n",
    "(en las unidades de $ \\left [\\frac {J} {K} \\right] $)\n",
    "\n",
    "Donde $P$ es la presión $ [J / s^3] $ del gas y $ T \\ [K] $ es la temperatura del gas.\n",
    "\n",
    "Los datos para la presión frente a la temperatura se dan en el archivo csv ($ \\textbf{data_pressure_vs_temperature.csv} $).\n",
    "\n",
    "* a) importar los datos usando pandas\n",
    "* b) hacer un gráfico de $P$ vs $T$ (grafico tiene que tener etiquietas)\n",
    "* c) utilizando la derivada numérica, encuentre la capacidad calorífica.\n",
    "* d) hacer un gráfico de $C_v$ vs $T$ (grafico tiene que tener etiquietas)\n",
    "* e) usando el ultimos datos hace una estimacion de Temperatura Critica de este gas (Temperatura Critica es Temperatura de cambio abrupto del comportamiento de Capacidad Termica)\n",
    "\n",
    "*gas muy frío se refiere a un gas Bose no homogéneo, y la teoría que relaciona $ C_v $ y $ P $ se refiere a la Teoría de Variables Globales Termodinámicas. La presión en realidad se llama parámetro de presión."
   ]
  },
  {
   "cell_type": "code",
   "execution_count": 4,
   "id": "written-adrian",
   "metadata": {
    "colab": {
     "base_uri": "https://localhost:8080/",
     "height": 846
    },
    "id": "written-adrian",
    "outputId": "d87b7278-e3de-4e70-a354-f12681ce45bf"
   },
   "outputs": [
    {
     "name": "stdout",
     "output_type": "stream",
     "text": [
      "     Temperature      Pressure\n",
      "0   4.789201e-08  1.958251e-17\n",
      "1   6.625061e-08  2.055515e-17\n",
      "2   8.460922e-08  2.237848e-17\n",
      "3   1.029678e-07  2.534132e-17\n",
      "4   1.213264e-07  2.994527e-17\n",
      "5   1.396850e-07  3.681453e-17\n",
      "6   1.580436e-07  4.642824e-17\n",
      "7   1.764022e-07  5.895152e-17\n",
      "8   1.947608e-07  7.447724e-17\n",
      "9   2.131194e-07  9.347272e-17\n",
      "10  2.314781e-07  1.154354e-16\n",
      "11  2.498367e-07  1.374488e-16\n",
      "12  2.681953e-07  1.534382e-16\n",
      "13  2.865539e-07  1.671772e-16\n",
      "14  3.049125e-07  1.802543e-16\n",
      "15  3.232711e-07  1.929425e-16\n",
      "16  3.416297e-07  2.053711e-16\n",
      "17  3.599883e-07  2.176142e-16\n",
      "18  3.783469e-07  2.297188e-16\n",
      "19  3.967055e-07  2.417169e-16\n",
      "20  4.150641e-07  2.536311e-16\n",
      "21  4.334227e-07  2.654779e-16\n",
      "22  4.517813e-07  2.772699e-16\n",
      "23  4.701399e-07  2.890164e-16\n",
      "24  4.884985e-07  3.007252e-16\n",
      "25  5.068571e-07  3.124020e-16\n",
      "26  5.252157e-07  3.240518e-16\n",
      "27  5.435743e-07  3.356784e-16\n",
      "28  5.619329e-07  3.472849e-16\n",
      "29  5.802915e-07  3.588741e-16\n",
      "30  5.986501e-07  3.704482e-16\n"
     ]
    },
    {
     "data": {
      "image/png": "[encoded data removed]",
      "text/plain": [
       "<Figure size 432x288 with 1 Axes>"
      ]
     },
     "metadata": {
      "needs_background": "light"
     },
     "output_type": "display_data"
    }
   ],
   "source": [
    "#Punto a) y b)\n",
    "import pandas as pd\n",
    "import numpy as np\n",
    "import matplotlib.pyplot as plt\n",
    "datapt = pd.read_csv('data_pressure_vs_temparature.csv')\n",
    "print(datapt)\n",
    "fig,ax = plt.subplots(1,1)\n",
    "ax.plot(datapt['Temperature'],datapt['Pressure'],'m')\n",
    "plt.xlabel('Temperature')\n",
    "plt.ylabel('Pressure')\n",
    "plt.show()"
   ]
  },
  {
   "cell_type": "code",
   "execution_count": 5,
   "id": "FD4ugu8HA_M0",
   "metadata": {
    "colab": {
     "base_uri": "https://localhost:8080/",
     "height": 429
    },
    "id": "FD4ugu8HA_M0",
    "outputId": "e20e2b85-732b-438a-bc98-1d2e808cac9f"
   },
   "outputs": [
    {
     "name": "stdout",
     "output_type": "stream",
     "text": [
      "[5.29799802e-11 7.61486415e-11 1.30352287e-10 2.06082997e-10\n",
      " 3.12475005e-10 4.48916825e-10 6.02904968e-10 7.63919658e-10\n",
      " 9.40191259e-10 1.11550372e-09 1.19769793e-09 1.03501324e-09\n",
      " 8.09658111e-10 7.30340985e-10 7.01723220e-10 6.84061313e-10\n",
      " 6.71936615e-10 6.63114111e-10 6.56443006e-10 6.51256053e-10\n",
      " 6.47135543e-10 6.43805355e-10 6.41075324e-10 6.38810197e-10\n",
      " 6.36911237e-10 6.35304785e-10 6.33934876e-10 6.32758315e-10\n",
      " 6.31741302e-10 6.30857069e-10 6.30445179e-10]\n"
     ]
    },
    {
     "data": {
      "image/png": "[encoded data removed]",
      "text/plain": [
       "<Figure size 432x288 with 1 Axes>"
      ]
     },
     "metadata": {
      "needs_background": "light"
     },
     "output_type": "display_data"
    }
   ],
   "source": [
    "#Punto c) y d)\n",
    "import scipy.integrate as integrate\n",
    "import numpy as np\n",
    "datapt_numpy = datapt.to_numpy()\n",
    "Pressure = datapt_numpy[:,1]\n",
    "Temperature = datapt_numpy[:,0]\n",
    "y_prime1 = np.gradient(Pressure,Temperature)\n",
    "print(y_prime1)\n",
    "fig,ax = plt.subplots(1,1)\n",
    "ax.plot(Temperature,y_prime1,'b')\n",
    "plt.xlabel('Temperature')\n",
    "plt.ylabel('Capacidad calorifica')\n",
    "plt.show()"
   ]
  },
  {
   "cell_type": "code",
   "execution_count": 6,
   "id": "_igmFFruECsO",
   "metadata": {
    "colab": {
     "base_uri": "https://localhost:8080/",
     "height": 295
    },
    "id": "_igmFFruECsO",
    "outputId": "3a68ecb1-88d3-4bb0-cb2b-c891766457d6"
   },
   "outputs": [
    {
     "data": {
      "image/png": "[encoded data removed]",
      "text/plain": [
       "<Figure size 432x288 with 1 Axes>"
      ]
     },
     "metadata": {
      "needs_background": "light"
     },
     "output_type": "display_data"
    }
   ],
   "source": [
    "#Punto d) con interpolacion\n",
    "from scipy import interpolate\n",
    "\n",
    "f_interp = interpolate.interp1d(Temperature ,Pressure ,kind='cubic')\n",
    "tem_interp=np.linspace(np.min(Temperature),np.max(Temperature),100)\n",
    "pre_interp=f_interp(tem_interp)\n",
    "\n",
    "#Reperición punto C\n",
    "Cv_interp= np.gradient(pre_interp, tem_interp)\n",
    "#print(Cv_interp)\n",
    "\n",
    "#Repetición punto D\n",
    "fig, ax=plt.subplots(1,1)\n",
    "ax.plot(tem_interp ,Cv_interp , color=\"m\")\n",
    "plt.xlabel(\"Temperatura Interpolate\")\n",
    "plt.ylabel(\"Cv interpolate\")\n",
    "plt.title(\"interpolate (Capacidad calorifica vs Temperatura)\")\n",
    "plt.grid()"
   ]
  },
  {
   "cell_type": "code",
   "execution_count": 7,
   "id": "y65p8CiUKx7d",
   "metadata": {
    "colab": {
     "base_uri": "https://localhost:8080/"
    },
    "id": "y65p8CiUKx7d",
    "outputId": "12b8fc11-f424-433f-811d-278e56d72252"
   },
   "outputs": [
    {
     "name": "stdout",
     "output_type": "stream",
     "text": [
      "El valor de la temperatura es:  10  con un valor de capacidad calorifica de:  1.1976979318858827e-09\n"
     ]
    }
   ],
   "source": [
    "a = np.argmax(y_prime1)\n",
    "\n",
    "print('El valor de la temperatura es: ',a,' con un valor de capacidad calorifica de: ',np.max(y_prime1) )"
   ]
  },
  {
   "cell_type": "markdown",
   "id": "nominated-beast",
   "metadata": {
    "id": "nominated-beast"
   },
   "source": [
    "# Ejercicio 3"
   ]
  },
  {
   "cell_type": "markdown",
   "id": "regulated-yorkshire",
   "metadata": {
    "id": "regulated-yorkshire"
   },
   "source": [
    "Usando metodo Monte Carlo resuleve el siguiente integral:\n",
    "\n",
    "$$ \\int_{0}^{\\pi/2} \\int_{0}^{1} e^y \\ cos(x) \\ dy \\ dx $$"
   ]
  },
  {
   "cell_type": "markdown",
   "id": "NPgaofWb3WYT",
   "metadata": {
    "id": "NPgaofWb3WYT"
   },
   "source": [
    "![image.png](data:image/png;base64,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)"
   ]
  },
  {
   "cell_type": "code",
   "execution_count": 8,
   "id": "offshore-california",
   "metadata": {
    "colab": {
     "base_uri": "https://localhost:8080/"
    },
    "id": "offshore-california",
    "outputId": "5474f542-d1f6-465d-d8f9-4e66081f0d86"
   },
   "outputs": [
    {
     "name": "stdout",
     "output_type": "stream",
     "text": [
      "1.7211791336538353\n"
     ]
    }
   ],
   "source": [
    "#Code\n",
    "import numpy as np\n",
    "import matplotlib.pyplot as plt #por si graficamos\n",
    "E = 0\n",
    "N = 100000 #Cantidad de repeticiones\n",
    "a = 0\n",
    "b = np.pi/2\n",
    "c = 0\n",
    "d = 1\n",
    "for i in range(N):\n",
    "  x = np.random.uniform(a,b)\n",
    "  y = np.random.uniform(c,d)\n",
    "  E = E + np.exp(y)*np.cos(x) \n",
    "E = E/N\n",
    "I = E*(b-a)*(d-c)\n",
    "print(I)"
   ]
  },
  {
   "cell_type": "markdown",
   "id": "precious-brook",
   "metadata": {
    "id": "precious-brook"
   },
   "source": [
    "# Ejercicio 4"
   ]
  },
  {
   "cell_type": "markdown",
   "id": "backed-heritage",
   "metadata": {
    "id": "backed-heritage"
   },
   "source": [
    "Resuelve siguiente integral (muestra el error de solucion):\n",
    "\n",
    "$$ \\int_{0}^{10}\\frac{x^3}{x^4+16} dx$$"
   ]
  },
  {
   "cell_type": "markdown",
   "id": "MItu57qI4heY",
   "metadata": {
    "id": "MItu57qI4heY"
   },
   "source": [
    "#Confirmamos la integral\n",
    "![image.png](data:image/png;base64,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)"
   ]
  },
  {
   "cell_type": "code",
   "execution_count": 9,
   "id": "electronic-spread",
   "metadata": {
    "colab": {
     "base_uri": "https://localhost:8080/"
    },
    "id": "electronic-spread",
    "outputId": "f4921ecb-4f97-44b1-f86b-fed5c743c95c"
   },
   "outputs": [
    {
     "name": "stdout",
     "output_type": "stream",
     "text": [
      "I_quad:  1.6098375927750248 Error:  1.405084939945598e-09\n"
     ]
    }
   ],
   "source": [
    "import scipy.integrate as integrate\n",
    "import numpy as np\n",
    "def fun(x):\n",
    "  return x**3/(x**4+16)\n",
    "\n",
    "I_quad,error = integrate.quad(fun,0,10)\n",
    "print('I_quad: ',I_quad,'Error: ',error )"
   ]
  },
  {
   "cell_type": "markdown",
   "id": "derived-glenn",
   "metadata": {},
   "source": [
    "# Feedback:\n",
    "```\n",
    "\n",
    "    Exercise 1.\n",
    "    Solution + presentation of the results\t            (max 2.5p):\t2.5p\n",
    "\n",
    "    Exercise 2.\n",
    "    Solution + presentation of the results\t            (max 2.5p):\t1.5p\n",
    "    * falta temperatura critica\n",
    "    Exercise 3.\n",
    "    Solution + presentation of the results\t            (max 2.5p):\t2.5p\n",
    "\n",
    "    Exercise 4 \n",
    "    Solution + presentation of the results\t            (max 2.5p):\t2.5p\n",
    "\n",
    "\n",
    "    - Total:                                                       (max 10.0p):   9.0p\n",
    "```"
   ]
  }
 ],
 "metadata": {
  "colab": {
   "name": "examen_parcial_2MMG.ipynb",
   "provenance": []
  },
  "kernelspec": {
   "display_name": "Python 3",
   "language": "python",
   "name": "python3"
  },
  "language_info": {
   "codemirror_mode": {
    "name": "ipython",
    "version": 3
   },
   "file_extension": ".py",
   "mimetype": "text/x-python",
   "name": "python",
   "nbconvert_exporter": "python",
   "pygments_lexer": "ipython3",
   "version": "3.7.2"
  }
 },
 "nbformat": 4,
 "nbformat_minor": 5
}

{
 "cells": [
  {
   "cell_type": "markdown",
   "id": "plain-rugby",
   "metadata": {
    "id": "plain-rugby"
   },
   "source": [
    "# Examen parcial 2 (cálculo numérico y algebra lineal)\n",
    "* Antes de enviar el archivo, $\\textbf{reiniciar y ejecutar el kernel}$ para ver que el archivo se compila sin errores\n",
    "* enviar el archivo jupyter sin anexos antes de las 09.59am del 30.08.2022 a mi dirección de correo electrónico: michal.hemmerling@udea.edu.co "
   ]
  },
  {
   "cell_type": "markdown",
   "id": "usual-washer",
   "metadata": {
    "id": "usual-washer"
   },
   "source": [
    "# Ejercicio 1"
   ]
  },
  {
   "cell_type": "markdown",
   "id": "pretty-conference",
   "metadata": {
    "id": "pretty-conference"
   },
   "source": [
    "El archivo $\\textbf{data_radius_density.csv}$ contiene dos columnas: radio ($ r $) y la densidad ($ \\rho (r) $) de un disco plano en función del radio\n",
    "\n",
    "El disco es lo suficientemente delgado como para que, con fines matemáticos, podamos tratarlo como un objeto bidimensional. Asumimos que la densidad se da en términos de masa por unidad de área (llamada densidad de área), y además asumimos que la densidad varía solo a lo largo del radio del disco (llamada densidad radial). Orientamos el disco en el plano xy, con el centro en el origen. Entonces, la densidad del disco puede ser tratada como una función de x, denotada $\\rho(x)$.\n",
    "<table><tr>\n",
    "<td> <img src=\"disk_radius_density.png\" width=\"500\" /> </td>\n",
    "</tr></table>   \n",
    "\n",
    "* a) importar los datos usando Pandas, graficar la densidad del disco frente a su radio (los gráficos deben tener etiquetas para el eje `x` y el eje `y`).\n",
    "\n",
    "* b) sabiendo que la masa del disco viene dada por una integral:\n",
    "$$ m = \\int_0^{r} 2 \\pi \\ r * \\rho (r) \\ dr $$\n",
    "     calcular la masa del disco mediante integración numérica  \n",
    "(*masa total del disco es una suma de masas de anillos con grosura dr)     "
   ]
  },
  {
   "cell_type": "code",
   "execution_count": 1,
   "id": "j20jjv6u4A8z",
   "metadata": {
    "colab": {
     "base_uri": "https://localhost:8080/"
    },
    "id": "j20jjv6u4A8z",
    "outputId": "341bdf94-6d46-40d8-b4f6-81df95b99f77"
   },
   "outputs": [
    {
     "name": "stdout",
     "output_type": "stream",
     "text": [
      "--2022-09-05 09:46:52--  https://raw.githubusercontent.com/mhemmg/ComputationalNumericalMethods/master/extras/additional_materials/examen_parcial_II_a/data_radius_density.csv\n",
      "Resolving raw.githubusercontent.com (raw.githubusercontent.com)... 185.199.110.133, 185.199.109.133, 185.199.111.133, ...\n",
      "Connecting to raw.githubusercontent.com (raw.githubusercontent.com)|185.199.110.133|:443... connected.\n",
      "HTTP request sent, awaiting response... 200 OK\n",
      "Length: 3702 (3.6K) [text/plain]\n",
      "Saving to: 'data_radius_density.csv.5'\n",
      "\n",
      "data_radius_density 100%[===================>]   3.62K  --.-KB/s    in 0s      \n",
      "\n",
      "2022-09-05 09:46:52 (14.3 MB/s) - 'data_radius_density.csv.5' saved [3702/3702]\n",
      "\n",
      "--2022-09-05 09:46:52--  http://extras/additional_materials/examen_parcial_II_a/disk_radius_density.png\n",
      "Resolving extras (extras)... failed: Name or service not known.\n",
      "wget: unable to resolve host address 'extras'\n"
     ]
    }
   ],
   "source": [
    "!wget https://raw.githubusercontent.com/mhemmg/ComputationalNumericalMethods/master/extras/additional_materials/examen_parcial_II_a/data_radius_density.csv\n",
    "!wget extras/additional_materials/examen_parcial_II_a/disk_radius_density.png"
   ]
  },
  {
   "cell_type": "code",
   "execution_count": 2,
   "id": "valuable-august",
   "metadata": {
    "colab": {
     "base_uri": "https://localhost:8080/",
     "height": 582
    },
    "id": "valuable-august",
    "outputId": "86d2ffa7-b858-4b70-e3f3-243205a21392"
   },
   "outputs": [
    {
     "data": {
      "image/png": "[encoded data removed]",
      "text/plain": [
       "<Figure size 432x288 with 1 Axes>"
      ]
     },
     "metadata": {
      "needs_background": "light"
     },
     "output_type": "display_data"
    }
   ],
   "source": [
    "# tu código:\n",
    "\n",
    "import pandas as pd\n",
    "import numpy as np\n",
    "import matplotlib.pyplot as plt\n",
    "import scipy.integrate as integrate\n",
    "\n",
    "\n",
    "#Lectura de datos\n",
    "\n",
    "df = pd.read_csv ('data_radius_density.csv')\n",
    "\n",
    "data=df.to_numpy()\n",
    "\n",
    "density=[];\n",
    "position=[];\n",
    "\n",
    "#Llevo a los datos a dos arreglos que se usar mejor\n",
    "\n",
    "for i in range(0,len(data)):\n",
    "\n",
    "  density.append(data[i][1]);\n",
    "  position.append(data[i][0]);\n",
    "\n",
    "p=np.array(density)\n",
    "x=np.array(position)\n",
    "\n",
    "\n",
    "\n",
    "#Procedo a graficar\n",
    "\n",
    "plt.figure()\n",
    "plt.rcParams[\"figure.figsize\"] = (10,9)\n",
    "\n",
    "plt.plot(x,p, 'blue')\n",
    "\n",
    "plt.xlabel(\"Posición $[x]$\")\n",
    "plt.ylabel(\"Densidad $ p $\")   #luego colo la letra adecuada\n",
    "plt.title(\"Densidad en función de la posición\",fontsize=25)\n",
    "plt.show()\n"
   ]
  },
  {
   "cell_type": "code",
   "execution_count": 3,
   "id": "RaF82VJn-eTR",
   "metadata": {
    "colab": {
     "base_uri": "https://localhost:8080/"
    },
    "id": "RaF82VJn-eTR",
    "outputId": "93baebc6-2ba8-4f70-d269-c59a563f3b83"
   },
   "outputs": [
    {
     "name": "stdout",
     "output_type": "stream",
     "text": [
      "5.026548245743669\n",
      "La masa por trapecios es: 80.42728369193307\n",
      "La masa según Simpson es: 80.42489768943993\n",
      "La masa por cuadratura es: 5.026548245743669 con un error de: 5.580589596813811e-14\n"
     ]
    }
   ],
   "source": [
    "#Y por último procedo a integrar, defino al integrando\n",
    "\n",
    "def integrando(x,p):\n",
    "  y=2*np.pi*x*p\n",
    "  return y\n",
    "\n",
    "#Y calculo la integral\n",
    "\n",
    "a=np.min(x)\n",
    "b=np.max(x)\n",
    "\n",
    "m,error=integrate.quad(integrando,a,b,1)\n",
    "\n",
    "print(m)\n",
    "\n",
    "I_trapz=integrate.trapz(2*np.pi*x*p,x)\n",
    "I_simps=integrate.simps(2*np.pi*x*p,x)\n",
    "\n",
    "print(\"La masa por trapecios es:\",I_trapz)\n",
    "print(\"La masa según Simpson es:\",I_simps)\n",
    "print(\"La masa por cuadratura es:\",m, \"con un error de:\", error)\n"
   ]
  },
  {
   "cell_type": "markdown",
   "id": "handy-obligation",
   "metadata": {
    "id": "handy-obligation"
   },
   "source": [
    "# Ejercicio 2"
   ]
  },
  {
   "cell_type": "markdown",
   "id": "broken-belfast",
   "metadata": {
    "id": "broken-belfast"
   },
   "source": [
    "La capacidad calorífica de un gas muy frío se puede aproximar mediante:\n",
    "\n",
    "$$ C_v \\approx \\left (\\frac{dP}{dT} \\right) $$\n",
    "(en las unidades de $ \\left [\\frac {J} {K} \\right] $)\n",
    "\n",
    "Donde $P$ es la presión $ [J / s^3] $ del gas y $ T \\ [K] $ es la temperatura del gas.\n",
    "\n",
    "Los datos para la presión frente a la temperatura se dan en el archivo csv ($ \\textbf{data_pressure_vs_temperature.csv} $).\n",
    "\n",
    "* a) importar los datos usando pandas\n",
    "* b) hacer un gráfico de $P$ vs $T$ (grafico tiene que tener etiquietas)\n",
    "* c) utilizando la derivada numérica, encuentre la capacidad calorífica.\n",
    "* d) hacer un gráfico de $C_v$ vs $T$ (grafico tiene que tener etiquietas)\n",
    "* e) usando el ultimos datos hace una estimacion de Temperatura Critica de este gas (Temperatura Critica es Temperatura de cambio abrupto del comportamiento de Capacidad Termica)\n",
    "\n",
    "*gas muy frío se refiere a un gas Bose no homogéneo, y la teoría que relaciona $ C_v $ y $ P $ se refiere a la Teoría de Variables Globales Termodinámicas. La presión en realidad se llama parámetro de presión."
   ]
  },
  {
   "cell_type": "code",
   "execution_count": 4,
   "id": "MXs3syL-9bT2",
   "metadata": {
    "colab": {
     "base_uri": "https://localhost:8080/"
    },
    "id": "MXs3syL-9bT2",
    "outputId": "2bbc459d-a6af-40b7-a962-5bac43db07a1"
   },
   "outputs": [
    {
     "name": "stdout",
     "output_type": "stream",
     "text": [
      "--2022-09-05 09:46:54--  https://raw.githubusercontent.com/mhemmg/ComputationalNumericalMethods/master/extras/additional_materials/examen_parcial_II_a/data_pressure_vs_temparature.csv\n",
      "Resolving raw.githubusercontent.com (raw.githubusercontent.com)... 185.199.109.133, 185.199.108.133, 185.199.110.133, ...\n",
      "Connecting to raw.githubusercontent.com (raw.githubusercontent.com)|185.199.109.133|:443... connected.\n",
      "HTTP request sent, awaiting response... 200 OK\n",
      "Length: 1412 (1.4K) [text/plain]\n",
      "Saving to: 'data_pressure_vs_temparature.csv.4'\n",
      "\n",
      "data_pressure_vs_te 100%[===================>]   1.38K  --.-KB/s    in 0s      \n",
      "\n",
      "2022-09-05 09:46:54 (10.7 MB/s) - 'data_pressure_vs_temparature.csv.4' saved [1412/1412]\n",
      "\n"
     ]
    }
   ],
   "source": [
    "!wget https://raw.githubusercontent.com/mhemmg/ComputationalNumericalMethods/master/extras/additional_materials/examen_parcial_II_a/data_pressure_vs_temparature.csv"
   ]
  },
  {
   "cell_type": "code",
   "execution_count": 5,
   "id": "written-adrian",
   "metadata": {
    "colab": {
     "base_uri": "https://localhost:8080/",
     "height": 582
    },
    "id": "written-adrian",
    "outputId": "9678bbad-6269-4ffc-ffa3-60005c57fdb2"
   },
   "outputs": [
    {
     "data": {
      "image/png": "[encoded data removed]",
      "text/plain": [
       "<Figure size 720x648 with 1 Axes>"
      ]
     },
     "metadata": {
      "needs_background": "light"
     },
     "output_type": "display_data"
    }
   ],
   "source": [
    "# tu código:\n",
    "\n",
    "df = pd.read_csv (r'data_pressure_vs_temparature.csv')\n",
    "\n",
    "data=df.to_numpy()\n",
    "\n",
    "presion=[];\n",
    "temperatura=[];\n",
    "\n",
    "#Llevo a los datos a dos arreglos que se usar mejor\n",
    "\n",
    "for i in range(0,len(data)):\n",
    "\n",
    "  presion.append(data[i][1]);\n",
    "  temperatura.append(data[i][0]);\n",
    "\n",
    "P=np.array(presion)\n",
    "T=np.array(temperatura)\n",
    "\n",
    "#Procedo a graficar\n",
    "\n",
    "plt.figure()\n",
    "plt.rcParams[\"figure.figsize\"] = (10,9)\n",
    "\n",
    "plt.plot(T,P, 'green')\n",
    "\n",
    "plt.xlabel(\"Temperatura $[T]$\")\n",
    "plt.ylabel(\"Presión $[P] $\")   #luego colo la letra adecuada\n",
    "plt.title(\"Presión vs Temperatura\",fontsize=25)\n",
    "plt.show()\n",
    "\n"
   ]
  },
  {
   "cell_type": "code",
   "execution_count": 6,
   "id": "bwjmEjm8A1Sj",
   "metadata": {
    "colab": {
     "base_uri": "https://localhost:8080/",
     "height": 580
    },
    "id": "bwjmEjm8A1Sj",
    "outputId": "fe0342ce-9a29-4dfc-cb95-ae8b02271adf"
   },
   "outputs": [
    {
     "data": {
      "image/png": "[encoded data removed]",
      "text/plain": [
       "<Figure size 720x648 with 1 Axes>"
      ]
     },
     "metadata": {
      "needs_background": "light"
     },
     "output_type": "display_data"
    }
   ],
   "source": [
    "#Ahora procedo a calcular la capacidad calorífica a volumen constante\n",
    "\n",
    "from scipy import stats\n",
    "\n",
    "dP_dT=np.gradient(P, T)\n",
    "\n",
    "plt.figure()\n",
    "plt.rcParams[\"figure.figsize\"] = (10,9)\n",
    "\n",
    "plt.plot(T,dP_dT, 'red', \"o\")\n",
    "\n",
    "plt.xlabel(\"Temperatura $[T]$\")\n",
    "plt.ylabel(\"Capacidad calorífica $[C_{V}] $\")   #luego colo la letra adecuada\n",
    "plt.title(\"Capacidad calorifica vs Temperatura\",fontsize=25)\n",
    "plt.show()\n",
    "\n",
    "cv=dP_dT\n",
    "\n",
    "\n"
   ]
  },
  {
   "cell_type": "code",
   "execution_count": 7,
   "id": "Ni1synJSE4N4",
   "metadata": {
    "colab": {
     "base_uri": "https://localhost:8080/",
     "height": 597
    },
    "id": "Ni1synJSE4N4",
    "outputId": "2747ae14-8ee9-4bda-a136-8a5d67aa6b69"
   },
   "outputs": [
    {
     "name": "stdout",
     "output_type": "stream",
     "text": [
      "La temperatura crítica obtenida es: 2.3147805092375502e-07\n"
     ]
    },
    {
     "data": {
      "image/png": "[encoded data removed]",
      "text/plain": [
       "<Figure size 720x648 with 1 Axes>"
      ]
     },
     "metadata": {
      "needs_background": "light"
     },
     "output_type": "display_data"
    }
   ],
   "source": [
    "#Por último, calcularé aquella temperatura donde se produce el cambio abrupto de la capacidad calorifica\n",
    "\n",
    "k=np.argmax(cv)\n",
    "\n",
    "print(\"La temperatura crítica obtenida es:\", T[k])\n",
    "\n",
    "plt.figure()\n",
    "plt.rcParams[\"figure.figsize\"] = (10,9)\n",
    "\n",
    "plt.plot(T,dP_dT, 'red', \"o\")\n",
    "\n",
    "plt.xlabel(\"Temperatura $[T]$\")\n",
    "plt.ylabel(\"Capacidad calorífica $[C_{V}] $\")   #luego colo la letra adecuada\n",
    "plt.title(\"Capacidad calorifica vs Temperatura\",fontsize=25)\n",
    "plt.vlines(T[k], np.amin(cv), np.amax(cv), \"blue\",\"--\")\n",
    "plt.hlines(cv[k], np.amin(T), np.amax(T), \"blue\",\"--\")\n",
    "plt.show()\n",
    "\n",
    "\n"
   ]
  },
  {
   "cell_type": "markdown",
   "id": "nominated-beast",
   "metadata": {
    "id": "nominated-beast"
   },
   "source": [
    "# Ejercicio 3"
   ]
  },
  {
   "cell_type": "markdown",
   "id": "regulated-yorkshire",
   "metadata": {
    "id": "regulated-yorkshire"
   },
   "source": [
    "Usando metodo Monte Carlo resuleve el siguiente integral:\n",
    "\n",
    "$$ \\int_{0}^{\\pi/2} \\int_{0}^{1} e^y \\ cos(x) \\ dy \\ dx $$"
   ]
  },
  {
   "cell_type": "code",
   "execution_count": 8,
   "id": "offshore-california",
   "metadata": {
    "colab": {
     "base_uri": "https://localhost:8080/",
     "height": 235
    },
    "id": "offshore-california",
    "outputId": "ce3cf71e-a6d7-474c-908f-5e83437db6a3"
   },
   "outputs": [
    {
     "name": "stdout",
     "output_type": "stream",
     "text": [
      "Se usó un método de montecarlo con 100000  puntos y se repitió 10 veces\n",
      "La media de los resultados obtenidos y su respectiva desviación estándar es:\n",
      "[-0.6966757850098296, -0.6970321425979874, -0.6972278464492706, -0.69355135942123, -0.6946946140395441, -0.6979850452125259, -0.694262238159124, -0.6983688669239714, -0.696605657744929]\n",
      "-0.6962670617287124 0.0015995193247139417\n"
     ]
    }
   ],
   "source": [
    "# tu codigo\n",
    "\n",
    "\n",
    "import random as random\n",
    "\n",
    "a=0\n",
    "b=0.5*np.pi\n",
    "\n",
    "c=0\n",
    "d=1\n",
    "\n",
    "\n",
    "def f(x,y):\n",
    "  z=np.exp(y)*np.cos(x)\n",
    "  return z\n",
    "\n",
    "#Note usted profe que el área de integración es rectangular, por lo cual puedo usar una distribución uniforme para generar un conjunto aleatorio de entradas\n",
    "\n",
    "A=(b-a)*(c-d)\n",
    "\n",
    "n=100000\n",
    "N=10\n",
    "\n",
    "results=[]\n",
    "for i in range(1,N,1):\n",
    "\n",
    "  S=0\n",
    "  for i in range(0,n,1):\n",
    "    S=S+f(np.random.uniform(a,b),np.random.uniform(c,d))\n",
    "\n",
    "  results.append((1/A)*(S/n))\n",
    "\n",
    "print(\"Se usó un método de montecarlo con\", n, \" puntos y se repitió\", N ,\"veces\")\n",
    "print(\"La media de los resultados obtenidos y su respectiva desviación estándar es:\")\n",
    "print(results)\n",
    "print(np.mean(results), np.std(results))\n",
    "\n"
   ]
  },
  {
   "cell_type": "markdown",
   "id": "precious-brook",
   "metadata": {
    "id": "precious-brook"
   },
   "source": [
    "# Ejercicio 4"
   ]
  },
  {
   "cell_type": "markdown",
   "id": "backed-heritage",
   "metadata": {
    "id": "backed-heritage"
   },
   "source": [
    "Resuelve siguiente integral (muestra el error de solucion):\n",
    "\n",
    "$$ \\int_{0}^{10}\\frac{x^3}{x^4+16} dx$$"
   ]
  },
  {
   "cell_type": "code",
   "execution_count": 9,
   "id": "electronic-spread",
   "metadata": {
    "colab": {
     "base_uri": "https://localhost:8080/"
    },
    "id": "electronic-spread",
    "outputId": "da8a67c2-1b8c-40c4-d400-58576216d5b8"
   },
   "outputs": [
    {
     "name": "stdout",
     "output_type": "stream",
     "text": [
      "La integral de la función estimada con cuadratura gaussiana es: 1.6098375927750248\n",
      "y su error es: 1.405084939945598e-09\n"
     ]
    }
   ],
   "source": [
    "# tu código\n",
    "\n",
    "\n",
    "def f(x):\n",
    "  y=(x**3)/(x**4+16)\n",
    "  return y\n",
    "\n",
    "a=0\n",
    "b=10\n",
    "\n",
    "A=1\n",
    "I,e=integrate.quad(f,a,b)\n",
    "\n",
    "print(\"La integral de la función estimada con cuadratura gaussiana es:\", I)\n",
    "print(\"y su error es:\", e)\n",
    "\n",
    "\n"
   ]
  },
  {
   "cell_type": "code",
   "execution_count": null,
   "id": "meaning-texture",
   "metadata": {},
   "outputs": [],
   "source": []
  },
  {
   "cell_type": "markdown",
   "id": "coastal-reward",
   "metadata": {},
   "source": [
    "# Feedback:\n",
    "```\n",
    "Exercise 1.\n",
    "Solution + presentation of the results\t            (max 2.5p):\t2.0p\n",
    "- resultado de integracion con QUAD no es correcto\n",
    "\n",
    "Exercise 2.\n",
    "Solution + presentation of the results\t            (max 2.5p):\t2.5p\n",
    "\n",
    "Exercise 3.\n",
    "Solution + presentation of the results\t            (max 2.5p):\t1.0p\n",
    "- resultado corecto es ~1.72\n",
    "\n",
    "Exercise 4 \n",
    "Solution + presentation of the results\t            (max 2.5p):\t2.5p\n",
    "\n",
    "\n",
    "- Total:                                            (max 10.0p):   8.0p\n",
    "```"
   ]
  },
  {
   "cell_type": "code",
   "execution_count": null,
   "id": "material-plasma",
   "metadata": {},
   "outputs": [],
   "source": []
  }
 ],
 "metadata": {
  "colab": {
   "name": "examen_parcial_2_NiloDaniel.ipynb",
   "provenance": []
  },
  "kernelspec": {
   "display_name": "Python 3",
   "language": "python",
   "name": "python3"
  },
  "language_info": {
   "codemirror_mode": {
    "name": "ipython",
    "version": 3
   },
   "file_extension": ".py",
   "mimetype": "text/x-python",
   "name": "python",
   "nbconvert_exporter": "python",
   "pygments_lexer": "ipython3",
   "version": "3.7.2"
  }
 },
 "nbformat": 4,
 "nbformat_minor": 5
}

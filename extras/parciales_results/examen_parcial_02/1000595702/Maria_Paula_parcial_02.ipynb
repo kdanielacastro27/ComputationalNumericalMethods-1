{
 "cells": [
  {
   "cell_type": "markdown",
   "metadata": {
    "id": "vxQumV4fRQkT"
   },
   "source": [
    "#Examen parcial 2 (calculo numerico y algebra lineal):\n",
    "\n"
   ]
  },
  {
   "cell_type": "markdown",
   "metadata": {
    "id": "Oog-PTBOO3e1"
   },
   "source": [
    "María Paula Rubiano Núñez\n",
    "\n",
    "Métodos Computacionales"
   ]
  },
  {
   "cell_type": "code",
   "execution_count": 1,
   "metadata": {
    "id": "dkulb9YZO0nc"
   },
   "outputs": [],
   "source": [
    "import pandas as pd\n",
    "import numpy as np\n",
    "import matplotlib.pyplot as plt"
   ]
  },
  {
   "cell_type": "markdown",
   "metadata": {
    "id": "fsuSZS8fbwhy"
   },
   "source": [
    "a) importar los datos usando Pandas, graficar la densidad del disco frente a su radio (los gráficos deben tener etiquetas para el eje x y el eje y)."
   ]
  },
  {
   "cell_type": "code",
   "execution_count": 2,
   "metadata": {
    "colab": {
     "base_uri": "https://localhost:8080/"
    },
    "id": "7Z1tXok7b-R4",
    "outputId": "96fcc361-ecf3-461a-8639-d233a0d51d43"
   },
   "outputs": [
    {
     "name": "stdout",
     "output_type": "stream",
     "text": [
      "--2022-09-05 09:33:17--  https://raw.githubusercontent.com/mhemmg/ComputationalNumericalMethods/master/extras/additional_materials/examen_parcial_II_a/data_radius_density.csv\n",
      "Resolving raw.githubusercontent.com (raw.githubusercontent.com)... 185.199.111.133, 185.199.109.133, 185.199.108.133, ...\n",
      "Connecting to raw.githubusercontent.com (raw.githubusercontent.com)|185.199.111.133|:443... connected.\n",
      "HTTP request sent, awaiting response... 200 OK\n",
      "Length: 3702 (3.6K) [text/plain]\n",
      "Saving to: 'data_radius_density.csv'\n",
      "\n",
      "data_radius_density 100%[===================>]   3.62K  --.-KB/s    in 0s      \n",
      "\n",
      "2022-09-05 09:33:17 (9.82 MB/s) - 'data_radius_density.csv' saved [3702/3702]\n",
      "\n"
     ]
    }
   ],
   "source": [
    "!wget https://raw.githubusercontent.com/mhemmg/ComputationalNumericalMethods/master/extras/additional_materials/examen_parcial_II_a/data_radius_density.csv"
   ]
  },
  {
   "cell_type": "code",
   "execution_count": 3,
   "metadata": {
    "id": "oZTc5rtncQXe"
   },
   "outputs": [],
   "source": [
    "radius_density = pd.read_csv(\"data_radius_density.csv\", sep=',')"
   ]
  },
  {
   "cell_type": "code",
   "execution_count": 4,
   "metadata": {
    "colab": {
     "base_uri": "https://localhost:8080/",
     "height": 206
    },
    "id": "aJ8vUUlFcgEv",
    "outputId": "8c7bd0ff-ffd8-47e3-ab94-ec1829cef829"
   },
   "outputs": [
    {
     "data": {
      "text/html": [
       "<div>\n",
       "<style scoped>\n",
       "    .dataframe tbody tr th:only-of-type {\n",
       "        vertical-align: middle;\n",
       "    }\n",
       "\n",
       "    .dataframe tbody tr th {\n",
       "        vertical-align: top;\n",
       "    }\n",
       "\n",
       "    .dataframe thead th {\n",
       "        text-align: right;\n",
       "    }\n",
       "</style>\n",
       "<table border=\"1\" class=\"dataframe\">\n",
       "  <thead>\n",
       "    <tr style=\"text-align: right;\">\n",
       "      <th></th>\n",
       "      <th>radius</th>\n",
       "      <th>density</th>\n",
       "    </tr>\n",
       "  </thead>\n",
       "  <tbody>\n",
       "    <tr>\n",
       "      <th>0</th>\n",
       "      <td>0.000000</td>\n",
       "      <td>0.000000</td>\n",
       "    </tr>\n",
       "    <tr>\n",
       "      <th>1</th>\n",
       "      <td>0.040404</td>\n",
       "      <td>0.201008</td>\n",
       "    </tr>\n",
       "    <tr>\n",
       "      <th>2</th>\n",
       "      <td>0.080808</td>\n",
       "      <td>0.284268</td>\n",
       "    </tr>\n",
       "    <tr>\n",
       "      <th>3</th>\n",
       "      <td>0.121212</td>\n",
       "      <td>0.348155</td>\n",
       "    </tr>\n",
       "    <tr>\n",
       "      <th>4</th>\n",
       "      <td>0.161616</td>\n",
       "      <td>0.402015</td>\n",
       "    </tr>\n",
       "  </tbody>\n",
       "</table>\n",
       "</div>"
      ],
      "text/plain": [
       "     radius   density\n",
       "0  0.000000  0.000000\n",
       "1  0.040404  0.201008\n",
       "2  0.080808  0.284268\n",
       "3  0.121212  0.348155\n",
       "4  0.161616  0.402015"
      ]
     },
     "execution_count": 4,
     "metadata": {},
     "output_type": "execute_result"
    }
   ],
   "source": [
    "radius_density.head()"
   ]
  },
  {
   "cell_type": "code",
   "execution_count": 5,
   "metadata": {
    "id": "j9JJjCyMcbZG"
   },
   "outputs": [],
   "source": [
    "radius = radius_density['radius'].to_numpy()\n",
    "density = radius_density['density']"
   ]
  },
  {
   "cell_type": "code",
   "execution_count": 6,
   "metadata": {
    "colab": {
     "base_uri": "https://localhost:8080/",
     "height": 295
    },
    "id": "SlXAP-zicu5P",
    "outputId": "64a95d34-0a31-45ca-960a-f2ed74adf807"
   },
   "outputs": [
    {
     "data": {
      "image/png": "[encoded data removed]",
      "text/plain": [
       "<Figure size 432x288 with 1 Axes>"
      ]
     },
     "metadata": {
      "needs_background": "light"
     },
     "output_type": "display_data"
    }
   ],
   "source": [
    "fig,ax=plt.subplots(1,1)\n",
    "ax.set_xlabel(\"Radius\")\n",
    "ax.set_ylabel(\"Density\")\n",
    "ax.set_title(\"Radio del disco vs Densidad del disco\") \n",
    "ax.plot(radius, density, '.', color='c', label=\"Radius vs Density\")\n",
    "ax.legend()\n",
    "ax.grid()"
   ]
  },
  {
   "cell_type": "markdown",
   "metadata": {
    "id": "uKNZZ86qdPvK"
   },
   "source": [
    "b) sabiendo que la masa del disco viene dada por una integral: \n",
    "\n",
    "$m = \\int_0^{r} 2 \\pi \\ r * \\rho (r) \\ dr$\n",
    "\n",
    "calcular la masa del disco mediante integración numérica"
   ]
  },
  {
   "cell_type": "code",
   "execution_count": 7,
   "metadata": {
    "id": "lHajFrSmdO6z"
   },
   "outputs": [],
   "source": [
    "import scipy.integrate"
   ]
  },
  {
   "cell_type": "code",
   "execution_count": 8,
   "metadata": {
    "colab": {
     "base_uri": "https://localhost:8080/"
    },
    "id": "ffxVHq0sfgVx",
    "outputId": "5557293c-0f67-4228-e2e3-102ae372c2c5"
   },
   "outputs": [
    {
     "data": {
      "text/plain": [
       "80.42728369193307"
      ]
     },
     "execution_count": 8,
     "metadata": {},
     "output_type": "execute_result"
    }
   ],
   "source": [
    "I_trapz = scipy.integrate.trapz(2*np.pi*radius*density,radius)\n",
    "I_trapz"
   ]
  },
  {
   "cell_type": "markdown",
   "metadata": {
    "id": "2vmldy2_RPoD"
   },
   "source": [
    "##Ejercicio 2:\n",
    "\n",
    "$C_v \\approx \\left (\\frac{dP}{dT} \\right)$"
   ]
  },
  {
   "cell_type": "code",
   "execution_count": 9,
   "metadata": {
    "colab": {
     "base_uri": "https://localhost:8080/"
    },
    "id": "ekFI6uRgQeo5",
    "outputId": "618df573-2718-4ab9-c565-cf4a6eb8d1cf"
   },
   "outputs": [
    {
     "name": "stdout",
     "output_type": "stream",
     "text": [
      "--2022-09-05 09:33:18--  https://raw.githubusercontent.com/mhemmg/ComputationalNumericalMethods/master/extras/additional_materials/examen_parcial_II_a/data_pressure_vs_temparature.csv\n",
      "Resolving raw.githubusercontent.com (raw.githubusercontent.com)... 185.199.110.133, 185.199.111.133, 185.199.108.133, ...\n",
      "Connecting to raw.githubusercontent.com (raw.githubusercontent.com)|185.199.110.133|:443... connected.\n",
      "HTTP request sent, awaiting response... 200 OK\n",
      "Length: 1412 (1.4K) [text/plain]\n",
      "Saving to: 'data_pressure_vs_temparature.csv'\n",
      "\n",
      "data_pressure_vs_te 100%[===================>]   1.38K  --.-KB/s    in 0s      \n",
      "\n",
      "2022-09-05 09:33:18 (9.79 MB/s) - 'data_pressure_vs_temparature.csv' saved [1412/1412]\n",
      "\n"
     ]
    }
   ],
   "source": [
    "!wget https://raw.githubusercontent.com/mhemmg/ComputationalNumericalMethods/master/extras/additional_materials/examen_parcial_II_a/data_pressure_vs_temparature.csv"
   ]
  },
  {
   "cell_type": "code",
   "execution_count": 10,
   "metadata": {
    "id": "T_gSC8GCQ3pc"
   },
   "outputs": [],
   "source": [
    "datos = pd.read_csv(\"data_pressure_vs_temparature.csv\", sep=',')"
   ]
  },
  {
   "cell_type": "code",
   "execution_count": 11,
   "metadata": {
    "colab": {
     "base_uri": "https://localhost:8080/",
     "height": 206
    },
    "id": "8I9StV94WOnd",
    "outputId": "420b4206-2dcc-42f8-f248-cbebb8bf5d9c"
   },
   "outputs": [
    {
     "data": {
      "text/html": [
       "<div>\n",
       "<style scoped>\n",
       "    .dataframe tbody tr th:only-of-type {\n",
       "        vertical-align: middle;\n",
       "    }\n",
       "\n",
       "    .dataframe tbody tr th {\n",
       "        vertical-align: top;\n",
       "    }\n",
       "\n",
       "    .dataframe thead th {\n",
       "        text-align: right;\n",
       "    }\n",
       "</style>\n",
       "<table border=\"1\" class=\"dataframe\">\n",
       "  <thead>\n",
       "    <tr style=\"text-align: right;\">\n",
       "      <th></th>\n",
       "      <th>Temperature</th>\n",
       "      <th>Pressure</th>\n",
       "    </tr>\n",
       "  </thead>\n",
       "  <tbody>\n",
       "    <tr>\n",
       "      <th>0</th>\n",
       "      <td>4.789201e-08</td>\n",
       "      <td>1.958251e-17</td>\n",
       "    </tr>\n",
       "    <tr>\n",
       "      <th>1</th>\n",
       "      <td>6.625061e-08</td>\n",
       "      <td>2.055515e-17</td>\n",
       "    </tr>\n",
       "    <tr>\n",
       "      <th>2</th>\n",
       "      <td>8.460922e-08</td>\n",
       "      <td>2.237848e-17</td>\n",
       "    </tr>\n",
       "    <tr>\n",
       "      <th>3</th>\n",
       "      <td>1.029678e-07</td>\n",
       "      <td>2.534132e-17</td>\n",
       "    </tr>\n",
       "    <tr>\n",
       "      <th>4</th>\n",
       "      <td>1.213264e-07</td>\n",
       "      <td>2.994527e-17</td>\n",
       "    </tr>\n",
       "  </tbody>\n",
       "</table>\n",
       "</div>"
      ],
      "text/plain": [
       "    Temperature      Pressure\n",
       "0  4.789201e-08  1.958251e-17\n",
       "1  6.625061e-08  2.055515e-17\n",
       "2  8.460922e-08  2.237848e-17\n",
       "3  1.029678e-07  2.534132e-17\n",
       "4  1.213264e-07  2.994527e-17"
      ]
     },
     "execution_count": 11,
     "metadata": {},
     "output_type": "execute_result"
    }
   ],
   "source": [
    "datos.head()"
   ]
  },
  {
   "cell_type": "code",
   "execution_count": 12,
   "metadata": {
    "id": "XN3yyvFIWp0o"
   },
   "outputs": [],
   "source": [
    "Temperature = datos['Temperature'].to_numpy()\n",
    "Pressure = datos['Pressure']"
   ]
  },
  {
   "cell_type": "markdown",
   "metadata": {
    "id": "V8_fOnwKXPcX"
   },
   "source": [
    "b) hacer un gráfico de $P$ vs $T$ (grafico tiene que tener etiquietas)"
   ]
  },
  {
   "cell_type": "code",
   "execution_count": 13,
   "metadata": {
    "colab": {
     "base_uri": "https://localhost:8080/",
     "height": 295
    },
    "id": "zbufS5SwWyfu",
    "outputId": "00e5de24-aec5-44b0-bd9d-728e4b2a7258"
   },
   "outputs": [
    {
     "data": {
      "image/png": "[encoded data removed]",
      "text/plain": [
       "<Figure size 432x288 with 1 Axes>"
      ]
     },
     "metadata": {
      "needs_background": "light"
     },
     "output_type": "display_data"
    }
   ],
   "source": [
    "fig,ax=plt.subplots(1,1)\n",
    "ax.set_xlabel(\"Temperature\")\n",
    "ax.set_ylabel(\"Pressure\")\n",
    "ax.set_title(\"Temperature vs Pressure\")\n",
    "ax.plot(Temperature, Pressure, '.', color='black', label=\"Temperature vs Pressure\")\n",
    "ax.legend()\n",
    "ax.grid()"
   ]
  },
  {
   "cell_type": "markdown",
   "metadata": {
    "id": "nVw9ELF0XeHO"
   },
   "source": [
    "c) utilizando la derivada numérica, encuentre la capacidad calorífica."
   ]
  },
  {
   "cell_type": "code",
   "execution_count": 14,
   "metadata": {
    "id": "pZjLdTstXdbF"
   },
   "outputs": [],
   "source": [
    "from scipy import stats"
   ]
  },
  {
   "cell_type": "code",
   "execution_count": 15,
   "metadata": {
    "id": "qvdnhQDwX_3e"
   },
   "outputs": [],
   "source": [
    "C_v=np.gradient(Pressure,Temperature)"
   ]
  },
  {
   "cell_type": "markdown",
   "metadata": {
    "id": "TJd5bpWBZofu"
   },
   "source": [
    "c) hacer un gráfico de $C_v$ vs $T$ (grafico tiene que tener etiquietas)"
   ]
  },
  {
   "cell_type": "code",
   "execution_count": 16,
   "metadata": {
    "colab": {
     "base_uri": "https://localhost:8080/",
     "height": 313
    },
    "id": "j7TkTT17Ym_2",
    "outputId": "fce5b822-aea1-4c90-a523-4187e352770b"
   },
   "outputs": [
    {
     "data": {
      "text/plain": [
       "<matplotlib.legend.Legend at 0x7fa3b9272898>"
      ]
     },
     "execution_count": 16,
     "metadata": {},
     "output_type": "execute_result"
    },
    {
     "data": {
      "image/png": "[encoded data removed]",
      "text/plain": [
       "<Figure size 432x288 with 1 Axes>"
      ]
     },
     "metadata": {
      "needs_background": "light"
     },
     "output_type": "display_data"
    }
   ],
   "source": [
    "fig,ax=plt.subplots(1,1)\n",
    "ax.plot(Temperature,C_v,'.b',label='gradient of the points')\n",
    "ax.set_xlabel('Temperature')\n",
    "ax.set_ylabel('$C_v$')\n",
    "ax.set_title(\"Puntos originales y gradiente de los puntos\")\n",
    "ax.grid()\n",
    "ax.legend()"
   ]
  },
  {
   "cell_type": "markdown",
   "metadata": {
    "id": "hYhUcaBXZD3W"
   },
   "source": [
    "d) usando el ultimos datos hace una estimacion de Temperatura Critica de este gas (Temperatura Critica es Temperatura de cambio abrupto del comportamiento de Capacidad Termica)"
   ]
  },
  {
   "cell_type": "code",
   "execution_count": 17,
   "metadata": {
    "colab": {
     "base_uri": "https://localhost:8080/"
    },
    "id": "rGiAqIIkidfQ",
    "outputId": "743d31e1-d11a-4a78-a91b-3a7a5cd20b21"
   },
   "outputs": [
    {
     "data": {
      "text/plain": [
       "1.1976979318858827e-09"
      ]
     },
     "execution_count": 17,
     "metadata": {},
     "output_type": "execute_result"
    }
   ],
   "source": [
    "np.max(C_v)"
   ]
  },
  {
   "cell_type": "code",
   "execution_count": 18,
   "metadata": {
    "colab": {
     "base_uri": "https://localhost:8080/"
    },
    "id": "nZgDIMYcZ6gn",
    "outputId": "4bb3bde4-7961-4896-dec3-08dbd82ed8af"
   },
   "outputs": [
    {
     "data": {
      "text/plain": [
       "10"
      ]
     },
     "execution_count": 18,
     "metadata": {},
     "output_type": "execute_result"
    }
   ],
   "source": [
    "np.argmax(C_v)"
   ]
  },
  {
   "cell_type": "code",
   "execution_count": 19,
   "metadata": {
    "colab": {
     "base_uri": "https://localhost:8080/"
    },
    "id": "SzYuW1kzo16j",
    "outputId": "d82b95b6-482a-42ae-c946-ef71519ac1fa"
   },
   "outputs": [
    {
     "data": {
      "text/plain": [
       "10"
      ]
     },
     "execution_count": 19,
     "metadata": {},
     "output_type": "execute_result"
    }
   ],
   "source": [
    "np.where(C_v == max(C_v))[0][0]"
   ]
  },
  {
   "cell_type": "markdown",
   "metadata": {
    "id": "eOPjHqDPURNt"
   },
   "source": [
    "##Ejercicio 3:\n",
    "\n",
    "\n",
    "Usando metodo Monte Carlo resuleve el siguiente integral:\n",
    "\n",
    "$\\int_{0}^{\\pi/2} \\int_{0}^{1} e^y \\ cos(x) \\ dy \\ dx$"
   ]
  },
  {
   "cell_type": "code",
   "execution_count": 20,
   "metadata": {
    "colab": {
     "base_uri": "https://localhost:8080/"
    },
    "id": "rrlDjUa2UXfk",
    "outputId": "2cd19de5-1668-4a41-cd96-76e63135b30d"
   },
   "outputs": [
    {
     "name": "stdout",
     "output_type": "stream",
     "text": [
      "1.7167237356305192\n"
     ]
    }
   ],
   "source": [
    "a=0.0\n",
    "b=np.pi*0.5\n",
    "\n",
    "c=0.0\n",
    "d=1\n",
    "\n",
    "N=100000\n",
    "E=0\n",
    "for i in range(N):\n",
    "  x=np.random.uniform(a,b)\n",
    "  y=np.random.uniform(c,d)\n",
    "  E = E + np.exp(y) * np.cos(x)\n",
    "\n",
    "E = E/N\n",
    "I=E*(b-a)/(d-c)\n",
    "print(I)\n"
   ]
  },
  {
   "cell_type": "markdown",
   "metadata": {
    "id": "oN_-9KJqSCwN"
   },
   "source": [
    "#Ejercicio 4:\n",
    "Resuelve siguiente integral (muestra el error de solucion):\n",
    "\n",
    "$\\int_{0}^{10}\\frac{x^3}{x^4+16} dx$"
   ]
  },
  {
   "cell_type": "code",
   "execution_count": 21,
   "metadata": {
    "id": "PP3y5_-pSUO0"
   },
   "outputs": [],
   "source": [
    "from scipy.integrate import quad"
   ]
  },
  {
   "cell_type": "code",
   "execution_count": 22,
   "metadata": {
    "id": "Qj7i7t4ESJVU"
   },
   "outputs": [],
   "source": [
    "def some_func(x):\n",
    "  return x**3/(x**4+16)"
   ]
  },
  {
   "cell_type": "code",
   "execution_count": 23,
   "metadata": {
    "id": "L91BwBBLTEzJ"
   },
   "outputs": [],
   "source": [
    "def my_simps(some_func,a,b,n):\n",
    "  h = (b - a)/ float(n)\n",
    "  S = 0.0\n",
    "  for i in range(1, int(n)):\n",
    "      x = a + i * h\n",
    "      if (i%2==0):\n",
    "          S = S + 2 * some_func(x)\n",
    "      else:\n",
    "          S = S + 4 * some_func(x)\n",
    "  S = S + some_func(a) + some_func(b) \n",
    "  result = S * h/3\n",
    "  return result"
   ]
  },
  {
   "cell_type": "code",
   "execution_count": 24,
   "metadata": {
    "colab": {
     "base_uri": "https://localhost:8080/"
    },
    "id": "ofA04X7-SPYf",
    "outputId": "7b02aee7-e479-4f0c-bc40-a60593c3c663"
   },
   "outputs": [
    {
     "data": {
      "text/plain": [
       "1.60983759275416"
      ]
     },
     "execution_count": 24,
     "metadata": {},
     "output_type": "execute_result"
    }
   ],
   "source": [
    "my_simps(some_func,0,10,1000)"
   ]
  },
  {
   "cell_type": "code",
   "execution_count": 25,
   "metadata": {
    "colab": {
     "base_uri": "https://localhost:8080/"
    },
    "id": "kNYfqEPFSq7D",
    "outputId": "f504df42-8cb3-4322-ad50-e36afb899266"
   },
   "outputs": [
    {
     "data": {
      "text/plain": [
       "(1.6098375927750248, 1.405084939945598e-09)"
      ]
     },
     "execution_count": 25,
     "metadata": {},
     "output_type": "execute_result"
    }
   ],
   "source": [
    "quad(some_func,0,10)"
   ]
  },
  {
   "cell_type": "markdown",
   "metadata": {},
   "source": [
    "# Feedback:\n",
    "```\n",
    "Exercise 1.\n",
    "Solution + presentation of the results\t            (max 2.5p):\t2.5p\n",
    "\n",
    "Exercise 2.\n",
    "Solution + presentation of the results\t            (max 2.5p):\t1.5p\n",
    "* falta temperatura critica\n",
    "\n",
    "Exercise 3.\n",
    "Solution + presentation of the results\t            (max 2.5p):\t2.5p\n",
    "\n",
    "Exercise 4 \n",
    "Solution + presentation of the results\t            (max 2.5p):\t2.5p\n",
    "\n",
    "\n",
    "\n",
    "\n",
    "- Total:                                              (max 10.0p):   9.0p\n",
    "```"
   ]
  },
  {
   "cell_type": "code",
   "execution_count": null,
   "metadata": {},
   "outputs": [],
   "source": []
  }
 ],
 "metadata": {
  "colab": {
   "name": "parcial_02.ipynb",
   "provenance": []
  },
  "kernelspec": {
   "display_name": "Python 3",
   "language": "python",
   "name": "python3"
  },
  "language_info": {
   "codemirror_mode": {
    "name": "ipython",
    "version": 3
   },
   "file_extension": ".py",
   "mimetype": "text/x-python",
   "name": "python",
   "nbconvert_exporter": "python",
   "pygments_lexer": "ipython3",
   "version": "3.7.2"
  }
 },
 "nbformat": 4,
 "nbformat_minor": 1
}

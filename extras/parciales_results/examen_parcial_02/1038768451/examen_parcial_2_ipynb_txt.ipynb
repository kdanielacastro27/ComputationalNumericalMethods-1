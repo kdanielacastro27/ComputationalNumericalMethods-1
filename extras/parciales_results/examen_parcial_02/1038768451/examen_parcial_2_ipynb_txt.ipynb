{
 "cells": [
  {
   "cell_type": "markdown",
   "id": "plain-rugby",
   "metadata": {
    "id": "plain-rugby"
   },
   "source": [
    "# Examen parcial 2 (calculo numerico y algebra lineal)\n",
    "* Antes de enviar el archivo, $\\textbf{reiniciar y ejecutar el kernel}$ para ver que el archivo se compila sin errores\n",
    "* enviar el archivo jupyter sin anexos antes de las 09.59am del 30.08.2022 a mi dirección de correo electrónico: michal.hemmerling@udea.edu.co "
   ]
  },
  {
   "cell_type": "markdown",
   "id": "usual-washer",
   "metadata": {
    "id": "usual-washer"
   },
   "source": [
    "# Ejercicio 1"
   ]
  },
  {
   "cell_type": "markdown",
   "id": "pretty-conference",
   "metadata": {
    "id": "pretty-conference"
   },
   "source": [
    "El archivo $\\textbf{data_radius_density.csv}$ contiene dos columnas: radio ($ r $) y la densidad ($ \\rho (r) $) de un disco plano en función del radio\n",
    "\n",
    "El disco es lo suficientemente delgado como para que, con fines matemáticos, podamos tratarlo como un objeto bidimensional. Asumimos que la densidad se da en términos de masa por unidad de área (llamada densidad de área), y además asumimos que la densidad varía solo a lo largo del radio del disco (llamada densidad radial). Orientamos el disco en el plano xy, con el centro en el origen. Entonces, la densidad del disco puede ser tratada como una función de x, denotada $\\rho(x)$.\n",
    "<table><tr>\n",
    "<td> <img src=\"disk_radius_density.png\" width=\"500\" /> </td>\n",
    "</tr></table>   \n",
    "\n",
    "* a) importar los datos usando Pandas, graficar la densidad del disco frente a su radio (los gráficos deben tener etiquetas para el eje `x` y el eje `y`).\n",
    "\n",
    "* b) sabiendo que la masa del disco viene dada por una integral:\n",
    "$$ m = \\int_0^{r} 2 \\pi \\ r * \\rho (r) \\ dr $$\n",
    "     calcular la masa del disco mediante integración numérica  \n",
    "(*masa total del disco es una suma de masas de anillos con grosura dr)     "
   ]
  },
  {
   "cell_type": "code",
   "execution_count": 1,
   "id": "valuable-august",
   "metadata": {
    "id": "valuable-august"
   },
   "outputs": [],
   "source": [
    "import numpy as np\n",
    "import matplotlib.pyplot as plt\n",
    "import pandas as pd"
   ]
  },
  {
   "cell_type": "code",
   "execution_count": 2,
   "id": "Orwk15RDSw4O",
   "metadata": {
    "colab": {
     "base_uri": "https://localhost:8080/"
    },
    "id": "Orwk15RDSw4O",
    "outputId": "b423cf15-3207-496a-908f-d63efdebb241"
   },
   "outputs": [
    {
     "name": "stdout",
     "output_type": "stream",
     "text": [
      "--2022-09-05 13:45:23--  https://raw.githubusercontent.com/mhemmg/ComputationalNumericalMethods/master/extras/additional_materials/examen_parcial_II_a/data_radius_density.csv\n",
      "Resolving raw.githubusercontent.com (raw.githubusercontent.com)... 185.199.111.133, 185.199.108.133, 185.199.110.133, ...\n",
      "Connecting to raw.githubusercontent.com (raw.githubusercontent.com)|185.199.111.133|:443... connected.\n",
      "HTTP request sent, awaiting response... 200 OK\n",
      "Length: 3702 (3.6K) [text/plain]\n",
      "Saving to: 'data_radius_density.csv.1'\n",
      "\n",
      "data_radius_density 100%[===================>]   3.62K  --.-KB/s    in 0s      \n",
      "\n",
      "2022-09-05 13:45:23 (8.53 MB/s) - 'data_radius_density.csv.1' saved [3702/3702]\n",
      "\n"
     ]
    }
   ],
   "source": [
    "! wget https://raw.githubusercontent.com/mhemmg/ComputationalNumericalMethods/master/extras/additional_materials/examen_parcial_II_a/data_radius_density.csv"
   ]
  },
  {
   "cell_type": "code",
   "execution_count": 3,
   "id": "LdCkIIejTAUe",
   "metadata": {
    "colab": {
     "base_uri": "https://localhost:8080/"
    },
    "id": "LdCkIIejTAUe",
    "outputId": "00b7d53c-f2ed-41c0-8bba-ab85734ab8be"
   },
   "outputs": [
    {
     "name": "stdout",
     "output_type": "stream",
     "text": [
      "data_pressure_vs_temparature.csv  disk_radius_density.png\r\n",
      "data_radius_density.csv\t\t  examen_parcial_2_ipynb_txt.ipynb\r\n",
      "data_radius_density.csv.1\r\n"
     ]
    }
   ],
   "source": [
    "! ls"
   ]
  },
  {
   "cell_type": "code",
   "execution_count": 4,
   "id": "bNrSN8TUTMWH",
   "metadata": {
    "colab": {
     "base_uri": "https://localhost:8080/",
     "height": 206
    },
    "id": "bNrSN8TUTMWH",
    "outputId": "4db57c1d-467f-454c-bd41-668bf8f7e063"
   },
   "outputs": [
    {
     "data": {
      "text/html": [
       "<div>\n",
       "<style scoped>\n",
       "    .dataframe tbody tr th:only-of-type {\n",
       "        vertical-align: middle;\n",
       "    }\n",
       "\n",
       "    .dataframe tbody tr th {\n",
       "        vertical-align: top;\n",
       "    }\n",
       "\n",
       "    .dataframe thead th {\n",
       "        text-align: right;\n",
       "    }\n",
       "</style>\n",
       "<table border=\"1\" class=\"dataframe\">\n",
       "  <thead>\n",
       "    <tr style=\"text-align: right;\">\n",
       "      <th></th>\n",
       "      <th>radius</th>\n",
       "      <th>density</th>\n",
       "    </tr>\n",
       "  </thead>\n",
       "  <tbody>\n",
       "    <tr>\n",
       "      <th>0</th>\n",
       "      <td>0.000000</td>\n",
       "      <td>0.000000</td>\n",
       "    </tr>\n",
       "    <tr>\n",
       "      <th>1</th>\n",
       "      <td>0.040404</td>\n",
       "      <td>0.201008</td>\n",
       "    </tr>\n",
       "    <tr>\n",
       "      <th>2</th>\n",
       "      <td>0.080808</td>\n",
       "      <td>0.284268</td>\n",
       "    </tr>\n",
       "    <tr>\n",
       "      <th>3</th>\n",
       "      <td>0.121212</td>\n",
       "      <td>0.348155</td>\n",
       "    </tr>\n",
       "    <tr>\n",
       "      <th>4</th>\n",
       "      <td>0.161616</td>\n",
       "      <td>0.402015</td>\n",
       "    </tr>\n",
       "  </tbody>\n",
       "</table>\n",
       "</div>"
      ],
      "text/plain": [
       "     radius   density\n",
       "0  0.000000  0.000000\n",
       "1  0.040404  0.201008\n",
       "2  0.080808  0.284268\n",
       "3  0.121212  0.348155\n",
       "4  0.161616  0.402015"
      ]
     },
     "execution_count": 4,
     "metadata": {},
     "output_type": "execute_result"
    }
   ],
   "source": [
    "df = pd.read_csv('data_radius_density.csv')\n",
    "df.head()"
   ]
  },
  {
   "cell_type": "code",
   "execution_count": 5,
   "id": "phVTUhqsTa49",
   "metadata": {
    "colab": {
     "base_uri": "https://localhost:8080/"
    },
    "id": "phVTUhqsTa49",
    "outputId": "29900092-1862-4667-f6b1-d33afcfc9368"
   },
   "outputs": [
    {
     "name": "stdout",
     "output_type": "stream",
     "text": [
      "[0.         0.04040404 0.08080808 0.12121212 0.16161616 0.2020202\n",
      " 0.24242424 0.28282828 0.32323232 0.36363636 0.4040404  0.44444444\n",
      " 0.48484848 0.52525253 0.56565657 0.60606061 0.64646465 0.68686869\n",
      " 0.72727273 0.76767677 0.80808081 0.84848485 0.88888889 0.92929293\n",
      " 0.96969697 1.01010101 1.05050505 1.09090909 1.13131313 1.17171717\n",
      " 1.21212121 1.25252525 1.29292929 1.33333333 1.37373737 1.41414141\n",
      " 1.45454545 1.49494949 1.53535354 1.57575758 1.61616162 1.65656566\n",
      " 1.6969697  1.73737374 1.77777778 1.81818182 1.85858586 1.8989899\n",
      " 1.93939394 1.97979798 2.02020202 2.06060606 2.1010101  2.14141414\n",
      " 2.18181818 2.22222222 2.26262626 2.3030303  2.34343434 2.38383838\n",
      " 2.42424242 2.46464646 2.50505051 2.54545455 2.58585859 2.62626263\n",
      " 2.66666667 2.70707071 2.74747475 2.78787879 2.82828283 2.86868687\n",
      " 2.90909091 2.94949495 2.98989899 3.03030303 3.07070707 3.11111111\n",
      " 3.15151515 3.19191919 3.23232323 3.27272727 3.31313131 3.35353535\n",
      " 3.39393939 3.43434343 3.47474747 3.51515152 3.55555556 3.5959596\n",
      " 3.63636364 3.67676768 3.71717172 3.75757576 3.7979798  3.83838384\n",
      " 3.87878788 3.91919192 3.95959596 4.        ]\n",
      "[0.         0.20100756 0.28426762 0.34815531 0.40201513 0.44946657\n",
      " 0.49236596 0.53181602 0.56853524 0.60302269 0.63564173 0.66666667\n",
      " 0.69631062 0.72474308 0.75210143 0.77849894 0.80403025 0.82877541\n",
      " 0.85280287 0.87617165 0.89893315 0.92113237 0.94280904 0.96399841\n",
      " 0.98473193 1.00503782 1.02494149 1.04446594 1.06363205 1.08245885\n",
      " 1.10096377 1.11916275 1.13707049 1.15470054 1.17206543 1.18917678\n",
      " 1.20604538 1.22268127 1.23909384 1.25529183 1.27128345 1.2870764\n",
      " 1.30267789 1.31809474 1.33333333 1.34839972 1.36329962 1.37803842\n",
      " 1.39262125 1.40705294 1.42133811 1.43548113 1.44948615 1.46335715\n",
      " 1.47709789 1.49071198 1.50420287 1.51757382 1.53082799 1.54396839\n",
      " 1.55699789 1.56991925 1.58273513 1.59544807 1.6080605  1.62057478\n",
      " 1.63299316 1.64531781 1.65755083 1.66969422 1.68174993 1.69371983\n",
      " 1.70560573 1.71740937 1.72913244 1.74077656 1.75234331 1.76383421\n",
      " 1.77525073 1.7865943  1.7978663  1.80906807 1.8202009  1.83126605\n",
      " 1.84226475 1.85319816 1.86406745 1.87487373 1.88561808 1.89630156\n",
      " 1.90692518 1.91748994 1.92799681 1.93844674 1.94884063 1.95917938\n",
      " 1.96946386 1.97969491 1.98987335 2.        ]\n"
     ]
    }
   ],
   "source": [
    "radio = df['radius']\n",
    "radio = np.array(radio)\n",
    "densidad = df['density']\n",
    "densidad = np.array(densidad)\n",
    "print(radio)\n",
    "print(densidad)"
   ]
  },
  {
   "cell_type": "code",
   "execution_count": 6,
   "id": "DMcjQHIsT2DU",
   "metadata": {
    "colab": {
     "base_uri": "https://localhost:8080/",
     "height": 530
    },
    "id": "DMcjQHIsT2DU",
    "outputId": "f457d504-165d-4d47-bc44-bbb0fee51947"
   },
   "outputs": [
    {
     "data": {
      "text/plain": [
       "Text(0.5, 1.0, 'Radio vs Densidad')"
      ]
     },
     "execution_count": 6,
     "metadata": {},
     "output_type": "execute_result"
    },
    {
     "data": {
      "image/png": "[encoded data removed]",
      "text/plain": [
       "<Figure size 720x576 with 1 Axes>"
      ]
     },
     "metadata": {
      "needs_background": "light"
     },
     "output_type": "display_data"
    }
   ],
   "source": [
    "fig,ax=plt.subplots(1,1,figsize=(10,8))\n",
    "ax.scatter(radio,densidad,color='green',label='Datos')\n",
    "ax.grid('True')\n",
    "ax.set_xlabel('Radio')\n",
    "ax.set_ylabel('Densidad')\n",
    "plt.title('Radio vs Densidad')"
   ]
  },
  {
   "cell_type": "code",
   "execution_count": 7,
   "id": "G9Rsk5n2VJbC",
   "metadata": {
    "id": "G9Rsk5n2VJbC"
   },
   "outputs": [],
   "source": [
    "import scipy.integrate"
   ]
  },
  {
   "cell_type": "code",
   "execution_count": 8,
   "id": "a_kTzphfXywb",
   "metadata": {
    "colab": {
     "base_uri": "https://localhost:8080/"
    },
    "id": "a_kTzphfXywb",
    "outputId": "a2049498-9e92-45e8-d08c-74b3380e3fbc"
   },
   "outputs": [
    {
     "name": "stdout",
     "output_type": "stream",
     "text": [
      "[0.         0.00812152 0.02297112 0.04220064 0.06497214 0.09080133\n",
      " 0.11936145 0.15041261 0.18376897 0.21928098 0.25682494 0.2962963\n",
      " 0.33760515 0.38067313 0.42543111 0.47181754 0.51977713 0.56925988\n",
      " 0.62022027 0.67261662 0.72641063 0.78156686 0.83805248 0.8958369\n",
      " 0.95489157 1.01518971 1.07670621 1.13941738 1.2033009  1.26833563\n",
      " 1.33450153 1.4017796  1.47015174 1.53960072 1.61011009 1.68166413\n",
      " 1.75424782 1.82784675 1.9024471  1.97803561 2.05459952 2.13212656\n",
      " 2.21060491 2.29002318 2.37037037 2.45163586 2.5338094  2.61688105\n",
      " 2.70084121 2.78568057 2.87139012 2.95796111 3.04538504 3.13365369\n",
      " 3.22275904 3.3126933  3.40344891 3.4950185  3.58739489 3.68057111\n",
      " 3.77454034 3.86929594 3.96483145 4.06114054 4.15821706 4.25605498\n",
      " 4.35464843 4.45399166 4.55407904 4.6549051  4.75646445 4.85875184\n",
      " 4.96176213 5.06549027 5.16993133 5.27508048 5.38093299 5.4874842\n",
      " 5.59472957 5.70266463 5.81128501 5.9205864  6.0305646  6.14121545\n",
      " 6.2525349  6.36451895 6.47716368 6.59046524 6.70441985 6.81902378\n",
      " 6.93427338 7.05016504 7.16669523 7.28386047 7.40165734 7.52008246\n",
      " 7.63913253 7.75880428 7.87909449 8.        ]\n"
     ]
    }
   ],
   "source": [
    "integrand = []\n",
    "for i in range(len(radio)):\n",
    "  integrand_i = radio[i]*densidad[i]\n",
    "  integrand.append(integrand_i)\n",
    "integrand = np.array(integrand)\n",
    "print(integrand)\n"
   ]
  },
  {
   "cell_type": "code",
   "execution_count": 9,
   "id": "Ndp2t4lqVWQR",
   "metadata": {
    "colab": {
     "base_uri": "https://localhost:8080/"
    },
    "id": "Ndp2t4lqVWQR",
    "outputId": "729c8db2-2ddf-4f45-c371-1916c5887476"
   },
   "outputs": [
    {
     "name": "stdout",
     "output_type": "stream",
     "text": [
      "La masa del disco es: 80.42728369193308\n"
     ]
    }
   ],
   "source": [
    "I = scipy.integrate.trapz(integrand,radio)\n",
    "r = 4\n",
    "m = 2*np.pi*I\n",
    "print('La masa del disco es:',m)"
   ]
  },
  {
   "cell_type": "markdown",
   "id": "handy-obligation",
   "metadata": {
    "id": "handy-obligation"
   },
   "source": [
    "# Ejercicio 2"
   ]
  },
  {
   "cell_type": "markdown",
   "id": "broken-belfast",
   "metadata": {
    "id": "broken-belfast"
   },
   "source": [
    "La capacidad calorífica de un gas muy frío se puede aproximar mediante:\n",
    "\n",
    "$$ C_v \\approx \\left (\\frac{dP}{dT} \\right) $$\n",
    "(en las unidades de $ \\left [\\frac {J} {K} \\right] $)\n",
    "\n",
    "Donde $P$ es la presión $ [J / s^3] $ del gas y $ T \\ [K] $ es la temperatura del gas.\n",
    "\n",
    "Los datos para la presión frente a la temperatura se dan en el archivo csv ($ \\textbf{data_pressure_vs_temperature.csv} $).\n",
    "\n",
    "* a) importar los datos usando pandas\n",
    "* b) hacer un gráfico de $P$ vs $T$ (grafico tiene que tener etiquietas)\n",
    "* c) utilizando la derivada numérica, encuentre la capacidad calorífica.\n",
    "* d) hacer un gráfico de $C_v$ vs $T$ (grafico tiene que tener etiquietas)\n",
    "* e) usando el ultimos datos hace una estimacion de Temperatura Critica de este gas (Temperatura Critica es Temperatura de cambio abrupto del comportamiento de Capacidad Termica)\n",
    "\n",
    "*gas muy frío se refiere a un gas Bose no homogéneo, y la teoría que relaciona $ C_v $ y $ P $ se refiere a la Teoría de Variables Globales Termodinámicas. La presión en realidad se llama parámetro de presión."
   ]
  },
  {
   "cell_type": "code",
   "execution_count": 10,
   "id": "written-adrian",
   "metadata": {
    "colab": {
     "base_uri": "https://localhost:8080/"
    },
    "id": "written-adrian",
    "outputId": "9f68006d-ca4d-480d-bf28-bd91872e115c"
   },
   "outputs": [
    {
     "name": "stdout",
     "output_type": "stream",
     "text": [
      "--2022-09-05 13:45:24--  https://raw.githubusercontent.com/mhemmg/ComputationalNumericalMethods/master/extras/additional_materials/examen_parcial_II_a/data_pressure_vs_temparature.csv\n",
      "Resolving raw.githubusercontent.com (raw.githubusercontent.com)... 185.199.110.133, 185.199.111.133, 185.199.108.133, ...\n",
      "Connecting to raw.githubusercontent.com (raw.githubusercontent.com)|185.199.110.133|:443... connected.\n",
      "HTTP request sent, awaiting response... 200 OK\n",
      "Length: 1412 (1.4K) [text/plain]\n",
      "Saving to: 'data_pressure_vs_temparature.csv.1'\n",
      "\n",
      "data_pressure_vs_te 100%[===================>]   1.38K  --.-KB/s    in 0s      \n",
      "\n",
      "2022-09-05 13:45:24 (10.2 MB/s) - 'data_pressure_vs_temparature.csv.1' saved [1412/1412]\n",
      "\n"
     ]
    }
   ],
   "source": [
    "! wget https://raw.githubusercontent.com/mhemmg/ComputationalNumericalMethods/master/extras/additional_materials/examen_parcial_II_a/data_pressure_vs_temparature.csv"
   ]
  },
  {
   "cell_type": "code",
   "execution_count": 11,
   "id": "kJ_jYI62eIY0",
   "metadata": {
    "colab": {
     "base_uri": "https://localhost:8080/"
    },
    "id": "kJ_jYI62eIY0",
    "outputId": "5bbf908e-091a-43ae-92a2-f4bd999b637c"
   },
   "outputs": [
    {
     "name": "stdout",
     "output_type": "stream",
     "text": [
      "data_pressure_vs_temparature.csv    data_radius_density.csv.1\r\n",
      "data_pressure_vs_temparature.csv.1  disk_radius_density.png\r\n",
      "data_radius_density.csv\t\t    examen_parcial_2_ipynb_txt.ipynb\r\n"
     ]
    }
   ],
   "source": [
    "! ls"
   ]
  },
  {
   "cell_type": "code",
   "execution_count": 12,
   "id": "5_tAFBG_eJ-0",
   "metadata": {
    "colab": {
     "base_uri": "https://localhost:8080/",
     "height": 206
    },
    "id": "5_tAFBG_eJ-0",
    "outputId": "70a6a0f8-f4df-45dc-9c29-17a8f58be33c"
   },
   "outputs": [
    {
     "data": {
      "text/html": [
       "<div>\n",
       "<style scoped>\n",
       "    .dataframe tbody tr th:only-of-type {\n",
       "        vertical-align: middle;\n",
       "    }\n",
       "\n",
       "    .dataframe tbody tr th {\n",
       "        vertical-align: top;\n",
       "    }\n",
       "\n",
       "    .dataframe thead th {\n",
       "        text-align: right;\n",
       "    }\n",
       "</style>\n",
       "<table border=\"1\" class=\"dataframe\">\n",
       "  <thead>\n",
       "    <tr style=\"text-align: right;\">\n",
       "      <th></th>\n",
       "      <th>Temperature</th>\n",
       "      <th>Pressure</th>\n",
       "    </tr>\n",
       "  </thead>\n",
       "  <tbody>\n",
       "    <tr>\n",
       "      <th>0</th>\n",
       "      <td>4.789201e-08</td>\n",
       "      <td>1.958251e-17</td>\n",
       "    </tr>\n",
       "    <tr>\n",
       "      <th>1</th>\n",
       "      <td>6.625061e-08</td>\n",
       "      <td>2.055515e-17</td>\n",
       "    </tr>\n",
       "    <tr>\n",
       "      <th>2</th>\n",
       "      <td>8.460922e-08</td>\n",
       "      <td>2.237848e-17</td>\n",
       "    </tr>\n",
       "    <tr>\n",
       "      <th>3</th>\n",
       "      <td>1.029678e-07</td>\n",
       "      <td>2.534132e-17</td>\n",
       "    </tr>\n",
       "    <tr>\n",
       "      <th>4</th>\n",
       "      <td>1.213264e-07</td>\n",
       "      <td>2.994527e-17</td>\n",
       "    </tr>\n",
       "  </tbody>\n",
       "</table>\n",
       "</div>"
      ],
      "text/plain": [
       "    Temperature      Pressure\n",
       "0  4.789201e-08  1.958251e-17\n",
       "1  6.625061e-08  2.055515e-17\n",
       "2  8.460922e-08  2.237848e-17\n",
       "3  1.029678e-07  2.534132e-17\n",
       "4  1.213264e-07  2.994527e-17"
      ]
     },
     "execution_count": 12,
     "metadata": {},
     "output_type": "execute_result"
    }
   ],
   "source": [
    "df = pd.read_csv('data_pressure_vs_temparature.csv')\n",
    "df.head()"
   ]
  },
  {
   "cell_type": "code",
   "execution_count": 13,
   "id": "0psLi9yCeU5k",
   "metadata": {
    "colab": {
     "base_uri": "https://localhost:8080/"
    },
    "id": "0psLi9yCeU5k",
    "outputId": "a42e0c8f-3424-441b-e22c-58c3d344af42"
   },
   "outputs": [
    {
     "name": "stdout",
     "output_type": "stream",
     "text": [
      "[4.78920105e-08 6.62506146e-08 8.46092186e-08 1.02967823e-07\n",
      " 1.21326427e-07 1.39685031e-07 1.58043635e-07 1.76402239e-07\n",
      " 1.94760843e-07 2.13119447e-07 2.31478051e-07 2.49836655e-07\n",
      " 2.68195259e-07 2.86553863e-07 3.04912467e-07 3.23271071e-07\n",
      " 3.41629675e-07 3.59988279e-07 3.78346883e-07 3.96705487e-07\n",
      " 4.15064091e-07 4.33422695e-07 4.51781299e-07 4.70139903e-07\n",
      " 4.88498507e-07 5.06857112e-07 5.25215716e-07 5.43574320e-07\n",
      " 5.61932924e-07 5.80291528e-07 5.98650132e-07]\n",
      "[1.95825103e-17 2.05551488e-17 2.23784758e-17 2.53413208e-17\n",
      " 2.99452681e-17 3.68145306e-17 4.64282405e-17 5.89515177e-17\n",
      " 7.44772376e-17 9.34727158e-17 1.15435420e-16 1.37448840e-16\n",
      " 1.53438216e-16 1.67177225e-16 1.80254298e-16 1.92942543e-16\n",
      " 2.05371120e-16 2.17614179e-16 2.29718819e-16 2.41716934e-16\n",
      " 2.53631123e-16 2.65477944e-16 2.77269858e-16 2.89016440e-16\n",
      " 3.00725185e-16 3.12402043e-16 3.24051803e-16 3.35678361e-16\n",
      " 3.47284921e-16 3.58874138e-16 3.70448232e-16]\n"
     ]
    }
   ],
   "source": [
    "T = df['Temperature']\n",
    "T = np.array(T)\n",
    "P = df['Pressure']\n",
    "P = np.array(P)\n",
    "print(T)\n",
    "print(P)"
   ]
  },
  {
   "cell_type": "code",
   "execution_count": 14,
   "id": "WbtqpuxqfK2T",
   "metadata": {
    "colab": {
     "base_uri": "https://localhost:8080/",
     "height": 530
    },
    "id": "WbtqpuxqfK2T",
    "outputId": "05bef3f6-1795-4c7e-d8cf-7da2bfef4763"
   },
   "outputs": [
    {
     "data": {
      "text/plain": [
       "Text(0.5, 1.0, 'P vs T')"
      ]
     },
     "execution_count": 14,
     "metadata": {},
     "output_type": "execute_result"
    },
    {
     "data": {
      "image/png": "[encoded data removed]",
      "text/plain": [
       "<Figure size 720x576 with 1 Axes>"
      ]
     },
     "metadata": {
      "needs_background": "light"
     },
     "output_type": "display_data"
    }
   ],
   "source": [
    "fig,ax=plt.subplots(1,1,figsize=(10,8))\n",
    "ax.scatter(T,P,color='black',label=('Datos'))\n",
    "ax.grid('True')\n",
    "ax.set_xlabel('Temperatura')\n",
    "ax.set_ylabel('Presión')\n",
    "plt.title('P vs T')"
   ]
  },
  {
   "cell_type": "code",
   "execution_count": 15,
   "id": "8tzDlGYdf9pp",
   "metadata": {
    "id": "8tzDlGYdf9pp"
   },
   "outputs": [],
   "source": [
    "from scipy import stats"
   ]
  },
  {
   "cell_type": "code",
   "execution_count": 16,
   "id": "htrOlhargG3I",
   "metadata": {
    "colab": {
     "base_uri": "https://localhost:8080/"
    },
    "id": "htrOlhargG3I",
    "outputId": "e0d01ae0-4222-40a9-aad2-cafe9c1569fd"
   },
   "outputs": [
    {
     "name": "stdout",
     "output_type": "stream",
     "text": [
      "La capacidad calórica del gas es:\n",
      "\n",
      "[5.29799802e-11 7.61486415e-11 1.30352287e-10 2.06082997e-10\n",
      " 3.12475005e-10 4.48916825e-10 6.02904968e-10 7.63919658e-10\n",
      " 9.40191259e-10 1.11550372e-09 1.19769793e-09 1.03501324e-09\n",
      " 8.09658111e-10 7.30340985e-10 7.01723220e-10 6.84061313e-10\n",
      " 6.71936615e-10 6.63114111e-10 6.56443006e-10 6.51256053e-10\n",
      " 6.47135543e-10 6.43805355e-10 6.41075324e-10 6.38810197e-10\n",
      " 6.36911237e-10 6.35304785e-10 6.33934876e-10 6.32758315e-10\n",
      " 6.31741302e-10 6.30857069e-10 6.30445179e-10]\n"
     ]
    }
   ],
   "source": [
    "Cv = np.gradient(P, T)\n",
    "print('La capacidad calórica del gas es:')\n",
    "print()\n",
    "print(Cv)"
   ]
  },
  {
   "cell_type": "code",
   "execution_count": 17,
   "id": "1AxVsipBg-Dn",
   "metadata": {
    "colab": {
     "base_uri": "https://localhost:8080/",
     "height": 530
    },
    "id": "1AxVsipBg-Dn",
    "outputId": "989bb776-b4f9-496e-8576-1f202ec493aa"
   },
   "outputs": [
    {
     "data": {
      "text/plain": [
       "Text(0.5, 1.0, 'Cv vs T')"
      ]
     },
     "execution_count": 17,
     "metadata": {},
     "output_type": "execute_result"
    },
    {
     "data": {
      "image/png": "[encoded data removed]",
      "text/plain": [
       "<Figure size 720x576 with 1 Axes>"
      ]
     },
     "metadata": {
      "needs_background": "light"
     },
     "output_type": "display_data"
    }
   ],
   "source": [
    "fig,ax=plt.subplots(1,1,figsize=(10,8))\n",
    "ax.scatter(T,Cv,color='red',label=('Datos'))\n",
    "ax.grid('True')\n",
    "ax.set_xlabel('Temperatura')\n",
    "ax.set_ylabel('Capacidad calórica')\n",
    "plt.title('Cv vs T')"
   ]
  },
  {
   "cell_type": "code",
   "execution_count": 18,
   "id": "XyFPuYmNmQmz",
   "metadata": {
    "colab": {
     "base_uri": "https://localhost:8080/"
    },
    "id": "XyFPuYmNmQmz",
    "outputId": "50152337-c1d8-4ae7-c003-3d4f414b2d6e"
   },
   "outputs": [
    {
     "name": "stdout",
     "output_type": "stream",
     "text": [
      "10\n"
     ]
    }
   ],
   "source": [
    "indmax = np.argmax(Cv)\n",
    "print(indmax)"
   ]
  },
  {
   "cell_type": "code",
   "execution_count": 19,
   "id": "Db99T7wimff5",
   "metadata": {
    "colab": {
     "base_uri": "https://localhost:8080/"
    },
    "id": "Db99T7wimff5",
    "outputId": "cca89de6-5841-4c8b-91f6-82b88eefc851"
   },
   "outputs": [
    {
     "name": "stdout",
     "output_type": "stream",
     "text": [
      "La temperatura crítica del gas es: T = 2.3147805092375502e-07\n"
     ]
    }
   ],
   "source": [
    "# Índice de x es igual a índice de min\n",
    "print('La temperatura crítica del gas es: T =',T[10])"
   ]
  },
  {
   "cell_type": "markdown",
   "id": "nominated-beast",
   "metadata": {
    "id": "nominated-beast"
   },
   "source": [
    "# Ejercicio 3"
   ]
  },
  {
   "cell_type": "markdown",
   "id": "regulated-yorkshire",
   "metadata": {
    "id": "regulated-yorkshire"
   },
   "source": [
    "Usando metodo Monte Carlo resuleve el siguiente integral:\n",
    "\n",
    "$$ \\int_{0}^{\\pi/2} \\int_{0}^{1} e^y \\ cos(x) \\ dy \\ dx $$"
   ]
  },
  {
   "cell_type": "code",
   "execution_count": 20,
   "id": "offshore-california",
   "metadata": {
    "id": "offshore-california"
   },
   "outputs": [],
   "source": [
    "from scipy import integrate"
   ]
  },
  {
   "cell_type": "code",
   "execution_count": 21,
   "id": "1VimWw55ZfWI",
   "metadata": {
    "id": "1VimWw55ZfWI"
   },
   "outputs": [],
   "source": [
    "def function(*args):\n",
    "  x,y = args\n",
    "  return np.exp(y)*np.cos(x)"
   ]
  },
  {
   "cell_type": "code",
   "execution_count": 22,
   "id": "E3kI2B-xZ7nf",
   "metadata": {
    "colab": {
     "base_uri": "https://localhost:8080/"
    },
    "id": "E3kI2B-xZ7nf",
    "outputId": "72536288-3331-4372-c964-bd7e1b82d4fc"
   },
   "outputs": [
    {
     "name": "stdout",
     "output_type": "stream",
     "text": [
      "El valor de la integral es: 1.7181802601371394\n"
     ]
    }
   ],
   "source": [
    "a = 0\n",
    "b = 0.5*np.pi\n",
    "c = 0\n",
    "d = 1\n",
    "N = 100000\n",
    "\n",
    "E = 0\n",
    "\n",
    "for i in range(N):\n",
    "  x = np.random.uniform(a,b)\n",
    "  y = np.random.uniform(c,d)\n",
    "  E = E + np.exp(y)*np.cos(x)\n",
    "\n",
    "E = E/N\n",
    "In = E*(b-a)*(d-c)\n",
    "print('El valor de la integral es:',In)"
   ]
  },
  {
   "cell_type": "code",
   "execution_count": 23,
   "id": "fMTLbqR_bPvL",
   "metadata": {
    "colab": {
     "base_uri": "https://localhost:8080/"
    },
    "id": "fMTLbqR_bPvL",
    "outputId": "bb34ca3a-4818-4a22-95cd-9e1829ced9d2"
   },
   "outputs": [
    {
     "name": "stdout",
     "output_type": "stream",
     "text": [
      "1.7182818284590453\n"
     ]
    }
   ],
   "source": [
    "I,error=integrate.nquad(function,[[a,b],[c,d]]) # Usando librerías\n",
    "print(I)"
   ]
  },
  {
   "cell_type": "markdown",
   "id": "precious-brook",
   "metadata": {
    "id": "precious-brook"
   },
   "source": [
    "# Ejercicio 4"
   ]
  },
  {
   "cell_type": "markdown",
   "id": "backed-heritage",
   "metadata": {
    "id": "backed-heritage"
   },
   "source": [
    "Resuelve siguiente integral (muestra el error de solucion):\n",
    "\n",
    "$$ \\int_{0}^{10}\\frac{x^3}{x^4+16} dx$$"
   ]
  },
  {
   "cell_type": "code",
   "execution_count": 24,
   "id": "electronic-spread",
   "metadata": {
    "id": "electronic-spread"
   },
   "outputs": [],
   "source": [
    "def funcion(x):\n",
    "  y = (x**3)/(x**4+16)\n",
    "  return y"
   ]
  },
  {
   "cell_type": "code",
   "execution_count": 25,
   "id": "vWb2Z6KacMWR",
   "metadata": {
    "colab": {
     "base_uri": "https://localhost:8080/"
    },
    "id": "vWb2Z6KacMWR",
    "outputId": "4aa17426-cd47-43cb-9bdf-4f713295cba4"
   },
   "outputs": [
    {
     "name": "stdout",
     "output_type": "stream",
     "text": [
      "El valor de la integral es: 1.6098375927750248\n",
      "El error es: 1.405084939945598e-09\n"
     ]
    }
   ],
   "source": [
    "A = 0\n",
    "B = 10\n",
    "I1,error1 = integrate.quad(funcion,A,B) # Usando librerías\n",
    "print('El valor de la integral es:',I1)\n",
    "print('El error es:',error1)"
   ]
  },
  {
   "cell_type": "markdown",
   "id": "flexible-great",
   "metadata": {},
   "source": [
    "# Feedback:\n",
    "```\n",
    "\n",
    "    Exercise 1.\n",
    "    Solution + presentation of the results\t            (max 2.5p):\t2.5p\n",
    "\n",
    "    Exercise 2.\n",
    "    Solution + presentation of the results\t            (max 2.5p):\t2.5p\n",
    "\n",
    "    Exercise 3.\n",
    "    Solution + presentation of the results\t            (max 2.5p):\t2.5p\n",
    "\n",
    "    Exercise 4 \n",
    "    Solution + presentation of the results\t            (max 2.5p):\t2.5p\n",
    "\n",
    "\n",
    "    - Total:                                              (max 10.0p):   10.0p\n",
    "```"
   ]
  },
  {
   "cell_type": "code",
   "execution_count": null,
   "id": "center-looking",
   "metadata": {},
   "outputs": [],
   "source": []
  }
 ],
 "metadata": {
  "colab": {
   "name": "examen_parcial_2.ipynb.txt",
   "provenance": []
  },
  "kernelspec": {
   "display_name": "Python 3",
   "language": "python",
   "name": "python3"
  },
  "language_info": {
   "codemirror_mode": {
    "name": "ipython",
    "version": 3
   },
   "file_extension": ".py",
   "mimetype": "text/x-python",
   "name": "python",
   "nbconvert_exporter": "python",
   "pygments_lexer": "ipython3",
   "version": "3.7.2"
  }
 },
 "nbformat": 4,
 "nbformat_minor": 5
}
